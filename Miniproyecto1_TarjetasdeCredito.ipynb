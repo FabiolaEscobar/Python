{
  "nbformat": 4,
  "nbformat_minor": 0,
  "metadata": {
    "colab": {
      "name": "Miniproyecto1.ipynb",
      "provenance": [],
      "authorship_tag": "ABX9TyNQVsQd0bh3Y+5x5UDCYxVr",
      "include_colab_link": true
    },
    "kernelspec": {
      "name": "python3",
      "display_name": "Python 3"
    },
    "language_info": {
      "name": "python"
    }
  },
  "cells": [
    {
      "cell_type": "markdown",
      "metadata": {
        "id": "view-in-github",
        "colab_type": "text"
      },
      "source": [
        "<a href=\"https://colab.research.google.com/github/FabiolaEscobar/Python/blob/main/Miniproyecto1_TarjetasdeCredito.ipynb\" target=\"_parent\"><img src=\"https://colab.research.google.com/assets/colab-badge.svg\" alt=\"Open In Colab\"/></a>"
      ]
    },
    {
      "cell_type": "markdown",
      "source": [
        "# **Se importan las librerias necesarias**"
      ],
      "metadata": {
        "id": "p7uSpv2DM0Cc"
      }
    },
    {
      "cell_type": "code",
      "source": [
        "import numpy as np\n",
        "import pandas as pd"
      ],
      "metadata": {
        "id": "VWgbsxqxM4Cq"
      },
      "execution_count": 2,
      "outputs": []
    },
    {
      "cell_type": "markdown",
      "source": [
        "# **Se carga y estudia PRIMERA fuente de datos sobre las tarjetas de crédito de los clientes (UCI_Credit_Card_BillATM), contiene 52 registros.**"
      ],
      "metadata": {
        "id": "QZIYoRriM6cZ"
      }
    },
    {
      "cell_type": "code",
      "source": [
        "dfBillATM = pd.read_csv('UCI_Credit_Card_BillATM.csv', sep=',')"
      ],
      "metadata": {
        "id": "z1eC2vvnPL8l"
      },
      "execution_count": 3,
      "outputs": []
    },
    {
      "cell_type": "code",
      "source": [
        "dfBillATM.head()"
      ],
      "metadata": {
        "id": "w5M2yNBHP_BF"
      },
      "execution_count": null,
      "outputs": []
    },
    {
      "cell_type": "code",
      "source": [
        "dfBillATM.tail()"
      ],
      "metadata": {
        "id": "f2HQmjj6L4gX"
      },
      "execution_count": null,
      "outputs": []
    },
    {
      "cell_type": "code",
      "source": [
        "dfBillATM.columns"
      ],
      "metadata": {
        "id": "zIZnLBC5MsTh"
      },
      "execution_count": null,
      "outputs": []
    },
    {
      "cell_type": "code",
      "source": [
        "dfBillATM.dtypes"
      ],
      "metadata": {
        "id": "c5vdGh4PNPRW"
      },
      "execution_count": null,
      "outputs": []
    },
    {
      "cell_type": "code",
      "source": [
        "dfBillATM"
      ],
      "metadata": {
        "id": "Zd8eqTCBSBNK"
      },
      "execution_count": null,
      "outputs": []
    },
    {
      "cell_type": "code",
      "source": [
        "dfBillATM.count() "
      ],
      "metadata": {
        "id": "WOXo-773PmHM"
      },
      "execution_count": null,
      "outputs": []
    },
    {
      "cell_type": "markdown",
      "source": [
        "Con la función count() identifique que hay 7 registros en esta base que tienen el SEXO vacío"
      ],
      "metadata": {
        "id": "oo0iA66TQGBe"
      }
    },
    {
      "cell_type": "code",
      "source": [
        "dfBillATM.sort_values(\"ID\", inplace=True)"
      ],
      "metadata": {
        "id": "2lLnJ2fZj2Zp"
      },
      "execution_count": 4,
      "outputs": []
    },
    {
      "cell_type": "code",
      "source": [
        "dfBillATM.nunique()"
      ],
      "metadata": {
        "id": "MA7CpiX8QcMN"
      },
      "execution_count": null,
      "outputs": []
    },
    {
      "cell_type": "markdown",
      "source": [
        "Con la función nunique() identifique que hay dos registros duplicados (motivo: total es 52 y el ID tiene 50 valores únicos). Los ID 1 y 6."
      ],
      "metadata": {
        "id": "SICJnMjpQm1f"
      }
    },
    {
      "cell_type": "code",
      "source": [
        "pd.isna(dfBillATM)"
      ],
      "metadata": {
        "id": "ZvPXoV9kROpk"
      },
      "execution_count": null,
      "outputs": []
    },
    {
      "cell_type": "code",
      "source": [
        "pd.isna(dfBillATM).sum()"
      ],
      "metadata": {
        "id": "aNHbff9NRXaN"
      },
      "execution_count": null,
      "outputs": []
    },
    {
      "cell_type": "markdown",
      "source": [
        "Con la función isna(df).sum() confirme que para el dato SEXO hay 7 registros con valor vacío. En el estudio de las tres siguientes fuentes de información, si existe el dato SEXO con menos valores null, decido tomar el dato SEXO de esa otra fuente de información"
      ],
      "metadata": {
        "id": "ONUFpnBVRj6V"
      }
    },
    {
      "cell_type": "code",
      "source": [
        "dfBillATM.describe()"
      ],
      "metadata": {
        "id": "RS8OJmzkNaBO"
      },
      "execution_count": null,
      "outputs": []
    },
    {
      "cell_type": "code",
      "source": [
        "dfBillATM.describe(include=['object'])"
      ],
      "metadata": {
        "id": "uZDAupTGN1Fa"
      },
      "execution_count": null,
      "outputs": []
    },
    {
      "cell_type": "code",
      "source": [
        "dfBillATM.describe(include=[np.number])"
      ],
      "metadata": {
        "id": "2uYVtkBtPccm"
      },
      "execution_count": null,
      "outputs": []
    },
    {
      "cell_type": "code",
      "source": [
        "dfBillATM.describe(include=[pd.Categorical])"
      ],
      "metadata": {
        "id": "A48_Kl6oOx6v"
      },
      "execution_count": null,
      "outputs": []
    },
    {
      "cell_type": "code",
      "source": [
        "dfBillATM.describe(include='all')"
      ],
      "metadata": {
        "id": "BhTgZdzCO4iU"
      },
      "execution_count": null,
      "outputs": []
    },
    {
      "cell_type": "code",
      "source": [
        "dfBillATM.describe(exclude=[np.number])"
      ],
      "metadata": {
        "id": "XlTBdt07PNod"
      },
      "execution_count": null,
      "outputs": []
    },
    {
      "cell_type": "markdown",
      "source": [
        "# **Se carga y estudia SEGUNDA fuente de datos sobre las tarjetas de crédito de los clientes (UCI_Credit_Card_Pay), contiene 52 registros.**"
      ],
      "metadata": {
        "id": "miQTm5vLI5xm"
      }
    },
    {
      "cell_type": "code",
      "source": [
        "dfPay = pd.read_csv('UCI_Credit_Card_Pay.csv', sep=',')"
      ],
      "metadata": {
        "id": "iVXTTAkHJHRp"
      },
      "execution_count": 5,
      "outputs": []
    },
    {
      "cell_type": "code",
      "source": [
        "dfPay.head()"
      ],
      "metadata": {
        "id": "7wmla8dsJVfI",
        "colab": {
          "base_uri": "https://localhost:8080/",
          "height": 0
        },
        "outputId": "24fcba68-eb45-4819-c520-2eafac26f79f"
      },
      "execution_count": 6,
      "outputs": [
        {
          "output_type": "execute_result",
          "data": {
            "text/plain": [
              "   Unnamed: 0  ID LIMIT_BAL       AGE  PAY_0  PAY_2  PAY_3  PAY_4  PAY_5  \\\n",
              "0           0   1   20000.0   No info      2      2     -1     -1     -2   \n",
              "1           1   2  120000.0  26 years     -1      2      0      0      0   \n",
              "2           2   3   90000.0  34 years      0      0      0      0      0   \n",
              "3           3   4   50000.0  37 years      0      0      0      0      0   \n",
              "4           4   5   50000.0  57 years     -1      0     -1      0      0   \n",
              "\n",
              "   PAY_6  \n",
              "0     -2  \n",
              "1      2  \n",
              "2      0  \n",
              "3      0  \n",
              "4      0  "
            ],
            "text/html": [
              "\n",
              "  <div id=\"df-828c4d4a-7aeb-47e5-a883-18bef85d2723\">\n",
              "    <div class=\"colab-df-container\">\n",
              "      <div>\n",
              "<style scoped>\n",
              "    .dataframe tbody tr th:only-of-type {\n",
              "        vertical-align: middle;\n",
              "    }\n",
              "\n",
              "    .dataframe tbody tr th {\n",
              "        vertical-align: top;\n",
              "    }\n",
              "\n",
              "    .dataframe thead th {\n",
              "        text-align: right;\n",
              "    }\n",
              "</style>\n",
              "<table border=\"1\" class=\"dataframe\">\n",
              "  <thead>\n",
              "    <tr style=\"text-align: right;\">\n",
              "      <th></th>\n",
              "      <th>Unnamed: 0</th>\n",
              "      <th>ID</th>\n",
              "      <th>LIMIT_BAL</th>\n",
              "      <th>AGE</th>\n",
              "      <th>PAY_0</th>\n",
              "      <th>PAY_2</th>\n",
              "      <th>PAY_3</th>\n",
              "      <th>PAY_4</th>\n",
              "      <th>PAY_5</th>\n",
              "      <th>PAY_6</th>\n",
              "    </tr>\n",
              "  </thead>\n",
              "  <tbody>\n",
              "    <tr>\n",
              "      <th>0</th>\n",
              "      <td>0</td>\n",
              "      <td>1</td>\n",
              "      <td>20000.0</td>\n",
              "      <td>No info</td>\n",
              "      <td>2</td>\n",
              "      <td>2</td>\n",
              "      <td>-1</td>\n",
              "      <td>-1</td>\n",
              "      <td>-2</td>\n",
              "      <td>-2</td>\n",
              "    </tr>\n",
              "    <tr>\n",
              "      <th>1</th>\n",
              "      <td>1</td>\n",
              "      <td>2</td>\n",
              "      <td>120000.0</td>\n",
              "      <td>26 years</td>\n",
              "      <td>-1</td>\n",
              "      <td>2</td>\n",
              "      <td>0</td>\n",
              "      <td>0</td>\n",
              "      <td>0</td>\n",
              "      <td>2</td>\n",
              "    </tr>\n",
              "    <tr>\n",
              "      <th>2</th>\n",
              "      <td>2</td>\n",
              "      <td>3</td>\n",
              "      <td>90000.0</td>\n",
              "      <td>34 years</td>\n",
              "      <td>0</td>\n",
              "      <td>0</td>\n",
              "      <td>0</td>\n",
              "      <td>0</td>\n",
              "      <td>0</td>\n",
              "      <td>0</td>\n",
              "    </tr>\n",
              "    <tr>\n",
              "      <th>3</th>\n",
              "      <td>3</td>\n",
              "      <td>4</td>\n",
              "      <td>50000.0</td>\n",
              "      <td>37 years</td>\n",
              "      <td>0</td>\n",
              "      <td>0</td>\n",
              "      <td>0</td>\n",
              "      <td>0</td>\n",
              "      <td>0</td>\n",
              "      <td>0</td>\n",
              "    </tr>\n",
              "    <tr>\n",
              "      <th>4</th>\n",
              "      <td>4</td>\n",
              "      <td>5</td>\n",
              "      <td>50000.0</td>\n",
              "      <td>57 years</td>\n",
              "      <td>-1</td>\n",
              "      <td>0</td>\n",
              "      <td>-1</td>\n",
              "      <td>0</td>\n",
              "      <td>0</td>\n",
              "      <td>0</td>\n",
              "    </tr>\n",
              "  </tbody>\n",
              "</table>\n",
              "</div>\n",
              "      <button class=\"colab-df-convert\" onclick=\"convertToInteractive('df-828c4d4a-7aeb-47e5-a883-18bef85d2723')\"\n",
              "              title=\"Convert this dataframe to an interactive table.\"\n",
              "              style=\"display:none;\">\n",
              "        \n",
              "  <svg xmlns=\"http://www.w3.org/2000/svg\" height=\"24px\"viewBox=\"0 0 24 24\"\n",
              "       width=\"24px\">\n",
              "    <path d=\"M0 0h24v24H0V0z\" fill=\"none\"/>\n",
              "    <path d=\"M18.56 5.44l.94 2.06.94-2.06 2.06-.94-2.06-.94-.94-2.06-.94 2.06-2.06.94zm-11 1L8.5 8.5l.94-2.06 2.06-.94-2.06-.94L8.5 2.5l-.94 2.06-2.06.94zm10 10l.94 2.06.94-2.06 2.06-.94-2.06-.94-.94-2.06-.94 2.06-2.06.94z\"/><path d=\"M17.41 7.96l-1.37-1.37c-.4-.4-.92-.59-1.43-.59-.52 0-1.04.2-1.43.59L10.3 9.45l-7.72 7.72c-.78.78-.78 2.05 0 2.83L4 21.41c.39.39.9.59 1.41.59.51 0 1.02-.2 1.41-.59l7.78-7.78 2.81-2.81c.8-.78.8-2.07 0-2.86zM5.41 20L4 18.59l7.72-7.72 1.47 1.35L5.41 20z\"/>\n",
              "  </svg>\n",
              "      </button>\n",
              "      \n",
              "  <style>\n",
              "    .colab-df-container {\n",
              "      display:flex;\n",
              "      flex-wrap:wrap;\n",
              "      gap: 12px;\n",
              "    }\n",
              "\n",
              "    .colab-df-convert {\n",
              "      background-color: #E8F0FE;\n",
              "      border: none;\n",
              "      border-radius: 50%;\n",
              "      cursor: pointer;\n",
              "      display: none;\n",
              "      fill: #1967D2;\n",
              "      height: 32px;\n",
              "      padding: 0 0 0 0;\n",
              "      width: 32px;\n",
              "    }\n",
              "\n",
              "    .colab-df-convert:hover {\n",
              "      background-color: #E2EBFA;\n",
              "      box-shadow: 0px 1px 2px rgba(60, 64, 67, 0.3), 0px 1px 3px 1px rgba(60, 64, 67, 0.15);\n",
              "      fill: #174EA6;\n",
              "    }\n",
              "\n",
              "    [theme=dark] .colab-df-convert {\n",
              "      background-color: #3B4455;\n",
              "      fill: #D2E3FC;\n",
              "    }\n",
              "\n",
              "    [theme=dark] .colab-df-convert:hover {\n",
              "      background-color: #434B5C;\n",
              "      box-shadow: 0px 1px 3px 1px rgba(0, 0, 0, 0.15);\n",
              "      filter: drop-shadow(0px 1px 2px rgba(0, 0, 0, 0.3));\n",
              "      fill: #FFFFFF;\n",
              "    }\n",
              "  </style>\n",
              "\n",
              "      <script>\n",
              "        const buttonEl =\n",
              "          document.querySelector('#df-828c4d4a-7aeb-47e5-a883-18bef85d2723 button.colab-df-convert');\n",
              "        buttonEl.style.display =\n",
              "          google.colab.kernel.accessAllowed ? 'block' : 'none';\n",
              "\n",
              "        async function convertToInteractive(key) {\n",
              "          const element = document.querySelector('#df-828c4d4a-7aeb-47e5-a883-18bef85d2723');\n",
              "          const dataTable =\n",
              "            await google.colab.kernel.invokeFunction('convertToInteractive',\n",
              "                                                     [key], {});\n",
              "          if (!dataTable) return;\n",
              "\n",
              "          const docLinkHtml = 'Like what you see? Visit the ' +\n",
              "            '<a target=\"_blank\" href=https://colab.research.google.com/notebooks/data_table.ipynb>data table notebook</a>'\n",
              "            + ' to learn more about interactive tables.';\n",
              "          element.innerHTML = '';\n",
              "          dataTable['output_type'] = 'display_data';\n",
              "          await google.colab.output.renderOutput(dataTable, element);\n",
              "          const docLink = document.createElement('div');\n",
              "          docLink.innerHTML = docLinkHtml;\n",
              "          element.appendChild(docLink);\n",
              "        }\n",
              "      </script>\n",
              "    </div>\n",
              "  </div>\n",
              "  "
            ]
          },
          "metadata": {},
          "execution_count": 6
        }
      ]
    },
    {
      "cell_type": "code",
      "source": [
        "dfPay.tail()"
      ],
      "metadata": {
        "id": "5p7mE1xQL_8s",
        "colab": {
          "base_uri": "https://localhost:8080/",
          "height": 0
        },
        "outputId": "3d2afc24-f8ee-4eaf-d542-b545f9c027a1"
      },
      "execution_count": 7,
      "outputs": [
        {
          "output_type": "execute_result",
          "data": {
            "text/plain": [
              "    Unnamed: 0  ID LIMIT_BAL       AGE  PAY_0  PAY_2  PAY_3  PAY_4  PAY_5  \\\n",
              "47          47  48  150000.0  46 years      0      0     -1      0      0   \n",
              "48          48  49  380000.0  32 years     -1     -1     -1     -1     -1   \n",
              "49          49  50   20000.0  24 years      0      0      0      0      0   \n",
              "50          50  11         -  34 years      0      0      2      0      0   \n",
              "51          51  26         -  23 years      0      0      0      0      0   \n",
              "\n",
              "    PAY_6  \n",
              "47     -2  \n",
              "48     -1  \n",
              "49      0  \n",
              "50     -1  \n",
              "51      0  "
            ],
            "text/html": [
              "\n",
              "  <div id=\"df-a673e579-f05b-4d37-a703-f7db04f00de3\">\n",
              "    <div class=\"colab-df-container\">\n",
              "      <div>\n",
              "<style scoped>\n",
              "    .dataframe tbody tr th:only-of-type {\n",
              "        vertical-align: middle;\n",
              "    }\n",
              "\n",
              "    .dataframe tbody tr th {\n",
              "        vertical-align: top;\n",
              "    }\n",
              "\n",
              "    .dataframe thead th {\n",
              "        text-align: right;\n",
              "    }\n",
              "</style>\n",
              "<table border=\"1\" class=\"dataframe\">\n",
              "  <thead>\n",
              "    <tr style=\"text-align: right;\">\n",
              "      <th></th>\n",
              "      <th>Unnamed: 0</th>\n",
              "      <th>ID</th>\n",
              "      <th>LIMIT_BAL</th>\n",
              "      <th>AGE</th>\n",
              "      <th>PAY_0</th>\n",
              "      <th>PAY_2</th>\n",
              "      <th>PAY_3</th>\n",
              "      <th>PAY_4</th>\n",
              "      <th>PAY_5</th>\n",
              "      <th>PAY_6</th>\n",
              "    </tr>\n",
              "  </thead>\n",
              "  <tbody>\n",
              "    <tr>\n",
              "      <th>47</th>\n",
              "      <td>47</td>\n",
              "      <td>48</td>\n",
              "      <td>150000.0</td>\n",
              "      <td>46 years</td>\n",
              "      <td>0</td>\n",
              "      <td>0</td>\n",
              "      <td>-1</td>\n",
              "      <td>0</td>\n",
              "      <td>0</td>\n",
              "      <td>-2</td>\n",
              "    </tr>\n",
              "    <tr>\n",
              "      <th>48</th>\n",
              "      <td>48</td>\n",
              "      <td>49</td>\n",
              "      <td>380000.0</td>\n",
              "      <td>32 years</td>\n",
              "      <td>-1</td>\n",
              "      <td>-1</td>\n",
              "      <td>-1</td>\n",
              "      <td>-1</td>\n",
              "      <td>-1</td>\n",
              "      <td>-1</td>\n",
              "    </tr>\n",
              "    <tr>\n",
              "      <th>49</th>\n",
              "      <td>49</td>\n",
              "      <td>50</td>\n",
              "      <td>20000.0</td>\n",
              "      <td>24 years</td>\n",
              "      <td>0</td>\n",
              "      <td>0</td>\n",
              "      <td>0</td>\n",
              "      <td>0</td>\n",
              "      <td>0</td>\n",
              "      <td>0</td>\n",
              "    </tr>\n",
              "    <tr>\n",
              "      <th>50</th>\n",
              "      <td>50</td>\n",
              "      <td>11</td>\n",
              "      <td>-</td>\n",
              "      <td>34 years</td>\n",
              "      <td>0</td>\n",
              "      <td>0</td>\n",
              "      <td>2</td>\n",
              "      <td>0</td>\n",
              "      <td>0</td>\n",
              "      <td>-1</td>\n",
              "    </tr>\n",
              "    <tr>\n",
              "      <th>51</th>\n",
              "      <td>51</td>\n",
              "      <td>26</td>\n",
              "      <td>-</td>\n",
              "      <td>23 years</td>\n",
              "      <td>0</td>\n",
              "      <td>0</td>\n",
              "      <td>0</td>\n",
              "      <td>0</td>\n",
              "      <td>0</td>\n",
              "      <td>0</td>\n",
              "    </tr>\n",
              "  </tbody>\n",
              "</table>\n",
              "</div>\n",
              "      <button class=\"colab-df-convert\" onclick=\"convertToInteractive('df-a673e579-f05b-4d37-a703-f7db04f00de3')\"\n",
              "              title=\"Convert this dataframe to an interactive table.\"\n",
              "              style=\"display:none;\">\n",
              "        \n",
              "  <svg xmlns=\"http://www.w3.org/2000/svg\" height=\"24px\"viewBox=\"0 0 24 24\"\n",
              "       width=\"24px\">\n",
              "    <path d=\"M0 0h24v24H0V0z\" fill=\"none\"/>\n",
              "    <path d=\"M18.56 5.44l.94 2.06.94-2.06 2.06-.94-2.06-.94-.94-2.06-.94 2.06-2.06.94zm-11 1L8.5 8.5l.94-2.06 2.06-.94-2.06-.94L8.5 2.5l-.94 2.06-2.06.94zm10 10l.94 2.06.94-2.06 2.06-.94-2.06-.94-.94-2.06-.94 2.06-2.06.94z\"/><path d=\"M17.41 7.96l-1.37-1.37c-.4-.4-.92-.59-1.43-.59-.52 0-1.04.2-1.43.59L10.3 9.45l-7.72 7.72c-.78.78-.78 2.05 0 2.83L4 21.41c.39.39.9.59 1.41.59.51 0 1.02-.2 1.41-.59l7.78-7.78 2.81-2.81c.8-.78.8-2.07 0-2.86zM5.41 20L4 18.59l7.72-7.72 1.47 1.35L5.41 20z\"/>\n",
              "  </svg>\n",
              "      </button>\n",
              "      \n",
              "  <style>\n",
              "    .colab-df-container {\n",
              "      display:flex;\n",
              "      flex-wrap:wrap;\n",
              "      gap: 12px;\n",
              "    }\n",
              "\n",
              "    .colab-df-convert {\n",
              "      background-color: #E8F0FE;\n",
              "      border: none;\n",
              "      border-radius: 50%;\n",
              "      cursor: pointer;\n",
              "      display: none;\n",
              "      fill: #1967D2;\n",
              "      height: 32px;\n",
              "      padding: 0 0 0 0;\n",
              "      width: 32px;\n",
              "    }\n",
              "\n",
              "    .colab-df-convert:hover {\n",
              "      background-color: #E2EBFA;\n",
              "      box-shadow: 0px 1px 2px rgba(60, 64, 67, 0.3), 0px 1px 3px 1px rgba(60, 64, 67, 0.15);\n",
              "      fill: #174EA6;\n",
              "    }\n",
              "\n",
              "    [theme=dark] .colab-df-convert {\n",
              "      background-color: #3B4455;\n",
              "      fill: #D2E3FC;\n",
              "    }\n",
              "\n",
              "    [theme=dark] .colab-df-convert:hover {\n",
              "      background-color: #434B5C;\n",
              "      box-shadow: 0px 1px 3px 1px rgba(0, 0, 0, 0.15);\n",
              "      filter: drop-shadow(0px 1px 2px rgba(0, 0, 0, 0.3));\n",
              "      fill: #FFFFFF;\n",
              "    }\n",
              "  </style>\n",
              "\n",
              "      <script>\n",
              "        const buttonEl =\n",
              "          document.querySelector('#df-a673e579-f05b-4d37-a703-f7db04f00de3 button.colab-df-convert');\n",
              "        buttonEl.style.display =\n",
              "          google.colab.kernel.accessAllowed ? 'block' : 'none';\n",
              "\n",
              "        async function convertToInteractive(key) {\n",
              "          const element = document.querySelector('#df-a673e579-f05b-4d37-a703-f7db04f00de3');\n",
              "          const dataTable =\n",
              "            await google.colab.kernel.invokeFunction('convertToInteractive',\n",
              "                                                     [key], {});\n",
              "          if (!dataTable) return;\n",
              "\n",
              "          const docLinkHtml = 'Like what you see? Visit the ' +\n",
              "            '<a target=\"_blank\" href=https://colab.research.google.com/notebooks/data_table.ipynb>data table notebook</a>'\n",
              "            + ' to learn more about interactive tables.';\n",
              "          element.innerHTML = '';\n",
              "          dataTable['output_type'] = 'display_data';\n",
              "          await google.colab.output.renderOutput(dataTable, element);\n",
              "          const docLink = document.createElement('div');\n",
              "          docLink.innerHTML = docLinkHtml;\n",
              "          element.appendChild(docLink);\n",
              "        }\n",
              "      </script>\n",
              "    </div>\n",
              "  </div>\n",
              "  "
            ]
          },
          "metadata": {},
          "execution_count": 7
        }
      ]
    },
    {
      "cell_type": "code",
      "source": [
        "dfPay.columns"
      ],
      "metadata": {
        "id": "UU21rE0oTu_e",
        "colab": {
          "base_uri": "https://localhost:8080/"
        },
        "outputId": "dc70bf33-83bd-4c7b-f98f-4f83dfb9b43e"
      },
      "execution_count": 8,
      "outputs": [
        {
          "output_type": "execute_result",
          "data": {
            "text/plain": [
              "Index(['Unnamed: 0', 'ID', 'LIMIT_BAL', 'AGE', 'PAY_0', 'PAY_2', 'PAY_3',\n",
              "       'PAY_4', 'PAY_5', 'PAY_6'],\n",
              "      dtype='object')"
            ]
          },
          "metadata": {},
          "execution_count": 8
        }
      ]
    },
    {
      "cell_type": "code",
      "source": [
        "dfPay.dtypes"
      ],
      "metadata": {
        "id": "p9fEbWPZTz3k",
        "colab": {
          "base_uri": "https://localhost:8080/"
        },
        "outputId": "20d6120b-1810-4b64-f51a-9800b3984319"
      },
      "execution_count": 9,
      "outputs": [
        {
          "output_type": "execute_result",
          "data": {
            "text/plain": [
              "Unnamed: 0     int64\n",
              "ID             int64\n",
              "LIMIT_BAL     object\n",
              "AGE           object\n",
              "PAY_0          int64\n",
              "PAY_2          int64\n",
              "PAY_3          int64\n",
              "PAY_4          int64\n",
              "PAY_5          int64\n",
              "PAY_6          int64\n",
              "dtype: object"
            ]
          },
          "metadata": {},
          "execution_count": 9
        }
      ]
    },
    {
      "cell_type": "code",
      "source": [
        "dfPay"
      ],
      "metadata": {
        "id": "M0W1hrwKSIex",
        "colab": {
          "base_uri": "https://localhost:8080/",
          "height": 0
        },
        "outputId": "7580dc1b-3515-4c79-c85a-b0f55e3bf1a9"
      },
      "execution_count": 10,
      "outputs": [
        {
          "output_type": "execute_result",
          "data": {
            "text/plain": [
              "    Unnamed: 0  ID LIMIT_BAL       AGE  PAY_0  PAY_2  PAY_3  PAY_4  PAY_5  \\\n",
              "0            0   1   20000.0   No info      2      2     -1     -1     -2   \n",
              "1            1   2  120000.0  26 years     -1      2      0      0      0   \n",
              "2            2   3   90000.0  34 years      0      0      0      0      0   \n",
              "3            3   4   50000.0  37 years      0      0      0      0      0   \n",
              "4            4   5   50000.0  57 years     -1      0     -1      0      0   \n",
              "5            5   6   50000.0   No info      0      0      0      0      0   \n",
              "6            6   7  500000.0  29 years      0      0      0      0      0   \n",
              "7            7   8  100000.0  23 years      0     -1     -1      0      0   \n",
              "8            8   9  140000.0  28 years      0      0      2      0      0   \n",
              "9            9  10   20000.0  35 years     -2     -2     -2     -2     -1   \n",
              "10          10   1   20000.0   No info      2      2     -1     -1     -2   \n",
              "11          11  12  260000.0  51 years     -1     -1     -1     -1     -1   \n",
              "12          12  13  630000.0  41 years     -1      0     -1     -1     -1   \n",
              "13          13  14   70000.0  30 years      1      2      2      0      0   \n",
              "14          14  15  250000.0  29 years      0      0      0      0      0   \n",
              "15          15  16   50000.0   No info      1      2      0      0      0   \n",
              "16          16  17   20000.0  24 years      0      0      2      2      2   \n",
              "17          17  18  320000.0  49 years      0      0      0     -1     -1   \n",
              "18          18  19  360000.0  49 years      1     -2     -2     -2     -2   \n",
              "19          19  20  180000.0  29 years      1     -2     -2     -2     -2   \n",
              "20          20  21  130000.0   No info      0      0      0      0      0   \n",
              "21          21  22  120000.0  39 years     -1     -1     -1     -1     -1   \n",
              "22          22  23   70000.0  26 years      2      0      0      2      2   \n",
              "23          23  24  450000.0  40 years     -2     -2     -2     -2     -2   \n",
              "24          24  25   90000.0  23 years      0      0      0     -1      0   \n",
              "25          25  26         -  23 years      0      0      0      0      0   \n",
              "26          26  27   60000.0  27 years      1     -2     -1     -1     -1   \n",
              "27          27  28   50000.0  30 years      0      0      0      0      0   \n",
              "28          28  29   50000.0  47 years     -1     -1     -1     -1     -1   \n",
              "29          29  30   50000.0  26 years      0      0      0      0      0   \n",
              "30          30  31         -  27 years     -1     -1     -1     -1     -1   \n",
              "31          31  32   50000.0  33 years      2      0      0      0      0   \n",
              "32          32  33  100000.0  32 years      0      0      0      0      0   \n",
              "33          33  34         -  54 years     -2     -2     -2     -2     -2   \n",
              "34          34  35  500000.0  58 years     -2     -2     -2     -2     -2   \n",
              "35          35  36  160000.0   No info     -1     -1     -2     -2     -2   \n",
              "36          36  37  280000.0  40 years      0      0      0      0      0   \n",
              "37          37  38   60000.0  22 years      0      0      0      0      0   \n",
              "38          38  39   50000.0  25 years      1     -1     -1     -2     -2   \n",
              "39          39  40  280000.0  31 years     -1     -1      2     -1      0   \n",
              "40          40  41  360000.0   No info      0      0      0      0      0   \n",
              "41          41  42   70000.0  25 years      0      0      0      0      0   \n",
              "42          42  43         -  22 years      0      0      0      0      0   \n",
              "43          43  44         -  37 years      0      0      0      0      0   \n",
              "44          44  45   40000.0  30 years      0      0      0      2      0   \n",
              "45          45  46  210000.0   No info     -2     -2     -2     -2     -2   \n",
              "46          46  47   20000.0  22 years      0      0      2     -1      0   \n",
              "47          47  48  150000.0  46 years      0      0     -1      0      0   \n",
              "48          48  49  380000.0  32 years     -1     -1     -1     -1     -1   \n",
              "49          49  50   20000.0  24 years      0      0      0      0      0   \n",
              "50          50  11         -  34 years      0      0      2      0      0   \n",
              "51          51  26         -  23 years      0      0      0      0      0   \n",
              "\n",
              "    PAY_6  \n",
              "0      -2  \n",
              "1       2  \n",
              "2       0  \n",
              "3       0  \n",
              "4       0  \n",
              "5       0  \n",
              "6       0  \n",
              "7      -1  \n",
              "8       0  \n",
              "9      -1  \n",
              "10     -2  \n",
              "11      2  \n",
              "12     -1  \n",
              "13      2  \n",
              "14      0  \n",
              "15      0  \n",
              "16      2  \n",
              "17     -1  \n",
              "18     -2  \n",
              "19     -2  \n",
              "20     -1  \n",
              "21     -1  \n",
              "22      2  \n",
              "23     -2  \n",
              "24      0  \n",
              "25      0  \n",
              "26     -1  \n",
              "27      0  \n",
              "28     -1  \n",
              "29      0  \n",
              "30     -1  \n",
              "31      0  \n",
              "32      0  \n",
              "33     -2  \n",
              "34     -2  \n",
              "35     -1  \n",
              "36      0  \n",
              "37     -1  \n",
              "38     -2  \n",
              "39     -1  \n",
              "40      0  \n",
              "41      0  \n",
              "42      0  \n",
              "43      0  \n",
              "44      0  \n",
              "45     -2  \n",
              "46      0  \n",
              "47     -2  \n",
              "48     -1  \n",
              "49      0  \n",
              "50     -1  \n",
              "51      0  "
            ],
            "text/html": [
              "\n",
              "  <div id=\"df-fa8c65f3-d4a2-4a56-9634-401c5aea87a4\">\n",
              "    <div class=\"colab-df-container\">\n",
              "      <div>\n",
              "<style scoped>\n",
              "    .dataframe tbody tr th:only-of-type {\n",
              "        vertical-align: middle;\n",
              "    }\n",
              "\n",
              "    .dataframe tbody tr th {\n",
              "        vertical-align: top;\n",
              "    }\n",
              "\n",
              "    .dataframe thead th {\n",
              "        text-align: right;\n",
              "    }\n",
              "</style>\n",
              "<table border=\"1\" class=\"dataframe\">\n",
              "  <thead>\n",
              "    <tr style=\"text-align: right;\">\n",
              "      <th></th>\n",
              "      <th>Unnamed: 0</th>\n",
              "      <th>ID</th>\n",
              "      <th>LIMIT_BAL</th>\n",
              "      <th>AGE</th>\n",
              "      <th>PAY_0</th>\n",
              "      <th>PAY_2</th>\n",
              "      <th>PAY_3</th>\n",
              "      <th>PAY_4</th>\n",
              "      <th>PAY_5</th>\n",
              "      <th>PAY_6</th>\n",
              "    </tr>\n",
              "  </thead>\n",
              "  <tbody>\n",
              "    <tr>\n",
              "      <th>0</th>\n",
              "      <td>0</td>\n",
              "      <td>1</td>\n",
              "      <td>20000.0</td>\n",
              "      <td>No info</td>\n",
              "      <td>2</td>\n",
              "      <td>2</td>\n",
              "      <td>-1</td>\n",
              "      <td>-1</td>\n",
              "      <td>-2</td>\n",
              "      <td>-2</td>\n",
              "    </tr>\n",
              "    <tr>\n",
              "      <th>1</th>\n",
              "      <td>1</td>\n",
              "      <td>2</td>\n",
              "      <td>120000.0</td>\n",
              "      <td>26 years</td>\n",
              "      <td>-1</td>\n",
              "      <td>2</td>\n",
              "      <td>0</td>\n",
              "      <td>0</td>\n",
              "      <td>0</td>\n",
              "      <td>2</td>\n",
              "    </tr>\n",
              "    <tr>\n",
              "      <th>2</th>\n",
              "      <td>2</td>\n",
              "      <td>3</td>\n",
              "      <td>90000.0</td>\n",
              "      <td>34 years</td>\n",
              "      <td>0</td>\n",
              "      <td>0</td>\n",
              "      <td>0</td>\n",
              "      <td>0</td>\n",
              "      <td>0</td>\n",
              "      <td>0</td>\n",
              "    </tr>\n",
              "    <tr>\n",
              "      <th>3</th>\n",
              "      <td>3</td>\n",
              "      <td>4</td>\n",
              "      <td>50000.0</td>\n",
              "      <td>37 years</td>\n",
              "      <td>0</td>\n",
              "      <td>0</td>\n",
              "      <td>0</td>\n",
              "      <td>0</td>\n",
              "      <td>0</td>\n",
              "      <td>0</td>\n",
              "    </tr>\n",
              "    <tr>\n",
              "      <th>4</th>\n",
              "      <td>4</td>\n",
              "      <td>5</td>\n",
              "      <td>50000.0</td>\n",
              "      <td>57 years</td>\n",
              "      <td>-1</td>\n",
              "      <td>0</td>\n",
              "      <td>-1</td>\n",
              "      <td>0</td>\n",
              "      <td>0</td>\n",
              "      <td>0</td>\n",
              "    </tr>\n",
              "    <tr>\n",
              "      <th>5</th>\n",
              "      <td>5</td>\n",
              "      <td>6</td>\n",
              "      <td>50000.0</td>\n",
              "      <td>No info</td>\n",
              "      <td>0</td>\n",
              "      <td>0</td>\n",
              "      <td>0</td>\n",
              "      <td>0</td>\n",
              "      <td>0</td>\n",
              "      <td>0</td>\n",
              "    </tr>\n",
              "    <tr>\n",
              "      <th>6</th>\n",
              "      <td>6</td>\n",
              "      <td>7</td>\n",
              "      <td>500000.0</td>\n",
              "      <td>29 years</td>\n",
              "      <td>0</td>\n",
              "      <td>0</td>\n",
              "      <td>0</td>\n",
              "      <td>0</td>\n",
              "      <td>0</td>\n",
              "      <td>0</td>\n",
              "    </tr>\n",
              "    <tr>\n",
              "      <th>7</th>\n",
              "      <td>7</td>\n",
              "      <td>8</td>\n",
              "      <td>100000.0</td>\n",
              "      <td>23 years</td>\n",
              "      <td>0</td>\n",
              "      <td>-1</td>\n",
              "      <td>-1</td>\n",
              "      <td>0</td>\n",
              "      <td>0</td>\n",
              "      <td>-1</td>\n",
              "    </tr>\n",
              "    <tr>\n",
              "      <th>8</th>\n",
              "      <td>8</td>\n",
              "      <td>9</td>\n",
              "      <td>140000.0</td>\n",
              "      <td>28 years</td>\n",
              "      <td>0</td>\n",
              "      <td>0</td>\n",
              "      <td>2</td>\n",
              "      <td>0</td>\n",
              "      <td>0</td>\n",
              "      <td>0</td>\n",
              "    </tr>\n",
              "    <tr>\n",
              "      <th>9</th>\n",
              "      <td>9</td>\n",
              "      <td>10</td>\n",
              "      <td>20000.0</td>\n",
              "      <td>35 years</td>\n",
              "      <td>-2</td>\n",
              "      <td>-2</td>\n",
              "      <td>-2</td>\n",
              "      <td>-2</td>\n",
              "      <td>-1</td>\n",
              "      <td>-1</td>\n",
              "    </tr>\n",
              "    <tr>\n",
              "      <th>10</th>\n",
              "      <td>10</td>\n",
              "      <td>1</td>\n",
              "      <td>20000.0</td>\n",
              "      <td>No info</td>\n",
              "      <td>2</td>\n",
              "      <td>2</td>\n",
              "      <td>-1</td>\n",
              "      <td>-1</td>\n",
              "      <td>-2</td>\n",
              "      <td>-2</td>\n",
              "    </tr>\n",
              "    <tr>\n",
              "      <th>11</th>\n",
              "      <td>11</td>\n",
              "      <td>12</td>\n",
              "      <td>260000.0</td>\n",
              "      <td>51 years</td>\n",
              "      <td>-1</td>\n",
              "      <td>-1</td>\n",
              "      <td>-1</td>\n",
              "      <td>-1</td>\n",
              "      <td>-1</td>\n",
              "      <td>2</td>\n",
              "    </tr>\n",
              "    <tr>\n",
              "      <th>12</th>\n",
              "      <td>12</td>\n",
              "      <td>13</td>\n",
              "      <td>630000.0</td>\n",
              "      <td>41 years</td>\n",
              "      <td>-1</td>\n",
              "      <td>0</td>\n",
              "      <td>-1</td>\n",
              "      <td>-1</td>\n",
              "      <td>-1</td>\n",
              "      <td>-1</td>\n",
              "    </tr>\n",
              "    <tr>\n",
              "      <th>13</th>\n",
              "      <td>13</td>\n",
              "      <td>14</td>\n",
              "      <td>70000.0</td>\n",
              "      <td>30 years</td>\n",
              "      <td>1</td>\n",
              "      <td>2</td>\n",
              "      <td>2</td>\n",
              "      <td>0</td>\n",
              "      <td>0</td>\n",
              "      <td>2</td>\n",
              "    </tr>\n",
              "    <tr>\n",
              "      <th>14</th>\n",
              "      <td>14</td>\n",
              "      <td>15</td>\n",
              "      <td>250000.0</td>\n",
              "      <td>29 years</td>\n",
              "      <td>0</td>\n",
              "      <td>0</td>\n",
              "      <td>0</td>\n",
              "      <td>0</td>\n",
              "      <td>0</td>\n",
              "      <td>0</td>\n",
              "    </tr>\n",
              "    <tr>\n",
              "      <th>15</th>\n",
              "      <td>15</td>\n",
              "      <td>16</td>\n",
              "      <td>50000.0</td>\n",
              "      <td>No info</td>\n",
              "      <td>1</td>\n",
              "      <td>2</td>\n",
              "      <td>0</td>\n",
              "      <td>0</td>\n",
              "      <td>0</td>\n",
              "      <td>0</td>\n",
              "    </tr>\n",
              "    <tr>\n",
              "      <th>16</th>\n",
              "      <td>16</td>\n",
              "      <td>17</td>\n",
              "      <td>20000.0</td>\n",
              "      <td>24 years</td>\n",
              "      <td>0</td>\n",
              "      <td>0</td>\n",
              "      <td>2</td>\n",
              "      <td>2</td>\n",
              "      <td>2</td>\n",
              "      <td>2</td>\n",
              "    </tr>\n",
              "    <tr>\n",
              "      <th>17</th>\n",
              "      <td>17</td>\n",
              "      <td>18</td>\n",
              "      <td>320000.0</td>\n",
              "      <td>49 years</td>\n",
              "      <td>0</td>\n",
              "      <td>0</td>\n",
              "      <td>0</td>\n",
              "      <td>-1</td>\n",
              "      <td>-1</td>\n",
              "      <td>-1</td>\n",
              "    </tr>\n",
              "    <tr>\n",
              "      <th>18</th>\n",
              "      <td>18</td>\n",
              "      <td>19</td>\n",
              "      <td>360000.0</td>\n",
              "      <td>49 years</td>\n",
              "      <td>1</td>\n",
              "      <td>-2</td>\n",
              "      <td>-2</td>\n",
              "      <td>-2</td>\n",
              "      <td>-2</td>\n",
              "      <td>-2</td>\n",
              "    </tr>\n",
              "    <tr>\n",
              "      <th>19</th>\n",
              "      <td>19</td>\n",
              "      <td>20</td>\n",
              "      <td>180000.0</td>\n",
              "      <td>29 years</td>\n",
              "      <td>1</td>\n",
              "      <td>-2</td>\n",
              "      <td>-2</td>\n",
              "      <td>-2</td>\n",
              "      <td>-2</td>\n",
              "      <td>-2</td>\n",
              "    </tr>\n",
              "    <tr>\n",
              "      <th>20</th>\n",
              "      <td>20</td>\n",
              "      <td>21</td>\n",
              "      <td>130000.0</td>\n",
              "      <td>No info</td>\n",
              "      <td>0</td>\n",
              "      <td>0</td>\n",
              "      <td>0</td>\n",
              "      <td>0</td>\n",
              "      <td>0</td>\n",
              "      <td>-1</td>\n",
              "    </tr>\n",
              "    <tr>\n",
              "      <th>21</th>\n",
              "      <td>21</td>\n",
              "      <td>22</td>\n",
              "      <td>120000.0</td>\n",
              "      <td>39 years</td>\n",
              "      <td>-1</td>\n",
              "      <td>-1</td>\n",
              "      <td>-1</td>\n",
              "      <td>-1</td>\n",
              "      <td>-1</td>\n",
              "      <td>-1</td>\n",
              "    </tr>\n",
              "    <tr>\n",
              "      <th>22</th>\n",
              "      <td>22</td>\n",
              "      <td>23</td>\n",
              "      <td>70000.0</td>\n",
              "      <td>26 years</td>\n",
              "      <td>2</td>\n",
              "      <td>0</td>\n",
              "      <td>0</td>\n",
              "      <td>2</td>\n",
              "      <td>2</td>\n",
              "      <td>2</td>\n",
              "    </tr>\n",
              "    <tr>\n",
              "      <th>23</th>\n",
              "      <td>23</td>\n",
              "      <td>24</td>\n",
              "      <td>450000.0</td>\n",
              "      <td>40 years</td>\n",
              "      <td>-2</td>\n",
              "      <td>-2</td>\n",
              "      <td>-2</td>\n",
              "      <td>-2</td>\n",
              "      <td>-2</td>\n",
              "      <td>-2</td>\n",
              "    </tr>\n",
              "    <tr>\n",
              "      <th>24</th>\n",
              "      <td>24</td>\n",
              "      <td>25</td>\n",
              "      <td>90000.0</td>\n",
              "      <td>23 years</td>\n",
              "      <td>0</td>\n",
              "      <td>0</td>\n",
              "      <td>0</td>\n",
              "      <td>-1</td>\n",
              "      <td>0</td>\n",
              "      <td>0</td>\n",
              "    </tr>\n",
              "    <tr>\n",
              "      <th>25</th>\n",
              "      <td>25</td>\n",
              "      <td>26</td>\n",
              "      <td>-</td>\n",
              "      <td>23 years</td>\n",
              "      <td>0</td>\n",
              "      <td>0</td>\n",
              "      <td>0</td>\n",
              "      <td>0</td>\n",
              "      <td>0</td>\n",
              "      <td>0</td>\n",
              "    </tr>\n",
              "    <tr>\n",
              "      <th>26</th>\n",
              "      <td>26</td>\n",
              "      <td>27</td>\n",
              "      <td>60000.0</td>\n",
              "      <td>27 years</td>\n",
              "      <td>1</td>\n",
              "      <td>-2</td>\n",
              "      <td>-1</td>\n",
              "      <td>-1</td>\n",
              "      <td>-1</td>\n",
              "      <td>-1</td>\n",
              "    </tr>\n",
              "    <tr>\n",
              "      <th>27</th>\n",
              "      <td>27</td>\n",
              "      <td>28</td>\n",
              "      <td>50000.0</td>\n",
              "      <td>30 years</td>\n",
              "      <td>0</td>\n",
              "      <td>0</td>\n",
              "      <td>0</td>\n",
              "      <td>0</td>\n",
              "      <td>0</td>\n",
              "      <td>0</td>\n",
              "    </tr>\n",
              "    <tr>\n",
              "      <th>28</th>\n",
              "      <td>28</td>\n",
              "      <td>29</td>\n",
              "      <td>50000.0</td>\n",
              "      <td>47 years</td>\n",
              "      <td>-1</td>\n",
              "      <td>-1</td>\n",
              "      <td>-1</td>\n",
              "      <td>-1</td>\n",
              "      <td>-1</td>\n",
              "      <td>-1</td>\n",
              "    </tr>\n",
              "    <tr>\n",
              "      <th>29</th>\n",
              "      <td>29</td>\n",
              "      <td>30</td>\n",
              "      <td>50000.0</td>\n",
              "      <td>26 years</td>\n",
              "      <td>0</td>\n",
              "      <td>0</td>\n",
              "      <td>0</td>\n",
              "      <td>0</td>\n",
              "      <td>0</td>\n",
              "      <td>0</td>\n",
              "    </tr>\n",
              "    <tr>\n",
              "      <th>30</th>\n",
              "      <td>30</td>\n",
              "      <td>31</td>\n",
              "      <td>-</td>\n",
              "      <td>27 years</td>\n",
              "      <td>-1</td>\n",
              "      <td>-1</td>\n",
              "      <td>-1</td>\n",
              "      <td>-1</td>\n",
              "      <td>-1</td>\n",
              "      <td>-1</td>\n",
              "    </tr>\n",
              "    <tr>\n",
              "      <th>31</th>\n",
              "      <td>31</td>\n",
              "      <td>32</td>\n",
              "      <td>50000.0</td>\n",
              "      <td>33 years</td>\n",
              "      <td>2</td>\n",
              "      <td>0</td>\n",
              "      <td>0</td>\n",
              "      <td>0</td>\n",
              "      <td>0</td>\n",
              "      <td>0</td>\n",
              "    </tr>\n",
              "    <tr>\n",
              "      <th>32</th>\n",
              "      <td>32</td>\n",
              "      <td>33</td>\n",
              "      <td>100000.0</td>\n",
              "      <td>32 years</td>\n",
              "      <td>0</td>\n",
              "      <td>0</td>\n",
              "      <td>0</td>\n",
              "      <td>0</td>\n",
              "      <td>0</td>\n",
              "      <td>0</td>\n",
              "    </tr>\n",
              "    <tr>\n",
              "      <th>33</th>\n",
              "      <td>33</td>\n",
              "      <td>34</td>\n",
              "      <td>-</td>\n",
              "      <td>54 years</td>\n",
              "      <td>-2</td>\n",
              "      <td>-2</td>\n",
              "      <td>-2</td>\n",
              "      <td>-2</td>\n",
              "      <td>-2</td>\n",
              "      <td>-2</td>\n",
              "    </tr>\n",
              "    <tr>\n",
              "      <th>34</th>\n",
              "      <td>34</td>\n",
              "      <td>35</td>\n",
              "      <td>500000.0</td>\n",
              "      <td>58 years</td>\n",
              "      <td>-2</td>\n",
              "      <td>-2</td>\n",
              "      <td>-2</td>\n",
              "      <td>-2</td>\n",
              "      <td>-2</td>\n",
              "      <td>-2</td>\n",
              "    </tr>\n",
              "    <tr>\n",
              "      <th>35</th>\n",
              "      <td>35</td>\n",
              "      <td>36</td>\n",
              "      <td>160000.0</td>\n",
              "      <td>No info</td>\n",
              "      <td>-1</td>\n",
              "      <td>-1</td>\n",
              "      <td>-2</td>\n",
              "      <td>-2</td>\n",
              "      <td>-2</td>\n",
              "      <td>-1</td>\n",
              "    </tr>\n",
              "    <tr>\n",
              "      <th>36</th>\n",
              "      <td>36</td>\n",
              "      <td>37</td>\n",
              "      <td>280000.0</td>\n",
              "      <td>40 years</td>\n",
              "      <td>0</td>\n",
              "      <td>0</td>\n",
              "      <td>0</td>\n",
              "      <td>0</td>\n",
              "      <td>0</td>\n",
              "      <td>0</td>\n",
              "    </tr>\n",
              "    <tr>\n",
              "      <th>37</th>\n",
              "      <td>37</td>\n",
              "      <td>38</td>\n",
              "      <td>60000.0</td>\n",
              "      <td>22 years</td>\n",
              "      <td>0</td>\n",
              "      <td>0</td>\n",
              "      <td>0</td>\n",
              "      <td>0</td>\n",
              "      <td>0</td>\n",
              "      <td>-1</td>\n",
              "    </tr>\n",
              "    <tr>\n",
              "      <th>38</th>\n",
              "      <td>38</td>\n",
              "      <td>39</td>\n",
              "      <td>50000.0</td>\n",
              "      <td>25 years</td>\n",
              "      <td>1</td>\n",
              "      <td>-1</td>\n",
              "      <td>-1</td>\n",
              "      <td>-2</td>\n",
              "      <td>-2</td>\n",
              "      <td>-2</td>\n",
              "    </tr>\n",
              "    <tr>\n",
              "      <th>39</th>\n",
              "      <td>39</td>\n",
              "      <td>40</td>\n",
              "      <td>280000.0</td>\n",
              "      <td>31 years</td>\n",
              "      <td>-1</td>\n",
              "      <td>-1</td>\n",
              "      <td>2</td>\n",
              "      <td>-1</td>\n",
              "      <td>0</td>\n",
              "      <td>-1</td>\n",
              "    </tr>\n",
              "    <tr>\n",
              "      <th>40</th>\n",
              "      <td>40</td>\n",
              "      <td>41</td>\n",
              "      <td>360000.0</td>\n",
              "      <td>No info</td>\n",
              "      <td>0</td>\n",
              "      <td>0</td>\n",
              "      <td>0</td>\n",
              "      <td>0</td>\n",
              "      <td>0</td>\n",
              "      <td>0</td>\n",
              "    </tr>\n",
              "    <tr>\n",
              "      <th>41</th>\n",
              "      <td>41</td>\n",
              "      <td>42</td>\n",
              "      <td>70000.0</td>\n",
              "      <td>25 years</td>\n",
              "      <td>0</td>\n",
              "      <td>0</td>\n",
              "      <td>0</td>\n",
              "      <td>0</td>\n",
              "      <td>0</td>\n",
              "      <td>0</td>\n",
              "    </tr>\n",
              "    <tr>\n",
              "      <th>42</th>\n",
              "      <td>42</td>\n",
              "      <td>43</td>\n",
              "      <td>-</td>\n",
              "      <td>22 years</td>\n",
              "      <td>0</td>\n",
              "      <td>0</td>\n",
              "      <td>0</td>\n",
              "      <td>0</td>\n",
              "      <td>0</td>\n",
              "      <td>0</td>\n",
              "    </tr>\n",
              "    <tr>\n",
              "      <th>43</th>\n",
              "      <td>43</td>\n",
              "      <td>44</td>\n",
              "      <td>-</td>\n",
              "      <td>37 years</td>\n",
              "      <td>0</td>\n",
              "      <td>0</td>\n",
              "      <td>0</td>\n",
              "      <td>0</td>\n",
              "      <td>0</td>\n",
              "      <td>0</td>\n",
              "    </tr>\n",
              "    <tr>\n",
              "      <th>44</th>\n",
              "      <td>44</td>\n",
              "      <td>45</td>\n",
              "      <td>40000.0</td>\n",
              "      <td>30 years</td>\n",
              "      <td>0</td>\n",
              "      <td>0</td>\n",
              "      <td>0</td>\n",
              "      <td>2</td>\n",
              "      <td>0</td>\n",
              "      <td>0</td>\n",
              "    </tr>\n",
              "    <tr>\n",
              "      <th>45</th>\n",
              "      <td>45</td>\n",
              "      <td>46</td>\n",
              "      <td>210000.0</td>\n",
              "      <td>No info</td>\n",
              "      <td>-2</td>\n",
              "      <td>-2</td>\n",
              "      <td>-2</td>\n",
              "      <td>-2</td>\n",
              "      <td>-2</td>\n",
              "      <td>-2</td>\n",
              "    </tr>\n",
              "    <tr>\n",
              "      <th>46</th>\n",
              "      <td>46</td>\n",
              "      <td>47</td>\n",
              "      <td>20000.0</td>\n",
              "      <td>22 years</td>\n",
              "      <td>0</td>\n",
              "      <td>0</td>\n",
              "      <td>2</td>\n",
              "      <td>-1</td>\n",
              "      <td>0</td>\n",
              "      <td>0</td>\n",
              "    </tr>\n",
              "    <tr>\n",
              "      <th>47</th>\n",
              "      <td>47</td>\n",
              "      <td>48</td>\n",
              "      <td>150000.0</td>\n",
              "      <td>46 years</td>\n",
              "      <td>0</td>\n",
              "      <td>0</td>\n",
              "      <td>-1</td>\n",
              "      <td>0</td>\n",
              "      <td>0</td>\n",
              "      <td>-2</td>\n",
              "    </tr>\n",
              "    <tr>\n",
              "      <th>48</th>\n",
              "      <td>48</td>\n",
              "      <td>49</td>\n",
              "      <td>380000.0</td>\n",
              "      <td>32 years</td>\n",
              "      <td>-1</td>\n",
              "      <td>-1</td>\n",
              "      <td>-1</td>\n",
              "      <td>-1</td>\n",
              "      <td>-1</td>\n",
              "      <td>-1</td>\n",
              "    </tr>\n",
              "    <tr>\n",
              "      <th>49</th>\n",
              "      <td>49</td>\n",
              "      <td>50</td>\n",
              "      <td>20000.0</td>\n",
              "      <td>24 years</td>\n",
              "      <td>0</td>\n",
              "      <td>0</td>\n",
              "      <td>0</td>\n",
              "      <td>0</td>\n",
              "      <td>0</td>\n",
              "      <td>0</td>\n",
              "    </tr>\n",
              "    <tr>\n",
              "      <th>50</th>\n",
              "      <td>50</td>\n",
              "      <td>11</td>\n",
              "      <td>-</td>\n",
              "      <td>34 years</td>\n",
              "      <td>0</td>\n",
              "      <td>0</td>\n",
              "      <td>2</td>\n",
              "      <td>0</td>\n",
              "      <td>0</td>\n",
              "      <td>-1</td>\n",
              "    </tr>\n",
              "    <tr>\n",
              "      <th>51</th>\n",
              "      <td>51</td>\n",
              "      <td>26</td>\n",
              "      <td>-</td>\n",
              "      <td>23 years</td>\n",
              "      <td>0</td>\n",
              "      <td>0</td>\n",
              "      <td>0</td>\n",
              "      <td>0</td>\n",
              "      <td>0</td>\n",
              "      <td>0</td>\n",
              "    </tr>\n",
              "  </tbody>\n",
              "</table>\n",
              "</div>\n",
              "      <button class=\"colab-df-convert\" onclick=\"convertToInteractive('df-fa8c65f3-d4a2-4a56-9634-401c5aea87a4')\"\n",
              "              title=\"Convert this dataframe to an interactive table.\"\n",
              "              style=\"display:none;\">\n",
              "        \n",
              "  <svg xmlns=\"http://www.w3.org/2000/svg\" height=\"24px\"viewBox=\"0 0 24 24\"\n",
              "       width=\"24px\">\n",
              "    <path d=\"M0 0h24v24H0V0z\" fill=\"none\"/>\n",
              "    <path d=\"M18.56 5.44l.94 2.06.94-2.06 2.06-.94-2.06-.94-.94-2.06-.94 2.06-2.06.94zm-11 1L8.5 8.5l.94-2.06 2.06-.94-2.06-.94L8.5 2.5l-.94 2.06-2.06.94zm10 10l.94 2.06.94-2.06 2.06-.94-2.06-.94-.94-2.06-.94 2.06-2.06.94z\"/><path d=\"M17.41 7.96l-1.37-1.37c-.4-.4-.92-.59-1.43-.59-.52 0-1.04.2-1.43.59L10.3 9.45l-7.72 7.72c-.78.78-.78 2.05 0 2.83L4 21.41c.39.39.9.59 1.41.59.51 0 1.02-.2 1.41-.59l7.78-7.78 2.81-2.81c.8-.78.8-2.07 0-2.86zM5.41 20L4 18.59l7.72-7.72 1.47 1.35L5.41 20z\"/>\n",
              "  </svg>\n",
              "      </button>\n",
              "      \n",
              "  <style>\n",
              "    .colab-df-container {\n",
              "      display:flex;\n",
              "      flex-wrap:wrap;\n",
              "      gap: 12px;\n",
              "    }\n",
              "\n",
              "    .colab-df-convert {\n",
              "      background-color: #E8F0FE;\n",
              "      border: none;\n",
              "      border-radius: 50%;\n",
              "      cursor: pointer;\n",
              "      display: none;\n",
              "      fill: #1967D2;\n",
              "      height: 32px;\n",
              "      padding: 0 0 0 0;\n",
              "      width: 32px;\n",
              "    }\n",
              "\n",
              "    .colab-df-convert:hover {\n",
              "      background-color: #E2EBFA;\n",
              "      box-shadow: 0px 1px 2px rgba(60, 64, 67, 0.3), 0px 1px 3px 1px rgba(60, 64, 67, 0.15);\n",
              "      fill: #174EA6;\n",
              "    }\n",
              "\n",
              "    [theme=dark] .colab-df-convert {\n",
              "      background-color: #3B4455;\n",
              "      fill: #D2E3FC;\n",
              "    }\n",
              "\n",
              "    [theme=dark] .colab-df-convert:hover {\n",
              "      background-color: #434B5C;\n",
              "      box-shadow: 0px 1px 3px 1px rgba(0, 0, 0, 0.15);\n",
              "      filter: drop-shadow(0px 1px 2px rgba(0, 0, 0, 0.3));\n",
              "      fill: #FFFFFF;\n",
              "    }\n",
              "  </style>\n",
              "\n",
              "      <script>\n",
              "        const buttonEl =\n",
              "          document.querySelector('#df-fa8c65f3-d4a2-4a56-9634-401c5aea87a4 button.colab-df-convert');\n",
              "        buttonEl.style.display =\n",
              "          google.colab.kernel.accessAllowed ? 'block' : 'none';\n",
              "\n",
              "        async function convertToInteractive(key) {\n",
              "          const element = document.querySelector('#df-fa8c65f3-d4a2-4a56-9634-401c5aea87a4');\n",
              "          const dataTable =\n",
              "            await google.colab.kernel.invokeFunction('convertToInteractive',\n",
              "                                                     [key], {});\n",
              "          if (!dataTable) return;\n",
              "\n",
              "          const docLinkHtml = 'Like what you see? Visit the ' +\n",
              "            '<a target=\"_blank\" href=https://colab.research.google.com/notebooks/data_table.ipynb>data table notebook</a>'\n",
              "            + ' to learn more about interactive tables.';\n",
              "          element.innerHTML = '';\n",
              "          dataTable['output_type'] = 'display_data';\n",
              "          await google.colab.output.renderOutput(dataTable, element);\n",
              "          const docLink = document.createElement('div');\n",
              "          docLink.innerHTML = docLinkHtml;\n",
              "          element.appendChild(docLink);\n",
              "        }\n",
              "      </script>\n",
              "    </div>\n",
              "  </div>\n",
              "  "
            ]
          },
          "metadata": {},
          "execution_count": 10
        }
      ]
    },
    {
      "cell_type": "code",
      "source": [
        "dfPay.count() "
      ],
      "metadata": {
        "id": "qof-fD3OT_mf",
        "colab": {
          "base_uri": "https://localhost:8080/"
        },
        "outputId": "ab64d4db-598d-4d2c-8490-809d80c3ed7d"
      },
      "execution_count": 11,
      "outputs": [
        {
          "output_type": "execute_result",
          "data": {
            "text/plain": [
              "Unnamed: 0    52\n",
              "ID            52\n",
              "LIMIT_BAL     52\n",
              "AGE           52\n",
              "PAY_0         52\n",
              "PAY_2         52\n",
              "PAY_3         52\n",
              "PAY_4         52\n",
              "PAY_5         52\n",
              "PAY_6         52\n",
              "dtype: int64"
            ]
          },
          "metadata": {},
          "execution_count": 11
        }
      ]
    },
    {
      "cell_type": "markdown",
      "source": [
        "Con la función count() identifique todos los registros de esta base contienen información en todos sus datos"
      ],
      "metadata": {
        "id": "kjrA36FhUKPN"
      }
    },
    {
      "cell_type": "code",
      "source": [
        "dfPay.sort_values(\"ID\", inplace=True)"
      ],
      "metadata": {
        "id": "KF-xryEpj4-P"
      },
      "execution_count": 12,
      "outputs": []
    },
    {
      "cell_type": "code",
      "source": [
        "dfPay.nunique()"
      ],
      "metadata": {
        "id": "gWG6P9BKUBD0",
        "colab": {
          "base_uri": "https://localhost:8080/"
        },
        "outputId": "b3bfe5c7-371c-4226-e1fc-a19f1b9a8c10"
      },
      "execution_count": 13,
      "outputs": [
        {
          "output_type": "execute_result",
          "data": {
            "text/plain": [
              "Unnamed: 0    52\n",
              "ID            50\n",
              "LIMIT_BAL     24\n",
              "AGE           26\n",
              "PAY_0          5\n",
              "PAY_2          4\n",
              "PAY_3          4\n",
              "PAY_4          4\n",
              "PAY_5          4\n",
              "PAY_6          4\n",
              "dtype: int64"
            ]
          },
          "metadata": {},
          "execution_count": 13
        }
      ]
    },
    {
      "cell_type": "markdown",
      "source": [
        "Con la función nunique() identifique que hay dos registros duplicados (motivo: total es 52 y el ID tiene 50 valores únicos). Los ID 1 y 11."
      ],
      "metadata": {
        "id": "c1fbPfWGU51n"
      }
    },
    {
      "cell_type": "code",
      "source": [
        "pd.isna(dfPay).sum()"
      ],
      "metadata": {
        "id": "B7c6NMfaVelN",
        "colab": {
          "base_uri": "https://localhost:8080/"
        },
        "outputId": "6a4fb960-0520-4f83-ea91-e468872cb8a5"
      },
      "execution_count": 14,
      "outputs": [
        {
          "output_type": "execute_result",
          "data": {
            "text/plain": [
              "Unnamed: 0    0\n",
              "ID            0\n",
              "LIMIT_BAL     0\n",
              "AGE           0\n",
              "PAY_0         0\n",
              "PAY_2         0\n",
              "PAY_3         0\n",
              "PAY_4         0\n",
              "PAY_5         0\n",
              "PAY_6         0\n",
              "dtype: int64"
            ]
          },
          "metadata": {},
          "execution_count": 14
        }
      ]
    },
    {
      "cell_type": "markdown",
      "source": [
        "Con la función isna(df).sum() confirme que ningún registro contiene datos vacíos"
      ],
      "metadata": {
        "id": "1twhEU7bVnh_"
      }
    },
    {
      "cell_type": "code",
      "source": [
        "dfPay.describe(include='all')"
      ],
      "metadata": {
        "id": "Y96FRbwAVxxG",
        "colab": {
          "base_uri": "https://localhost:8080/",
          "height": 0
        },
        "outputId": "8098acb8-2ff4-4353-90f7-dd87ec160c17"
      },
      "execution_count": 15,
      "outputs": [
        {
          "output_type": "execute_result",
          "data": {
            "text/plain": [
              "        Unnamed: 0         ID LIMIT_BAL      AGE      PAY_0      PAY_2  \\\n",
              "count    52.000000  52.000000        52       52  52.000000  52.000000   \n",
              "unique         NaN        NaN        24       26        NaN        NaN   \n",
              "top            NaN        NaN   50000.0  No info        NaN        NaN   \n",
              "freq           NaN        NaN         9        8        NaN        NaN   \n",
              "mean     25.500000  25.038462       NaN      NaN  -0.115385  -0.288462   \n",
              "std      15.154757  14.687545       NaN      NaN   1.003012   1.054152   \n",
              "min       0.000000   1.000000       NaN      NaN  -2.000000  -2.000000   \n",
              "25%      12.750000  12.750000       NaN      NaN  -1.000000  -1.000000   \n",
              "50%      25.500000  25.500000       NaN      NaN   0.000000   0.000000   \n",
              "75%      38.250000  37.250000       NaN      NaN   0.000000   0.000000   \n",
              "max      51.000000  50.000000       NaN      NaN   2.000000   2.000000   \n",
              "\n",
              "            PAY_3      PAY_4      PAY_5      PAY_6  \n",
              "count   52.000000  52.000000  52.000000  52.000000  \n",
              "unique        NaN        NaN        NaN        NaN  \n",
              "top           NaN        NaN        NaN        NaN  \n",
              "freq          NaN        NaN        NaN        NaN  \n",
              "mean    -0.326923  -0.480769  -0.480769  -0.461538  \n",
              "std      1.115333   0.980004   0.939136   1.110759  \n",
              "min     -2.000000  -2.000000  -2.000000  -2.000000  \n",
              "25%     -1.000000  -1.000000  -1.000000  -1.000000  \n",
              "50%      0.000000   0.000000   0.000000   0.000000  \n",
              "75%      0.000000   0.000000   0.000000   0.000000  \n",
              "max      2.000000   2.000000   2.000000   2.000000  "
            ],
            "text/html": [
              "\n",
              "  <div id=\"df-1e931fec-ba02-4213-bf04-29a5342870ba\">\n",
              "    <div class=\"colab-df-container\">\n",
              "      <div>\n",
              "<style scoped>\n",
              "    .dataframe tbody tr th:only-of-type {\n",
              "        vertical-align: middle;\n",
              "    }\n",
              "\n",
              "    .dataframe tbody tr th {\n",
              "        vertical-align: top;\n",
              "    }\n",
              "\n",
              "    .dataframe thead th {\n",
              "        text-align: right;\n",
              "    }\n",
              "</style>\n",
              "<table border=\"1\" class=\"dataframe\">\n",
              "  <thead>\n",
              "    <tr style=\"text-align: right;\">\n",
              "      <th></th>\n",
              "      <th>Unnamed: 0</th>\n",
              "      <th>ID</th>\n",
              "      <th>LIMIT_BAL</th>\n",
              "      <th>AGE</th>\n",
              "      <th>PAY_0</th>\n",
              "      <th>PAY_2</th>\n",
              "      <th>PAY_3</th>\n",
              "      <th>PAY_4</th>\n",
              "      <th>PAY_5</th>\n",
              "      <th>PAY_6</th>\n",
              "    </tr>\n",
              "  </thead>\n",
              "  <tbody>\n",
              "    <tr>\n",
              "      <th>count</th>\n",
              "      <td>52.000000</td>\n",
              "      <td>52.000000</td>\n",
              "      <td>52</td>\n",
              "      <td>52</td>\n",
              "      <td>52.000000</td>\n",
              "      <td>52.000000</td>\n",
              "      <td>52.000000</td>\n",
              "      <td>52.000000</td>\n",
              "      <td>52.000000</td>\n",
              "      <td>52.000000</td>\n",
              "    </tr>\n",
              "    <tr>\n",
              "      <th>unique</th>\n",
              "      <td>NaN</td>\n",
              "      <td>NaN</td>\n",
              "      <td>24</td>\n",
              "      <td>26</td>\n",
              "      <td>NaN</td>\n",
              "      <td>NaN</td>\n",
              "      <td>NaN</td>\n",
              "      <td>NaN</td>\n",
              "      <td>NaN</td>\n",
              "      <td>NaN</td>\n",
              "    </tr>\n",
              "    <tr>\n",
              "      <th>top</th>\n",
              "      <td>NaN</td>\n",
              "      <td>NaN</td>\n",
              "      <td>50000.0</td>\n",
              "      <td>No info</td>\n",
              "      <td>NaN</td>\n",
              "      <td>NaN</td>\n",
              "      <td>NaN</td>\n",
              "      <td>NaN</td>\n",
              "      <td>NaN</td>\n",
              "      <td>NaN</td>\n",
              "    </tr>\n",
              "    <tr>\n",
              "      <th>freq</th>\n",
              "      <td>NaN</td>\n",
              "      <td>NaN</td>\n",
              "      <td>9</td>\n",
              "      <td>8</td>\n",
              "      <td>NaN</td>\n",
              "      <td>NaN</td>\n",
              "      <td>NaN</td>\n",
              "      <td>NaN</td>\n",
              "      <td>NaN</td>\n",
              "      <td>NaN</td>\n",
              "    </tr>\n",
              "    <tr>\n",
              "      <th>mean</th>\n",
              "      <td>25.500000</td>\n",
              "      <td>25.038462</td>\n",
              "      <td>NaN</td>\n",
              "      <td>NaN</td>\n",
              "      <td>-0.115385</td>\n",
              "      <td>-0.288462</td>\n",
              "      <td>-0.326923</td>\n",
              "      <td>-0.480769</td>\n",
              "      <td>-0.480769</td>\n",
              "      <td>-0.461538</td>\n",
              "    </tr>\n",
              "    <tr>\n",
              "      <th>std</th>\n",
              "      <td>15.154757</td>\n",
              "      <td>14.687545</td>\n",
              "      <td>NaN</td>\n",
              "      <td>NaN</td>\n",
              "      <td>1.003012</td>\n",
              "      <td>1.054152</td>\n",
              "      <td>1.115333</td>\n",
              "      <td>0.980004</td>\n",
              "      <td>0.939136</td>\n",
              "      <td>1.110759</td>\n",
              "    </tr>\n",
              "    <tr>\n",
              "      <th>min</th>\n",
              "      <td>0.000000</td>\n",
              "      <td>1.000000</td>\n",
              "      <td>NaN</td>\n",
              "      <td>NaN</td>\n",
              "      <td>-2.000000</td>\n",
              "      <td>-2.000000</td>\n",
              "      <td>-2.000000</td>\n",
              "      <td>-2.000000</td>\n",
              "      <td>-2.000000</td>\n",
              "      <td>-2.000000</td>\n",
              "    </tr>\n",
              "    <tr>\n",
              "      <th>25%</th>\n",
              "      <td>12.750000</td>\n",
              "      <td>12.750000</td>\n",
              "      <td>NaN</td>\n",
              "      <td>NaN</td>\n",
              "      <td>-1.000000</td>\n",
              "      <td>-1.000000</td>\n",
              "      <td>-1.000000</td>\n",
              "      <td>-1.000000</td>\n",
              "      <td>-1.000000</td>\n",
              "      <td>-1.000000</td>\n",
              "    </tr>\n",
              "    <tr>\n",
              "      <th>50%</th>\n",
              "      <td>25.500000</td>\n",
              "      <td>25.500000</td>\n",
              "      <td>NaN</td>\n",
              "      <td>NaN</td>\n",
              "      <td>0.000000</td>\n",
              "      <td>0.000000</td>\n",
              "      <td>0.000000</td>\n",
              "      <td>0.000000</td>\n",
              "      <td>0.000000</td>\n",
              "      <td>0.000000</td>\n",
              "    </tr>\n",
              "    <tr>\n",
              "      <th>75%</th>\n",
              "      <td>38.250000</td>\n",
              "      <td>37.250000</td>\n",
              "      <td>NaN</td>\n",
              "      <td>NaN</td>\n",
              "      <td>0.000000</td>\n",
              "      <td>0.000000</td>\n",
              "      <td>0.000000</td>\n",
              "      <td>0.000000</td>\n",
              "      <td>0.000000</td>\n",
              "      <td>0.000000</td>\n",
              "    </tr>\n",
              "    <tr>\n",
              "      <th>max</th>\n",
              "      <td>51.000000</td>\n",
              "      <td>50.000000</td>\n",
              "      <td>NaN</td>\n",
              "      <td>NaN</td>\n",
              "      <td>2.000000</td>\n",
              "      <td>2.000000</td>\n",
              "      <td>2.000000</td>\n",
              "      <td>2.000000</td>\n",
              "      <td>2.000000</td>\n",
              "      <td>2.000000</td>\n",
              "    </tr>\n",
              "  </tbody>\n",
              "</table>\n",
              "</div>\n",
              "      <button class=\"colab-df-convert\" onclick=\"convertToInteractive('df-1e931fec-ba02-4213-bf04-29a5342870ba')\"\n",
              "              title=\"Convert this dataframe to an interactive table.\"\n",
              "              style=\"display:none;\">\n",
              "        \n",
              "  <svg xmlns=\"http://www.w3.org/2000/svg\" height=\"24px\"viewBox=\"0 0 24 24\"\n",
              "       width=\"24px\">\n",
              "    <path d=\"M0 0h24v24H0V0z\" fill=\"none\"/>\n",
              "    <path d=\"M18.56 5.44l.94 2.06.94-2.06 2.06-.94-2.06-.94-.94-2.06-.94 2.06-2.06.94zm-11 1L8.5 8.5l.94-2.06 2.06-.94-2.06-.94L8.5 2.5l-.94 2.06-2.06.94zm10 10l.94 2.06.94-2.06 2.06-.94-2.06-.94-.94-2.06-.94 2.06-2.06.94z\"/><path d=\"M17.41 7.96l-1.37-1.37c-.4-.4-.92-.59-1.43-.59-.52 0-1.04.2-1.43.59L10.3 9.45l-7.72 7.72c-.78.78-.78 2.05 0 2.83L4 21.41c.39.39.9.59 1.41.59.51 0 1.02-.2 1.41-.59l7.78-7.78 2.81-2.81c.8-.78.8-2.07 0-2.86zM5.41 20L4 18.59l7.72-7.72 1.47 1.35L5.41 20z\"/>\n",
              "  </svg>\n",
              "      </button>\n",
              "      \n",
              "  <style>\n",
              "    .colab-df-container {\n",
              "      display:flex;\n",
              "      flex-wrap:wrap;\n",
              "      gap: 12px;\n",
              "    }\n",
              "\n",
              "    .colab-df-convert {\n",
              "      background-color: #E8F0FE;\n",
              "      border: none;\n",
              "      border-radius: 50%;\n",
              "      cursor: pointer;\n",
              "      display: none;\n",
              "      fill: #1967D2;\n",
              "      height: 32px;\n",
              "      padding: 0 0 0 0;\n",
              "      width: 32px;\n",
              "    }\n",
              "\n",
              "    .colab-df-convert:hover {\n",
              "      background-color: #E2EBFA;\n",
              "      box-shadow: 0px 1px 2px rgba(60, 64, 67, 0.3), 0px 1px 3px 1px rgba(60, 64, 67, 0.15);\n",
              "      fill: #174EA6;\n",
              "    }\n",
              "\n",
              "    [theme=dark] .colab-df-convert {\n",
              "      background-color: #3B4455;\n",
              "      fill: #D2E3FC;\n",
              "    }\n",
              "\n",
              "    [theme=dark] .colab-df-convert:hover {\n",
              "      background-color: #434B5C;\n",
              "      box-shadow: 0px 1px 3px 1px rgba(0, 0, 0, 0.15);\n",
              "      filter: drop-shadow(0px 1px 2px rgba(0, 0, 0, 0.3));\n",
              "      fill: #FFFFFF;\n",
              "    }\n",
              "  </style>\n",
              "\n",
              "      <script>\n",
              "        const buttonEl =\n",
              "          document.querySelector('#df-1e931fec-ba02-4213-bf04-29a5342870ba button.colab-df-convert');\n",
              "        buttonEl.style.display =\n",
              "          google.colab.kernel.accessAllowed ? 'block' : 'none';\n",
              "\n",
              "        async function convertToInteractive(key) {\n",
              "          const element = document.querySelector('#df-1e931fec-ba02-4213-bf04-29a5342870ba');\n",
              "          const dataTable =\n",
              "            await google.colab.kernel.invokeFunction('convertToInteractive',\n",
              "                                                     [key], {});\n",
              "          if (!dataTable) return;\n",
              "\n",
              "          const docLinkHtml = 'Like what you see? Visit the ' +\n",
              "            '<a target=\"_blank\" href=https://colab.research.google.com/notebooks/data_table.ipynb>data table notebook</a>'\n",
              "            + ' to learn more about interactive tables.';\n",
              "          element.innerHTML = '';\n",
              "          dataTable['output_type'] = 'display_data';\n",
              "          await google.colab.output.renderOutput(dataTable, element);\n",
              "          const docLink = document.createElement('div');\n",
              "          docLink.innerHTML = docLinkHtml;\n",
              "          element.appendChild(docLink);\n",
              "        }\n",
              "      </script>\n",
              "    </div>\n",
              "  </div>\n",
              "  "
            ]
          },
          "metadata": {},
          "execution_count": 15
        }
      ]
    },
    {
      "cell_type": "code",
      "source": [
        "dfPay.describe(include=['object'])"
      ],
      "metadata": {
        "id": "c6M_1noWV7qE",
        "colab": {
          "base_uri": "https://localhost:8080/",
          "height": 0
        },
        "outputId": "18ffc107-113d-44b8-9560-03105a13928f"
      },
      "execution_count": 16,
      "outputs": [
        {
          "output_type": "execute_result",
          "data": {
            "text/plain": [
              "       LIMIT_BAL      AGE\n",
              "count         52       52\n",
              "unique        24       26\n",
              "top      50000.0  No info\n",
              "freq           9        8"
            ],
            "text/html": [
              "\n",
              "  <div id=\"df-7fb42ddb-efe3-4014-bd8e-2a0553d7d220\">\n",
              "    <div class=\"colab-df-container\">\n",
              "      <div>\n",
              "<style scoped>\n",
              "    .dataframe tbody tr th:only-of-type {\n",
              "        vertical-align: middle;\n",
              "    }\n",
              "\n",
              "    .dataframe tbody tr th {\n",
              "        vertical-align: top;\n",
              "    }\n",
              "\n",
              "    .dataframe thead th {\n",
              "        text-align: right;\n",
              "    }\n",
              "</style>\n",
              "<table border=\"1\" class=\"dataframe\">\n",
              "  <thead>\n",
              "    <tr style=\"text-align: right;\">\n",
              "      <th></th>\n",
              "      <th>LIMIT_BAL</th>\n",
              "      <th>AGE</th>\n",
              "    </tr>\n",
              "  </thead>\n",
              "  <tbody>\n",
              "    <tr>\n",
              "      <th>count</th>\n",
              "      <td>52</td>\n",
              "      <td>52</td>\n",
              "    </tr>\n",
              "    <tr>\n",
              "      <th>unique</th>\n",
              "      <td>24</td>\n",
              "      <td>26</td>\n",
              "    </tr>\n",
              "    <tr>\n",
              "      <th>top</th>\n",
              "      <td>50000.0</td>\n",
              "      <td>No info</td>\n",
              "    </tr>\n",
              "    <tr>\n",
              "      <th>freq</th>\n",
              "      <td>9</td>\n",
              "      <td>8</td>\n",
              "    </tr>\n",
              "  </tbody>\n",
              "</table>\n",
              "</div>\n",
              "      <button class=\"colab-df-convert\" onclick=\"convertToInteractive('df-7fb42ddb-efe3-4014-bd8e-2a0553d7d220')\"\n",
              "              title=\"Convert this dataframe to an interactive table.\"\n",
              "              style=\"display:none;\">\n",
              "        \n",
              "  <svg xmlns=\"http://www.w3.org/2000/svg\" height=\"24px\"viewBox=\"0 0 24 24\"\n",
              "       width=\"24px\">\n",
              "    <path d=\"M0 0h24v24H0V0z\" fill=\"none\"/>\n",
              "    <path d=\"M18.56 5.44l.94 2.06.94-2.06 2.06-.94-2.06-.94-.94-2.06-.94 2.06-2.06.94zm-11 1L8.5 8.5l.94-2.06 2.06-.94-2.06-.94L8.5 2.5l-.94 2.06-2.06.94zm10 10l.94 2.06.94-2.06 2.06-.94-2.06-.94-.94-2.06-.94 2.06-2.06.94z\"/><path d=\"M17.41 7.96l-1.37-1.37c-.4-.4-.92-.59-1.43-.59-.52 0-1.04.2-1.43.59L10.3 9.45l-7.72 7.72c-.78.78-.78 2.05 0 2.83L4 21.41c.39.39.9.59 1.41.59.51 0 1.02-.2 1.41-.59l7.78-7.78 2.81-2.81c.8-.78.8-2.07 0-2.86zM5.41 20L4 18.59l7.72-7.72 1.47 1.35L5.41 20z\"/>\n",
              "  </svg>\n",
              "      </button>\n",
              "      \n",
              "  <style>\n",
              "    .colab-df-container {\n",
              "      display:flex;\n",
              "      flex-wrap:wrap;\n",
              "      gap: 12px;\n",
              "    }\n",
              "\n",
              "    .colab-df-convert {\n",
              "      background-color: #E8F0FE;\n",
              "      border: none;\n",
              "      border-radius: 50%;\n",
              "      cursor: pointer;\n",
              "      display: none;\n",
              "      fill: #1967D2;\n",
              "      height: 32px;\n",
              "      padding: 0 0 0 0;\n",
              "      width: 32px;\n",
              "    }\n",
              "\n",
              "    .colab-df-convert:hover {\n",
              "      background-color: #E2EBFA;\n",
              "      box-shadow: 0px 1px 2px rgba(60, 64, 67, 0.3), 0px 1px 3px 1px rgba(60, 64, 67, 0.15);\n",
              "      fill: #174EA6;\n",
              "    }\n",
              "\n",
              "    [theme=dark] .colab-df-convert {\n",
              "      background-color: #3B4455;\n",
              "      fill: #D2E3FC;\n",
              "    }\n",
              "\n",
              "    [theme=dark] .colab-df-convert:hover {\n",
              "      background-color: #434B5C;\n",
              "      box-shadow: 0px 1px 3px 1px rgba(0, 0, 0, 0.15);\n",
              "      filter: drop-shadow(0px 1px 2px rgba(0, 0, 0, 0.3));\n",
              "      fill: #FFFFFF;\n",
              "    }\n",
              "  </style>\n",
              "\n",
              "      <script>\n",
              "        const buttonEl =\n",
              "          document.querySelector('#df-7fb42ddb-efe3-4014-bd8e-2a0553d7d220 button.colab-df-convert');\n",
              "        buttonEl.style.display =\n",
              "          google.colab.kernel.accessAllowed ? 'block' : 'none';\n",
              "\n",
              "        async function convertToInteractive(key) {\n",
              "          const element = document.querySelector('#df-7fb42ddb-efe3-4014-bd8e-2a0553d7d220');\n",
              "          const dataTable =\n",
              "            await google.colab.kernel.invokeFunction('convertToInteractive',\n",
              "                                                     [key], {});\n",
              "          if (!dataTable) return;\n",
              "\n",
              "          const docLinkHtml = 'Like what you see? Visit the ' +\n",
              "            '<a target=\"_blank\" href=https://colab.research.google.com/notebooks/data_table.ipynb>data table notebook</a>'\n",
              "            + ' to learn more about interactive tables.';\n",
              "          element.innerHTML = '';\n",
              "          dataTable['output_type'] = 'display_data';\n",
              "          await google.colab.output.renderOutput(dataTable, element);\n",
              "          const docLink = document.createElement('div');\n",
              "          docLink.innerHTML = docLinkHtml;\n",
              "          element.appendChild(docLink);\n",
              "        }\n",
              "      </script>\n",
              "    </div>\n",
              "  </div>\n",
              "  "
            ]
          },
          "metadata": {},
          "execution_count": 16
        }
      ]
    },
    {
      "cell_type": "code",
      "source": [
        "dfPay.describe(include=[np.number])"
      ],
      "metadata": {
        "id": "ebYVYYgPWBPE",
        "colab": {
          "base_uri": "https://localhost:8080/",
          "height": 0
        },
        "outputId": "0a0d3164-ba97-4fe2-d1df-0866b3ae0f9b"
      },
      "execution_count": 17,
      "outputs": [
        {
          "output_type": "execute_result",
          "data": {
            "text/plain": [
              "       Unnamed: 0         ID      PAY_0      PAY_2      PAY_3      PAY_4  \\\n",
              "count   52.000000  52.000000  52.000000  52.000000  52.000000  52.000000   \n",
              "mean    25.500000  25.038462  -0.115385  -0.288462  -0.326923  -0.480769   \n",
              "std     15.154757  14.687545   1.003012   1.054152   1.115333   0.980004   \n",
              "min      0.000000   1.000000  -2.000000  -2.000000  -2.000000  -2.000000   \n",
              "25%     12.750000  12.750000  -1.000000  -1.000000  -1.000000  -1.000000   \n",
              "50%     25.500000  25.500000   0.000000   0.000000   0.000000   0.000000   \n",
              "75%     38.250000  37.250000   0.000000   0.000000   0.000000   0.000000   \n",
              "max     51.000000  50.000000   2.000000   2.000000   2.000000   2.000000   \n",
              "\n",
              "           PAY_5      PAY_6  \n",
              "count  52.000000  52.000000  \n",
              "mean   -0.480769  -0.461538  \n",
              "std     0.939136   1.110759  \n",
              "min    -2.000000  -2.000000  \n",
              "25%    -1.000000  -1.000000  \n",
              "50%     0.000000   0.000000  \n",
              "75%     0.000000   0.000000  \n",
              "max     2.000000   2.000000  "
            ],
            "text/html": [
              "\n",
              "  <div id=\"df-012e709e-eb63-4e0f-a200-d0d12ff7dae9\">\n",
              "    <div class=\"colab-df-container\">\n",
              "      <div>\n",
              "<style scoped>\n",
              "    .dataframe tbody tr th:only-of-type {\n",
              "        vertical-align: middle;\n",
              "    }\n",
              "\n",
              "    .dataframe tbody tr th {\n",
              "        vertical-align: top;\n",
              "    }\n",
              "\n",
              "    .dataframe thead th {\n",
              "        text-align: right;\n",
              "    }\n",
              "</style>\n",
              "<table border=\"1\" class=\"dataframe\">\n",
              "  <thead>\n",
              "    <tr style=\"text-align: right;\">\n",
              "      <th></th>\n",
              "      <th>Unnamed: 0</th>\n",
              "      <th>ID</th>\n",
              "      <th>PAY_0</th>\n",
              "      <th>PAY_2</th>\n",
              "      <th>PAY_3</th>\n",
              "      <th>PAY_4</th>\n",
              "      <th>PAY_5</th>\n",
              "      <th>PAY_6</th>\n",
              "    </tr>\n",
              "  </thead>\n",
              "  <tbody>\n",
              "    <tr>\n",
              "      <th>count</th>\n",
              "      <td>52.000000</td>\n",
              "      <td>52.000000</td>\n",
              "      <td>52.000000</td>\n",
              "      <td>52.000000</td>\n",
              "      <td>52.000000</td>\n",
              "      <td>52.000000</td>\n",
              "      <td>52.000000</td>\n",
              "      <td>52.000000</td>\n",
              "    </tr>\n",
              "    <tr>\n",
              "      <th>mean</th>\n",
              "      <td>25.500000</td>\n",
              "      <td>25.038462</td>\n",
              "      <td>-0.115385</td>\n",
              "      <td>-0.288462</td>\n",
              "      <td>-0.326923</td>\n",
              "      <td>-0.480769</td>\n",
              "      <td>-0.480769</td>\n",
              "      <td>-0.461538</td>\n",
              "    </tr>\n",
              "    <tr>\n",
              "      <th>std</th>\n",
              "      <td>15.154757</td>\n",
              "      <td>14.687545</td>\n",
              "      <td>1.003012</td>\n",
              "      <td>1.054152</td>\n",
              "      <td>1.115333</td>\n",
              "      <td>0.980004</td>\n",
              "      <td>0.939136</td>\n",
              "      <td>1.110759</td>\n",
              "    </tr>\n",
              "    <tr>\n",
              "      <th>min</th>\n",
              "      <td>0.000000</td>\n",
              "      <td>1.000000</td>\n",
              "      <td>-2.000000</td>\n",
              "      <td>-2.000000</td>\n",
              "      <td>-2.000000</td>\n",
              "      <td>-2.000000</td>\n",
              "      <td>-2.000000</td>\n",
              "      <td>-2.000000</td>\n",
              "    </tr>\n",
              "    <tr>\n",
              "      <th>25%</th>\n",
              "      <td>12.750000</td>\n",
              "      <td>12.750000</td>\n",
              "      <td>-1.000000</td>\n",
              "      <td>-1.000000</td>\n",
              "      <td>-1.000000</td>\n",
              "      <td>-1.000000</td>\n",
              "      <td>-1.000000</td>\n",
              "      <td>-1.000000</td>\n",
              "    </tr>\n",
              "    <tr>\n",
              "      <th>50%</th>\n",
              "      <td>25.500000</td>\n",
              "      <td>25.500000</td>\n",
              "      <td>0.000000</td>\n",
              "      <td>0.000000</td>\n",
              "      <td>0.000000</td>\n",
              "      <td>0.000000</td>\n",
              "      <td>0.000000</td>\n",
              "      <td>0.000000</td>\n",
              "    </tr>\n",
              "    <tr>\n",
              "      <th>75%</th>\n",
              "      <td>38.250000</td>\n",
              "      <td>37.250000</td>\n",
              "      <td>0.000000</td>\n",
              "      <td>0.000000</td>\n",
              "      <td>0.000000</td>\n",
              "      <td>0.000000</td>\n",
              "      <td>0.000000</td>\n",
              "      <td>0.000000</td>\n",
              "    </tr>\n",
              "    <tr>\n",
              "      <th>max</th>\n",
              "      <td>51.000000</td>\n",
              "      <td>50.000000</td>\n",
              "      <td>2.000000</td>\n",
              "      <td>2.000000</td>\n",
              "      <td>2.000000</td>\n",
              "      <td>2.000000</td>\n",
              "      <td>2.000000</td>\n",
              "      <td>2.000000</td>\n",
              "    </tr>\n",
              "  </tbody>\n",
              "</table>\n",
              "</div>\n",
              "      <button class=\"colab-df-convert\" onclick=\"convertToInteractive('df-012e709e-eb63-4e0f-a200-d0d12ff7dae9')\"\n",
              "              title=\"Convert this dataframe to an interactive table.\"\n",
              "              style=\"display:none;\">\n",
              "        \n",
              "  <svg xmlns=\"http://www.w3.org/2000/svg\" height=\"24px\"viewBox=\"0 0 24 24\"\n",
              "       width=\"24px\">\n",
              "    <path d=\"M0 0h24v24H0V0z\" fill=\"none\"/>\n",
              "    <path d=\"M18.56 5.44l.94 2.06.94-2.06 2.06-.94-2.06-.94-.94-2.06-.94 2.06-2.06.94zm-11 1L8.5 8.5l.94-2.06 2.06-.94-2.06-.94L8.5 2.5l-.94 2.06-2.06.94zm10 10l.94 2.06.94-2.06 2.06-.94-2.06-.94-.94-2.06-.94 2.06-2.06.94z\"/><path d=\"M17.41 7.96l-1.37-1.37c-.4-.4-.92-.59-1.43-.59-.52 0-1.04.2-1.43.59L10.3 9.45l-7.72 7.72c-.78.78-.78 2.05 0 2.83L4 21.41c.39.39.9.59 1.41.59.51 0 1.02-.2 1.41-.59l7.78-7.78 2.81-2.81c.8-.78.8-2.07 0-2.86zM5.41 20L4 18.59l7.72-7.72 1.47 1.35L5.41 20z\"/>\n",
              "  </svg>\n",
              "      </button>\n",
              "      \n",
              "  <style>\n",
              "    .colab-df-container {\n",
              "      display:flex;\n",
              "      flex-wrap:wrap;\n",
              "      gap: 12px;\n",
              "    }\n",
              "\n",
              "    .colab-df-convert {\n",
              "      background-color: #E8F0FE;\n",
              "      border: none;\n",
              "      border-radius: 50%;\n",
              "      cursor: pointer;\n",
              "      display: none;\n",
              "      fill: #1967D2;\n",
              "      height: 32px;\n",
              "      padding: 0 0 0 0;\n",
              "      width: 32px;\n",
              "    }\n",
              "\n",
              "    .colab-df-convert:hover {\n",
              "      background-color: #E2EBFA;\n",
              "      box-shadow: 0px 1px 2px rgba(60, 64, 67, 0.3), 0px 1px 3px 1px rgba(60, 64, 67, 0.15);\n",
              "      fill: #174EA6;\n",
              "    }\n",
              "\n",
              "    [theme=dark] .colab-df-convert {\n",
              "      background-color: #3B4455;\n",
              "      fill: #D2E3FC;\n",
              "    }\n",
              "\n",
              "    [theme=dark] .colab-df-convert:hover {\n",
              "      background-color: #434B5C;\n",
              "      box-shadow: 0px 1px 3px 1px rgba(0, 0, 0, 0.15);\n",
              "      filter: drop-shadow(0px 1px 2px rgba(0, 0, 0, 0.3));\n",
              "      fill: #FFFFFF;\n",
              "    }\n",
              "  </style>\n",
              "\n",
              "      <script>\n",
              "        const buttonEl =\n",
              "          document.querySelector('#df-012e709e-eb63-4e0f-a200-d0d12ff7dae9 button.colab-df-convert');\n",
              "        buttonEl.style.display =\n",
              "          google.colab.kernel.accessAllowed ? 'block' : 'none';\n",
              "\n",
              "        async function convertToInteractive(key) {\n",
              "          const element = document.querySelector('#df-012e709e-eb63-4e0f-a200-d0d12ff7dae9');\n",
              "          const dataTable =\n",
              "            await google.colab.kernel.invokeFunction('convertToInteractive',\n",
              "                                                     [key], {});\n",
              "          if (!dataTable) return;\n",
              "\n",
              "          const docLinkHtml = 'Like what you see? Visit the ' +\n",
              "            '<a target=\"_blank\" href=https://colab.research.google.com/notebooks/data_table.ipynb>data table notebook</a>'\n",
              "            + ' to learn more about interactive tables.';\n",
              "          element.innerHTML = '';\n",
              "          dataTable['output_type'] = 'display_data';\n",
              "          await google.colab.output.renderOutput(dataTable, element);\n",
              "          const docLink = document.createElement('div');\n",
              "          docLink.innerHTML = docLinkHtml;\n",
              "          element.appendChild(docLink);\n",
              "        }\n",
              "      </script>\n",
              "    </div>\n",
              "  </div>\n",
              "  "
            ]
          },
          "metadata": {},
          "execution_count": 17
        }
      ]
    },
    {
      "cell_type": "markdown",
      "source": [
        "# **Se carga y estudia TERCERA fuente de datos sobre las tarjetas de crédito de los clientes (UCI_Credit_Card_PayATM), contiene 52 registros.**"
      ],
      "metadata": {
        "id": "xVZoVBrpJh7I"
      }
    },
    {
      "cell_type": "code",
      "source": [
        "dfPayATM = pd.read_csv('UCI_Credit_Card_PayATM.csv',sep=',')"
      ],
      "metadata": {
        "id": "anC4Xw2IJoeQ"
      },
      "execution_count": 18,
      "outputs": []
    },
    {
      "cell_type": "code",
      "source": [
        "dfPayATM.head()"
      ],
      "metadata": {
        "id": "HTgn1sydJxfF",
        "colab": {
          "base_uri": "https://localhost:8080/",
          "height": 206
        },
        "outputId": "b1509a55-902e-4cdc-bc2b-9e484746ee0b"
      },
      "execution_count": 18,
      "outputs": [
        {
          "output_type": "execute_result",
          "data": {
            "text/plain": [
              "   Unnamed: 0  ID LIMIT_BAL EDUCATION  PAY_AMT1  PAY_AMT2  PAY_AMT3  PAY_AMT4  \\\n",
              "0           0   1   20000.0         2       0.0     689.0       0.0       0.0   \n",
              "1           1   2  120000.0         2       0.0    1000.0    1000.0    1000.0   \n",
              "2           2   3   90000.0      Null    1518.0    1500.0    1000.0    1000.0   \n",
              "3           3   4         -         2    2000.0    2019.0    1200.0    1100.0   \n",
              "4           4   5   50000.0         2    2000.0   36681.0   10000.0    9000.0   \n",
              "\n",
              "   PAY_AMT5  PAY_AMT6  \n",
              "0       0.0       0.0  \n",
              "1       0.0    2000.0  \n",
              "2    1000.0    5000.0  \n",
              "3    1069.0    1000.0  \n",
              "4     689.0     679.0  "
            ],
            "text/html": [
              "\n",
              "  <div id=\"df-631bfa2c-a516-4924-b824-c329d8ba1706\">\n",
              "    <div class=\"colab-df-container\">\n",
              "      <div>\n",
              "<style scoped>\n",
              "    .dataframe tbody tr th:only-of-type {\n",
              "        vertical-align: middle;\n",
              "    }\n",
              "\n",
              "    .dataframe tbody tr th {\n",
              "        vertical-align: top;\n",
              "    }\n",
              "\n",
              "    .dataframe thead th {\n",
              "        text-align: right;\n",
              "    }\n",
              "</style>\n",
              "<table border=\"1\" class=\"dataframe\">\n",
              "  <thead>\n",
              "    <tr style=\"text-align: right;\">\n",
              "      <th></th>\n",
              "      <th>Unnamed: 0</th>\n",
              "      <th>ID</th>\n",
              "      <th>LIMIT_BAL</th>\n",
              "      <th>EDUCATION</th>\n",
              "      <th>PAY_AMT1</th>\n",
              "      <th>PAY_AMT2</th>\n",
              "      <th>PAY_AMT3</th>\n",
              "      <th>PAY_AMT4</th>\n",
              "      <th>PAY_AMT5</th>\n",
              "      <th>PAY_AMT6</th>\n",
              "    </tr>\n",
              "  </thead>\n",
              "  <tbody>\n",
              "    <tr>\n",
              "      <th>0</th>\n",
              "      <td>0</td>\n",
              "      <td>1</td>\n",
              "      <td>20000.0</td>\n",
              "      <td>2</td>\n",
              "      <td>0.0</td>\n",
              "      <td>689.0</td>\n",
              "      <td>0.0</td>\n",
              "      <td>0.0</td>\n",
              "      <td>0.0</td>\n",
              "      <td>0.0</td>\n",
              "    </tr>\n",
              "    <tr>\n",
              "      <th>1</th>\n",
              "      <td>1</td>\n",
              "      <td>2</td>\n",
              "      <td>120000.0</td>\n",
              "      <td>2</td>\n",
              "      <td>0.0</td>\n",
              "      <td>1000.0</td>\n",
              "      <td>1000.0</td>\n",
              "      <td>1000.0</td>\n",
              "      <td>0.0</td>\n",
              "      <td>2000.0</td>\n",
              "    </tr>\n",
              "    <tr>\n",
              "      <th>2</th>\n",
              "      <td>2</td>\n",
              "      <td>3</td>\n",
              "      <td>90000.0</td>\n",
              "      <td>Null</td>\n",
              "      <td>1518.0</td>\n",
              "      <td>1500.0</td>\n",
              "      <td>1000.0</td>\n",
              "      <td>1000.0</td>\n",
              "      <td>1000.0</td>\n",
              "      <td>5000.0</td>\n",
              "    </tr>\n",
              "    <tr>\n",
              "      <th>3</th>\n",
              "      <td>3</td>\n",
              "      <td>4</td>\n",
              "      <td>-</td>\n",
              "      <td>2</td>\n",
              "      <td>2000.0</td>\n",
              "      <td>2019.0</td>\n",
              "      <td>1200.0</td>\n",
              "      <td>1100.0</td>\n",
              "      <td>1069.0</td>\n",
              "      <td>1000.0</td>\n",
              "    </tr>\n",
              "    <tr>\n",
              "      <th>4</th>\n",
              "      <td>4</td>\n",
              "      <td>5</td>\n",
              "      <td>50000.0</td>\n",
              "      <td>2</td>\n",
              "      <td>2000.0</td>\n",
              "      <td>36681.0</td>\n",
              "      <td>10000.0</td>\n",
              "      <td>9000.0</td>\n",
              "      <td>689.0</td>\n",
              "      <td>679.0</td>\n",
              "    </tr>\n",
              "  </tbody>\n",
              "</table>\n",
              "</div>\n",
              "      <button class=\"colab-df-convert\" onclick=\"convertToInteractive('df-631bfa2c-a516-4924-b824-c329d8ba1706')\"\n",
              "              title=\"Convert this dataframe to an interactive table.\"\n",
              "              style=\"display:none;\">\n",
              "        \n",
              "  <svg xmlns=\"http://www.w3.org/2000/svg\" height=\"24px\"viewBox=\"0 0 24 24\"\n",
              "       width=\"24px\">\n",
              "    <path d=\"M0 0h24v24H0V0z\" fill=\"none\"/>\n",
              "    <path d=\"M18.56 5.44l.94 2.06.94-2.06 2.06-.94-2.06-.94-.94-2.06-.94 2.06-2.06.94zm-11 1L8.5 8.5l.94-2.06 2.06-.94-2.06-.94L8.5 2.5l-.94 2.06-2.06.94zm10 10l.94 2.06.94-2.06 2.06-.94-2.06-.94-.94-2.06-.94 2.06-2.06.94z\"/><path d=\"M17.41 7.96l-1.37-1.37c-.4-.4-.92-.59-1.43-.59-.52 0-1.04.2-1.43.59L10.3 9.45l-7.72 7.72c-.78.78-.78 2.05 0 2.83L4 21.41c.39.39.9.59 1.41.59.51 0 1.02-.2 1.41-.59l7.78-7.78 2.81-2.81c.8-.78.8-2.07 0-2.86zM5.41 20L4 18.59l7.72-7.72 1.47 1.35L5.41 20z\"/>\n",
              "  </svg>\n",
              "      </button>\n",
              "      \n",
              "  <style>\n",
              "    .colab-df-container {\n",
              "      display:flex;\n",
              "      flex-wrap:wrap;\n",
              "      gap: 12px;\n",
              "    }\n",
              "\n",
              "    .colab-df-convert {\n",
              "      background-color: #E8F0FE;\n",
              "      border: none;\n",
              "      border-radius: 50%;\n",
              "      cursor: pointer;\n",
              "      display: none;\n",
              "      fill: #1967D2;\n",
              "      height: 32px;\n",
              "      padding: 0 0 0 0;\n",
              "      width: 32px;\n",
              "    }\n",
              "\n",
              "    .colab-df-convert:hover {\n",
              "      background-color: #E2EBFA;\n",
              "      box-shadow: 0px 1px 2px rgba(60, 64, 67, 0.3), 0px 1px 3px 1px rgba(60, 64, 67, 0.15);\n",
              "      fill: #174EA6;\n",
              "    }\n",
              "\n",
              "    [theme=dark] .colab-df-convert {\n",
              "      background-color: #3B4455;\n",
              "      fill: #D2E3FC;\n",
              "    }\n",
              "\n",
              "    [theme=dark] .colab-df-convert:hover {\n",
              "      background-color: #434B5C;\n",
              "      box-shadow: 0px 1px 3px 1px rgba(0, 0, 0, 0.15);\n",
              "      filter: drop-shadow(0px 1px 2px rgba(0, 0, 0, 0.3));\n",
              "      fill: #FFFFFF;\n",
              "    }\n",
              "  </style>\n",
              "\n",
              "      <script>\n",
              "        const buttonEl =\n",
              "          document.querySelector('#df-631bfa2c-a516-4924-b824-c329d8ba1706 button.colab-df-convert');\n",
              "        buttonEl.style.display =\n",
              "          google.colab.kernel.accessAllowed ? 'block' : 'none';\n",
              "\n",
              "        async function convertToInteractive(key) {\n",
              "          const element = document.querySelector('#df-631bfa2c-a516-4924-b824-c329d8ba1706');\n",
              "          const dataTable =\n",
              "            await google.colab.kernel.invokeFunction('convertToInteractive',\n",
              "                                                     [key], {});\n",
              "          if (!dataTable) return;\n",
              "\n",
              "          const docLinkHtml = 'Like what you see? Visit the ' +\n",
              "            '<a target=\"_blank\" href=https://colab.research.google.com/notebooks/data_table.ipynb>data table notebook</a>'\n",
              "            + ' to learn more about interactive tables.';\n",
              "          element.innerHTML = '';\n",
              "          dataTable['output_type'] = 'display_data';\n",
              "          await google.colab.output.renderOutput(dataTable, element);\n",
              "          const docLink = document.createElement('div');\n",
              "          docLink.innerHTML = docLinkHtml;\n",
              "          element.appendChild(docLink);\n",
              "        }\n",
              "      </script>\n",
              "    </div>\n",
              "  </div>\n",
              "  "
            ]
          },
          "metadata": {},
          "execution_count": 18
        }
      ]
    },
    {
      "cell_type": "code",
      "source": [
        "dfPayATM.tail()"
      ],
      "metadata": {
        "id": "eCdCLYjkMD3X",
        "colab": {
          "base_uri": "https://localhost:8080/",
          "height": 206
        },
        "outputId": "2c6718f3-fca7-4712-ef7d-3e7b4d514c14"
      },
      "execution_count": 19,
      "outputs": [
        {
          "output_type": "execute_result",
          "data": {
            "text/plain": [
              "    Unnamed: 0  ID LIMIT_BAL EDUCATION  PAY_AMT1  PAY_AMT2  PAY_AMT3  \\\n",
              "47          47  48         -         5    1013.0    1170.0       0.0   \n",
              "48          48  49  380000.0         2   21540.0   15138.0   24677.0   \n",
              "49          49  50   20000.0         1    1318.0    1315.0     704.0   \n",
              "50          50  36  160000.0         1     131.0     396.0     396.0   \n",
              "51          51  46  210000.0         1       0.0       0.0       0.0   \n",
              "\n",
              "    PAY_AMT4  PAY_AMT5  PAY_AMT6  \n",
              "47       0.0       0.0       0.0  \n",
              "48   11851.0   11875.0    8251.0  \n",
              "49     928.0     912.0    1069.0  \n",
              "50     565.0     792.0       0.0  \n",
              "51       0.0       0.0       0.0  "
            ],
            "text/html": [
              "\n",
              "  <div id=\"df-21578561-2251-4c5a-9c79-31169532c8de\">\n",
              "    <div class=\"colab-df-container\">\n",
              "      <div>\n",
              "<style scoped>\n",
              "    .dataframe tbody tr th:only-of-type {\n",
              "        vertical-align: middle;\n",
              "    }\n",
              "\n",
              "    .dataframe tbody tr th {\n",
              "        vertical-align: top;\n",
              "    }\n",
              "\n",
              "    .dataframe thead th {\n",
              "        text-align: right;\n",
              "    }\n",
              "</style>\n",
              "<table border=\"1\" class=\"dataframe\">\n",
              "  <thead>\n",
              "    <tr style=\"text-align: right;\">\n",
              "      <th></th>\n",
              "      <th>Unnamed: 0</th>\n",
              "      <th>ID</th>\n",
              "      <th>LIMIT_BAL</th>\n",
              "      <th>EDUCATION</th>\n",
              "      <th>PAY_AMT1</th>\n",
              "      <th>PAY_AMT2</th>\n",
              "      <th>PAY_AMT3</th>\n",
              "      <th>PAY_AMT4</th>\n",
              "      <th>PAY_AMT5</th>\n",
              "      <th>PAY_AMT6</th>\n",
              "    </tr>\n",
              "  </thead>\n",
              "  <tbody>\n",
              "    <tr>\n",
              "      <th>47</th>\n",
              "      <td>47</td>\n",
              "      <td>48</td>\n",
              "      <td>-</td>\n",
              "      <td>5</td>\n",
              "      <td>1013.0</td>\n",
              "      <td>1170.0</td>\n",
              "      <td>0.0</td>\n",
              "      <td>0.0</td>\n",
              "      <td>0.0</td>\n",
              "      <td>0.0</td>\n",
              "    </tr>\n",
              "    <tr>\n",
              "      <th>48</th>\n",
              "      <td>48</td>\n",
              "      <td>49</td>\n",
              "      <td>380000.0</td>\n",
              "      <td>2</td>\n",
              "      <td>21540.0</td>\n",
              "      <td>15138.0</td>\n",
              "      <td>24677.0</td>\n",
              "      <td>11851.0</td>\n",
              "      <td>11875.0</td>\n",
              "      <td>8251.0</td>\n",
              "    </tr>\n",
              "    <tr>\n",
              "      <th>49</th>\n",
              "      <td>49</td>\n",
              "      <td>50</td>\n",
              "      <td>20000.0</td>\n",
              "      <td>1</td>\n",
              "      <td>1318.0</td>\n",
              "      <td>1315.0</td>\n",
              "      <td>704.0</td>\n",
              "      <td>928.0</td>\n",
              "      <td>912.0</td>\n",
              "      <td>1069.0</td>\n",
              "    </tr>\n",
              "    <tr>\n",
              "      <th>50</th>\n",
              "      <td>50</td>\n",
              "      <td>36</td>\n",
              "      <td>160000.0</td>\n",
              "      <td>1</td>\n",
              "      <td>131.0</td>\n",
              "      <td>396.0</td>\n",
              "      <td>396.0</td>\n",
              "      <td>565.0</td>\n",
              "      <td>792.0</td>\n",
              "      <td>0.0</td>\n",
              "    </tr>\n",
              "    <tr>\n",
              "      <th>51</th>\n",
              "      <td>51</td>\n",
              "      <td>46</td>\n",
              "      <td>210000.0</td>\n",
              "      <td>1</td>\n",
              "      <td>0.0</td>\n",
              "      <td>0.0</td>\n",
              "      <td>0.0</td>\n",
              "      <td>0.0</td>\n",
              "      <td>0.0</td>\n",
              "      <td>0.0</td>\n",
              "    </tr>\n",
              "  </tbody>\n",
              "</table>\n",
              "</div>\n",
              "      <button class=\"colab-df-convert\" onclick=\"convertToInteractive('df-21578561-2251-4c5a-9c79-31169532c8de')\"\n",
              "              title=\"Convert this dataframe to an interactive table.\"\n",
              "              style=\"display:none;\">\n",
              "        \n",
              "  <svg xmlns=\"http://www.w3.org/2000/svg\" height=\"24px\"viewBox=\"0 0 24 24\"\n",
              "       width=\"24px\">\n",
              "    <path d=\"M0 0h24v24H0V0z\" fill=\"none\"/>\n",
              "    <path d=\"M18.56 5.44l.94 2.06.94-2.06 2.06-.94-2.06-.94-.94-2.06-.94 2.06-2.06.94zm-11 1L8.5 8.5l.94-2.06 2.06-.94-2.06-.94L8.5 2.5l-.94 2.06-2.06.94zm10 10l.94 2.06.94-2.06 2.06-.94-2.06-.94-.94-2.06-.94 2.06-2.06.94z\"/><path d=\"M17.41 7.96l-1.37-1.37c-.4-.4-.92-.59-1.43-.59-.52 0-1.04.2-1.43.59L10.3 9.45l-7.72 7.72c-.78.78-.78 2.05 0 2.83L4 21.41c.39.39.9.59 1.41.59.51 0 1.02-.2 1.41-.59l7.78-7.78 2.81-2.81c.8-.78.8-2.07 0-2.86zM5.41 20L4 18.59l7.72-7.72 1.47 1.35L5.41 20z\"/>\n",
              "  </svg>\n",
              "      </button>\n",
              "      \n",
              "  <style>\n",
              "    .colab-df-container {\n",
              "      display:flex;\n",
              "      flex-wrap:wrap;\n",
              "      gap: 12px;\n",
              "    }\n",
              "\n",
              "    .colab-df-convert {\n",
              "      background-color: #E8F0FE;\n",
              "      border: none;\n",
              "      border-radius: 50%;\n",
              "      cursor: pointer;\n",
              "      display: none;\n",
              "      fill: #1967D2;\n",
              "      height: 32px;\n",
              "      padding: 0 0 0 0;\n",
              "      width: 32px;\n",
              "    }\n",
              "\n",
              "    .colab-df-convert:hover {\n",
              "      background-color: #E2EBFA;\n",
              "      box-shadow: 0px 1px 2px rgba(60, 64, 67, 0.3), 0px 1px 3px 1px rgba(60, 64, 67, 0.15);\n",
              "      fill: #174EA6;\n",
              "    }\n",
              "\n",
              "    [theme=dark] .colab-df-convert {\n",
              "      background-color: #3B4455;\n",
              "      fill: #D2E3FC;\n",
              "    }\n",
              "\n",
              "    [theme=dark] .colab-df-convert:hover {\n",
              "      background-color: #434B5C;\n",
              "      box-shadow: 0px 1px 3px 1px rgba(0, 0, 0, 0.15);\n",
              "      filter: drop-shadow(0px 1px 2px rgba(0, 0, 0, 0.3));\n",
              "      fill: #FFFFFF;\n",
              "    }\n",
              "  </style>\n",
              "\n",
              "      <script>\n",
              "        const buttonEl =\n",
              "          document.querySelector('#df-21578561-2251-4c5a-9c79-31169532c8de button.colab-df-convert');\n",
              "        buttonEl.style.display =\n",
              "          google.colab.kernel.accessAllowed ? 'block' : 'none';\n",
              "\n",
              "        async function convertToInteractive(key) {\n",
              "          const element = document.querySelector('#df-21578561-2251-4c5a-9c79-31169532c8de');\n",
              "          const dataTable =\n",
              "            await google.colab.kernel.invokeFunction('convertToInteractive',\n",
              "                                                     [key], {});\n",
              "          if (!dataTable) return;\n",
              "\n",
              "          const docLinkHtml = 'Like what you see? Visit the ' +\n",
              "            '<a target=\"_blank\" href=https://colab.research.google.com/notebooks/data_table.ipynb>data table notebook</a>'\n",
              "            + ' to learn more about interactive tables.';\n",
              "          element.innerHTML = '';\n",
              "          dataTable['output_type'] = 'display_data';\n",
              "          await google.colab.output.renderOutput(dataTable, element);\n",
              "          const docLink = document.createElement('div');\n",
              "          docLink.innerHTML = docLinkHtml;\n",
              "          element.appendChild(docLink);\n",
              "        }\n",
              "      </script>\n",
              "    </div>\n",
              "  </div>\n",
              "  "
            ]
          },
          "metadata": {},
          "execution_count": 19
        }
      ]
    },
    {
      "cell_type": "code",
      "source": [
        "dfPayATM.columns"
      ],
      "metadata": {
        "id": "S8slCGivWN-u",
        "colab": {
          "base_uri": "https://localhost:8080/"
        },
        "outputId": "9ec06b77-742f-4d47-dceb-20b82ebc81bb"
      },
      "execution_count": 20,
      "outputs": [
        {
          "output_type": "execute_result",
          "data": {
            "text/plain": [
              "Index(['Unnamed: 0', 'ID', 'LIMIT_BAL', 'EDUCATION', 'PAY_AMT1', 'PAY_AMT2',\n",
              "       'PAY_AMT3', 'PAY_AMT4', 'PAY_AMT5', 'PAY_AMT6'],\n",
              "      dtype='object')"
            ]
          },
          "metadata": {},
          "execution_count": 20
        }
      ]
    },
    {
      "cell_type": "code",
      "source": [
        "dfPayATM.dtypes"
      ],
      "metadata": {
        "id": "4vkC94HcWQQ4",
        "colab": {
          "base_uri": "https://localhost:8080/"
        },
        "outputId": "45c82948-fc77-4d0c-cc1e-d54cdca857ba"
      },
      "execution_count": 21,
      "outputs": [
        {
          "output_type": "execute_result",
          "data": {
            "text/plain": [
              "Unnamed: 0      int64\n",
              "ID              int64\n",
              "LIMIT_BAL      object\n",
              "EDUCATION      object\n",
              "PAY_AMT1      float64\n",
              "PAY_AMT2      float64\n",
              "PAY_AMT3      float64\n",
              "PAY_AMT4      float64\n",
              "PAY_AMT5      float64\n",
              "PAY_AMT6      float64\n",
              "dtype: object"
            ]
          },
          "metadata": {},
          "execution_count": 21
        }
      ]
    },
    {
      "cell_type": "code",
      "source": [
        "dfPayATM"
      ],
      "metadata": {
        "id": "7Mj-xOFiSOG-",
        "colab": {
          "base_uri": "https://localhost:8080/",
          "height": 1000
        },
        "outputId": "0804fee6-c469-456e-aa4e-2dad8ac85145"
      },
      "execution_count": 22,
      "outputs": [
        {
          "output_type": "execute_result",
          "data": {
            "text/plain": [
              "    Unnamed: 0  ID LIMIT_BAL EDUCATION  PAY_AMT1  PAY_AMT2  PAY_AMT3  \\\n",
              "0            0   1   20000.0         2       0.0     689.0       0.0   \n",
              "1            1   2  120000.0         2       0.0    1000.0    1000.0   \n",
              "2            2   3   90000.0      Null    1518.0    1500.0    1000.0   \n",
              "3            3   4         -         2    2000.0    2019.0    1200.0   \n",
              "4            4   5   50000.0         2    2000.0   36681.0   10000.0   \n",
              "5            5   6   50000.0         1    2500.0    1815.0     657.0   \n",
              "6            6   7         -         1   55000.0   40000.0   38000.0   \n",
              "7            7   8  100000.0         2     380.0     601.0       0.0   \n",
              "8            8   9  140000.0         3    3329.0       0.0     432.0   \n",
              "9            9  10   20000.0      Null       0.0       0.0       0.0   \n",
              "10          10  11  200000.0         3    2306.0      12.0      50.0   \n",
              "11          11  12  260000.0         1   21818.0    9966.0    8583.0   \n",
              "12          12  13  630000.0      Null    1000.0    6500.0    6500.0   \n",
              "13          13  14   70000.0         2    3200.0       0.0    3000.0   \n",
              "14          14  15  250000.0         1    3000.0    3000.0    3000.0   \n",
              "15          15  16   50000.0         3       0.0    1500.0    1100.0   \n",
              "16          16  17   20000.0         1    3200.0       0.0    1500.0   \n",
              "17          17  18  320000.0         1   10358.0   10000.0   75940.0   \n",
              "18          18  19  360000.0         1       0.0       0.0       0.0   \n",
              "19          19  20  180000.0         1       0.0       0.0       0.0   \n",
              "20          20  21  130000.0         3    3000.0    1537.0    1000.0   \n",
              "21          21  22  120000.0         2     316.0     316.0       0.0   \n",
              "22          22  23   70000.0         2    2007.0    3582.0       0.0   \n",
              "23          23  24  450000.0      Null   19428.0    1473.0     560.0   \n",
              "24          24  25   90000.0         1    5757.0       0.0    5398.0   \n",
              "25          25  26   50000.0         3    1973.0    1426.0    1001.0   \n",
              "26          26  27         -         1       0.0    1000.0       0.0   \n",
              "27          27  28         -         3    1300.0    1300.0    1000.0   \n",
              "28          28  29   50000.0         3    3415.0    3421.0    2044.0   \n",
              "29          29  30   50000.0         1    1500.0    1500.0    1000.0   \n",
              "30          30  31  230000.0         1   17270.0   13281.0   15339.0   \n",
              "31          31  32   50000.0         2    1718.0    1500.0    1000.0   \n",
              "32          32  33  100000.0      Null    3023.0    3511.0    3302.0   \n",
              "33          33  34  500000.0         2    4152.0   22827.0    7521.0   \n",
              "34          34  35  500000.0         1    5006.0   31178.0    3180.0   \n",
              "35          35   1   20000.0         2       0.0     689.0       0.0   \n",
              "36          36  37  280000.0         2    8026.0    8060.0    6300.0   \n",
              "37          37  38         -         2    1500.0    1518.0    2043.0   \n",
              "38          38  39   50000.0         1     780.0       0.0       0.0   \n",
              "39          39  40  280000.0         1    9075.0       0.0    9976.0   \n",
              "40          40  41  360000.0         1   10000.0    7000.0    6000.0   \n",
              "41          41  42   70000.0      Null    3000.0    4500.0    4042.0   \n",
              "42          42  43   10000.0         2    1500.0    2927.0    1000.0   \n",
              "43          43  44  140000.0      Null    3000.0    3000.0    3000.0   \n",
              "44          44  45   40000.0         1    3000.0    5000.0       0.0   \n",
              "45          45   4         -         2    2000.0    2019.0    1200.0   \n",
              "46          46  47   20000.0         1    3000.0       0.0   16741.0   \n",
              "47          47  48         -         5    1013.0    1170.0       0.0   \n",
              "48          48  49  380000.0         2   21540.0   15138.0   24677.0   \n",
              "49          49  50   20000.0         1    1318.0    1315.0     704.0   \n",
              "50          50  36  160000.0         1     131.0     396.0     396.0   \n",
              "51          51  46  210000.0         1       0.0       0.0       0.0   \n",
              "\n",
              "    PAY_AMT4  PAY_AMT5  PAY_AMT6  \n",
              "0        0.0       0.0       0.0  \n",
              "1     1000.0       0.0    2000.0  \n",
              "2     1000.0    1000.0    5000.0  \n",
              "3     1100.0    1069.0    1000.0  \n",
              "4     9000.0     689.0     679.0  \n",
              "5     1000.0    1000.0     800.0  \n",
              "6    20239.0   13750.0   13770.0  \n",
              "7      581.0    1687.0    1542.0  \n",
              "8     1000.0    1000.0    1000.0  \n",
              "9    13007.0    1122.0       0.0  \n",
              "10     300.0    3738.0      66.0  \n",
              "11   22301.0       0.0    3640.0  \n",
              "12    6500.0    2870.0       0.0  \n",
              "13    3000.0    1500.0       0.0  \n",
              "14    3000.0    3000.0    3000.0  \n",
              "15    1200.0    1300.0    1100.0  \n",
              "16       0.0    1650.0       0.0  \n",
              "17   20000.0  195599.0   50000.0  \n",
              "18       0.0       0.0       0.0  \n",
              "19       0.0       0.0       0.0  \n",
              "20    2000.0     930.0   33764.0  \n",
              "21     632.0     316.0       0.0  \n",
              "22    3601.0       0.0    1820.0  \n",
              "23       0.0       0.0    1128.0  \n",
              "24    1200.0    2045.0    2000.0  \n",
              "25    1432.0    1062.0     997.0  \n",
              "26     500.0       0.0    1000.0  \n",
              "27    1500.0    1000.0    1012.0  \n",
              "28   30430.0     257.0       0.0  \n",
              "29    1000.0    1600.0       0.0  \n",
              "30   14307.0   37292.0       0.0  \n",
              "31    1000.0    1000.0     716.0  \n",
              "32    3204.0    3200.0    2504.0  \n",
              "33   71439.0     981.0   51582.0  \n",
              "34       0.0    5293.0     768.0  \n",
              "35       0.0       0.0       0.0  \n",
              "36    6400.0    6400.0    6737.0  \n",
              "37       0.0   47671.0     617.0  \n",
              "38       0.0       0.0       0.0  \n",
              "39    8000.0    9525.0     781.0  \n",
              "40  188840.0   28000.0    4000.0  \n",
              "41    2500.0    2800.0    2500.0  \n",
              "42     300.0    1000.0     500.0  \n",
              "43    4000.0    4000.0    3000.0  \n",
              "44    2000.0    3000.0       0.0  \n",
              "45    1100.0    1069.0    1000.0  \n",
              "46     334.0       0.0       0.0  \n",
              "47       0.0       0.0       0.0  \n",
              "48   11851.0   11875.0    8251.0  \n",
              "49     928.0     912.0    1069.0  \n",
              "50     565.0     792.0       0.0  \n",
              "51       0.0       0.0       0.0  "
            ],
            "text/html": [
              "\n",
              "  <div id=\"df-bf6f5fc8-d5ec-458f-aa86-3a13e60ac7f3\">\n",
              "    <div class=\"colab-df-container\">\n",
              "      <div>\n",
              "<style scoped>\n",
              "    .dataframe tbody tr th:only-of-type {\n",
              "        vertical-align: middle;\n",
              "    }\n",
              "\n",
              "    .dataframe tbody tr th {\n",
              "        vertical-align: top;\n",
              "    }\n",
              "\n",
              "    .dataframe thead th {\n",
              "        text-align: right;\n",
              "    }\n",
              "</style>\n",
              "<table border=\"1\" class=\"dataframe\">\n",
              "  <thead>\n",
              "    <tr style=\"text-align: right;\">\n",
              "      <th></th>\n",
              "      <th>Unnamed: 0</th>\n",
              "      <th>ID</th>\n",
              "      <th>LIMIT_BAL</th>\n",
              "      <th>EDUCATION</th>\n",
              "      <th>PAY_AMT1</th>\n",
              "      <th>PAY_AMT2</th>\n",
              "      <th>PAY_AMT3</th>\n",
              "      <th>PAY_AMT4</th>\n",
              "      <th>PAY_AMT5</th>\n",
              "      <th>PAY_AMT6</th>\n",
              "    </tr>\n",
              "  </thead>\n",
              "  <tbody>\n",
              "    <tr>\n",
              "      <th>0</th>\n",
              "      <td>0</td>\n",
              "      <td>1</td>\n",
              "      <td>20000.0</td>\n",
              "      <td>2</td>\n",
              "      <td>0.0</td>\n",
              "      <td>689.0</td>\n",
              "      <td>0.0</td>\n",
              "      <td>0.0</td>\n",
              "      <td>0.0</td>\n",
              "      <td>0.0</td>\n",
              "    </tr>\n",
              "    <tr>\n",
              "      <th>1</th>\n",
              "      <td>1</td>\n",
              "      <td>2</td>\n",
              "      <td>120000.0</td>\n",
              "      <td>2</td>\n",
              "      <td>0.0</td>\n",
              "      <td>1000.0</td>\n",
              "      <td>1000.0</td>\n",
              "      <td>1000.0</td>\n",
              "      <td>0.0</td>\n",
              "      <td>2000.0</td>\n",
              "    </tr>\n",
              "    <tr>\n",
              "      <th>2</th>\n",
              "      <td>2</td>\n",
              "      <td>3</td>\n",
              "      <td>90000.0</td>\n",
              "      <td>Null</td>\n",
              "      <td>1518.0</td>\n",
              "      <td>1500.0</td>\n",
              "      <td>1000.0</td>\n",
              "      <td>1000.0</td>\n",
              "      <td>1000.0</td>\n",
              "      <td>5000.0</td>\n",
              "    </tr>\n",
              "    <tr>\n",
              "      <th>3</th>\n",
              "      <td>3</td>\n",
              "      <td>4</td>\n",
              "      <td>-</td>\n",
              "      <td>2</td>\n",
              "      <td>2000.0</td>\n",
              "      <td>2019.0</td>\n",
              "      <td>1200.0</td>\n",
              "      <td>1100.0</td>\n",
              "      <td>1069.0</td>\n",
              "      <td>1000.0</td>\n",
              "    </tr>\n",
              "    <tr>\n",
              "      <th>4</th>\n",
              "      <td>4</td>\n",
              "      <td>5</td>\n",
              "      <td>50000.0</td>\n",
              "      <td>2</td>\n",
              "      <td>2000.0</td>\n",
              "      <td>36681.0</td>\n",
              "      <td>10000.0</td>\n",
              "      <td>9000.0</td>\n",
              "      <td>689.0</td>\n",
              "      <td>679.0</td>\n",
              "    </tr>\n",
              "    <tr>\n",
              "      <th>5</th>\n",
              "      <td>5</td>\n",
              "      <td>6</td>\n",
              "      <td>50000.0</td>\n",
              "      <td>1</td>\n",
              "      <td>2500.0</td>\n",
              "      <td>1815.0</td>\n",
              "      <td>657.0</td>\n",
              "      <td>1000.0</td>\n",
              "      <td>1000.0</td>\n",
              "      <td>800.0</td>\n",
              "    </tr>\n",
              "    <tr>\n",
              "      <th>6</th>\n",
              "      <td>6</td>\n",
              "      <td>7</td>\n",
              "      <td>-</td>\n",
              "      <td>1</td>\n",
              "      <td>55000.0</td>\n",
              "      <td>40000.0</td>\n",
              "      <td>38000.0</td>\n",
              "      <td>20239.0</td>\n",
              "      <td>13750.0</td>\n",
              "      <td>13770.0</td>\n",
              "    </tr>\n",
              "    <tr>\n",
              "      <th>7</th>\n",
              "      <td>7</td>\n",
              "      <td>8</td>\n",
              "      <td>100000.0</td>\n",
              "      <td>2</td>\n",
              "      <td>380.0</td>\n",
              "      <td>601.0</td>\n",
              "      <td>0.0</td>\n",
              "      <td>581.0</td>\n",
              "      <td>1687.0</td>\n",
              "      <td>1542.0</td>\n",
              "    </tr>\n",
              "    <tr>\n",
              "      <th>8</th>\n",
              "      <td>8</td>\n",
              "      <td>9</td>\n",
              "      <td>140000.0</td>\n",
              "      <td>3</td>\n",
              "      <td>3329.0</td>\n",
              "      <td>0.0</td>\n",
              "      <td>432.0</td>\n",
              "      <td>1000.0</td>\n",
              "      <td>1000.0</td>\n",
              "      <td>1000.0</td>\n",
              "    </tr>\n",
              "    <tr>\n",
              "      <th>9</th>\n",
              "      <td>9</td>\n",
              "      <td>10</td>\n",
              "      <td>20000.0</td>\n",
              "      <td>Null</td>\n",
              "      <td>0.0</td>\n",
              "      <td>0.0</td>\n",
              "      <td>0.0</td>\n",
              "      <td>13007.0</td>\n",
              "      <td>1122.0</td>\n",
              "      <td>0.0</td>\n",
              "    </tr>\n",
              "    <tr>\n",
              "      <th>10</th>\n",
              "      <td>10</td>\n",
              "      <td>11</td>\n",
              "      <td>200000.0</td>\n",
              "      <td>3</td>\n",
              "      <td>2306.0</td>\n",
              "      <td>12.0</td>\n",
              "      <td>50.0</td>\n",
              "      <td>300.0</td>\n",
              "      <td>3738.0</td>\n",
              "      <td>66.0</td>\n",
              "    </tr>\n",
              "    <tr>\n",
              "      <th>11</th>\n",
              "      <td>11</td>\n",
              "      <td>12</td>\n",
              "      <td>260000.0</td>\n",
              "      <td>1</td>\n",
              "      <td>21818.0</td>\n",
              "      <td>9966.0</td>\n",
              "      <td>8583.0</td>\n",
              "      <td>22301.0</td>\n",
              "      <td>0.0</td>\n",
              "      <td>3640.0</td>\n",
              "    </tr>\n",
              "    <tr>\n",
              "      <th>12</th>\n",
              "      <td>12</td>\n",
              "      <td>13</td>\n",
              "      <td>630000.0</td>\n",
              "      <td>Null</td>\n",
              "      <td>1000.0</td>\n",
              "      <td>6500.0</td>\n",
              "      <td>6500.0</td>\n",
              "      <td>6500.0</td>\n",
              "      <td>2870.0</td>\n",
              "      <td>0.0</td>\n",
              "    </tr>\n",
              "    <tr>\n",
              "      <th>13</th>\n",
              "      <td>13</td>\n",
              "      <td>14</td>\n",
              "      <td>70000.0</td>\n",
              "      <td>2</td>\n",
              "      <td>3200.0</td>\n",
              "      <td>0.0</td>\n",
              "      <td>3000.0</td>\n",
              "      <td>3000.0</td>\n",
              "      <td>1500.0</td>\n",
              "      <td>0.0</td>\n",
              "    </tr>\n",
              "    <tr>\n",
              "      <th>14</th>\n",
              "      <td>14</td>\n",
              "      <td>15</td>\n",
              "      <td>250000.0</td>\n",
              "      <td>1</td>\n",
              "      <td>3000.0</td>\n",
              "      <td>3000.0</td>\n",
              "      <td>3000.0</td>\n",
              "      <td>3000.0</td>\n",
              "      <td>3000.0</td>\n",
              "      <td>3000.0</td>\n",
              "    </tr>\n",
              "    <tr>\n",
              "      <th>15</th>\n",
              "      <td>15</td>\n",
              "      <td>16</td>\n",
              "      <td>50000.0</td>\n",
              "      <td>3</td>\n",
              "      <td>0.0</td>\n",
              "      <td>1500.0</td>\n",
              "      <td>1100.0</td>\n",
              "      <td>1200.0</td>\n",
              "      <td>1300.0</td>\n",
              "      <td>1100.0</td>\n",
              "    </tr>\n",
              "    <tr>\n",
              "      <th>16</th>\n",
              "      <td>16</td>\n",
              "      <td>17</td>\n",
              "      <td>20000.0</td>\n",
              "      <td>1</td>\n",
              "      <td>3200.0</td>\n",
              "      <td>0.0</td>\n",
              "      <td>1500.0</td>\n",
              "      <td>0.0</td>\n",
              "      <td>1650.0</td>\n",
              "      <td>0.0</td>\n",
              "    </tr>\n",
              "    <tr>\n",
              "      <th>17</th>\n",
              "      <td>17</td>\n",
              "      <td>18</td>\n",
              "      <td>320000.0</td>\n",
              "      <td>1</td>\n",
              "      <td>10358.0</td>\n",
              "      <td>10000.0</td>\n",
              "      <td>75940.0</td>\n",
              "      <td>20000.0</td>\n",
              "      <td>195599.0</td>\n",
              "      <td>50000.0</td>\n",
              "    </tr>\n",
              "    <tr>\n",
              "      <th>18</th>\n",
              "      <td>18</td>\n",
              "      <td>19</td>\n",
              "      <td>360000.0</td>\n",
              "      <td>1</td>\n",
              "      <td>0.0</td>\n",
              "      <td>0.0</td>\n",
              "      <td>0.0</td>\n",
              "      <td>0.0</td>\n",
              "      <td>0.0</td>\n",
              "      <td>0.0</td>\n",
              "    </tr>\n",
              "    <tr>\n",
              "      <th>19</th>\n",
              "      <td>19</td>\n",
              "      <td>20</td>\n",
              "      <td>180000.0</td>\n",
              "      <td>1</td>\n",
              "      <td>0.0</td>\n",
              "      <td>0.0</td>\n",
              "      <td>0.0</td>\n",
              "      <td>0.0</td>\n",
              "      <td>0.0</td>\n",
              "      <td>0.0</td>\n",
              "    </tr>\n",
              "    <tr>\n",
              "      <th>20</th>\n",
              "      <td>20</td>\n",
              "      <td>21</td>\n",
              "      <td>130000.0</td>\n",
              "      <td>3</td>\n",
              "      <td>3000.0</td>\n",
              "      <td>1537.0</td>\n",
              "      <td>1000.0</td>\n",
              "      <td>2000.0</td>\n",
              "      <td>930.0</td>\n",
              "      <td>33764.0</td>\n",
              "    </tr>\n",
              "    <tr>\n",
              "      <th>21</th>\n",
              "      <td>21</td>\n",
              "      <td>22</td>\n",
              "      <td>120000.0</td>\n",
              "      <td>2</td>\n",
              "      <td>316.0</td>\n",
              "      <td>316.0</td>\n",
              "      <td>0.0</td>\n",
              "      <td>632.0</td>\n",
              "      <td>316.0</td>\n",
              "      <td>0.0</td>\n",
              "    </tr>\n",
              "    <tr>\n",
              "      <th>22</th>\n",
              "      <td>22</td>\n",
              "      <td>23</td>\n",
              "      <td>70000.0</td>\n",
              "      <td>2</td>\n",
              "      <td>2007.0</td>\n",
              "      <td>3582.0</td>\n",
              "      <td>0.0</td>\n",
              "      <td>3601.0</td>\n",
              "      <td>0.0</td>\n",
              "      <td>1820.0</td>\n",
              "    </tr>\n",
              "    <tr>\n",
              "      <th>23</th>\n",
              "      <td>23</td>\n",
              "      <td>24</td>\n",
              "      <td>450000.0</td>\n",
              "      <td>Null</td>\n",
              "      <td>19428.0</td>\n",
              "      <td>1473.0</td>\n",
              "      <td>560.0</td>\n",
              "      <td>0.0</td>\n",
              "      <td>0.0</td>\n",
              "      <td>1128.0</td>\n",
              "    </tr>\n",
              "    <tr>\n",
              "      <th>24</th>\n",
              "      <td>24</td>\n",
              "      <td>25</td>\n",
              "      <td>90000.0</td>\n",
              "      <td>1</td>\n",
              "      <td>5757.0</td>\n",
              "      <td>0.0</td>\n",
              "      <td>5398.0</td>\n",
              "      <td>1200.0</td>\n",
              "      <td>2045.0</td>\n",
              "      <td>2000.0</td>\n",
              "    </tr>\n",
              "    <tr>\n",
              "      <th>25</th>\n",
              "      <td>25</td>\n",
              "      <td>26</td>\n",
              "      <td>50000.0</td>\n",
              "      <td>3</td>\n",
              "      <td>1973.0</td>\n",
              "      <td>1426.0</td>\n",
              "      <td>1001.0</td>\n",
              "      <td>1432.0</td>\n",
              "      <td>1062.0</td>\n",
              "      <td>997.0</td>\n",
              "    </tr>\n",
              "    <tr>\n",
              "      <th>26</th>\n",
              "      <td>26</td>\n",
              "      <td>27</td>\n",
              "      <td>-</td>\n",
              "      <td>1</td>\n",
              "      <td>0.0</td>\n",
              "      <td>1000.0</td>\n",
              "      <td>0.0</td>\n",
              "      <td>500.0</td>\n",
              "      <td>0.0</td>\n",
              "      <td>1000.0</td>\n",
              "    </tr>\n",
              "    <tr>\n",
              "      <th>27</th>\n",
              "      <td>27</td>\n",
              "      <td>28</td>\n",
              "      <td>-</td>\n",
              "      <td>3</td>\n",
              "      <td>1300.0</td>\n",
              "      <td>1300.0</td>\n",
              "      <td>1000.0</td>\n",
              "      <td>1500.0</td>\n",
              "      <td>1000.0</td>\n",
              "      <td>1012.0</td>\n",
              "    </tr>\n",
              "    <tr>\n",
              "      <th>28</th>\n",
              "      <td>28</td>\n",
              "      <td>29</td>\n",
              "      <td>50000.0</td>\n",
              "      <td>3</td>\n",
              "      <td>3415.0</td>\n",
              "      <td>3421.0</td>\n",
              "      <td>2044.0</td>\n",
              "      <td>30430.0</td>\n",
              "      <td>257.0</td>\n",
              "      <td>0.0</td>\n",
              "    </tr>\n",
              "    <tr>\n",
              "      <th>29</th>\n",
              "      <td>29</td>\n",
              "      <td>30</td>\n",
              "      <td>50000.0</td>\n",
              "      <td>1</td>\n",
              "      <td>1500.0</td>\n",
              "      <td>1500.0</td>\n",
              "      <td>1000.0</td>\n",
              "      <td>1000.0</td>\n",
              "      <td>1600.0</td>\n",
              "      <td>0.0</td>\n",
              "    </tr>\n",
              "    <tr>\n",
              "      <th>30</th>\n",
              "      <td>30</td>\n",
              "      <td>31</td>\n",
              "      <td>230000.0</td>\n",
              "      <td>1</td>\n",
              "      <td>17270.0</td>\n",
              "      <td>13281.0</td>\n",
              "      <td>15339.0</td>\n",
              "      <td>14307.0</td>\n",
              "      <td>37292.0</td>\n",
              "      <td>0.0</td>\n",
              "    </tr>\n",
              "    <tr>\n",
              "      <th>31</th>\n",
              "      <td>31</td>\n",
              "      <td>32</td>\n",
              "      <td>50000.0</td>\n",
              "      <td>2</td>\n",
              "      <td>1718.0</td>\n",
              "      <td>1500.0</td>\n",
              "      <td>1000.0</td>\n",
              "      <td>1000.0</td>\n",
              "      <td>1000.0</td>\n",
              "      <td>716.0</td>\n",
              "    </tr>\n",
              "    <tr>\n",
              "      <th>32</th>\n",
              "      <td>32</td>\n",
              "      <td>33</td>\n",
              "      <td>100000.0</td>\n",
              "      <td>Null</td>\n",
              "      <td>3023.0</td>\n",
              "      <td>3511.0</td>\n",
              "      <td>3302.0</td>\n",
              "      <td>3204.0</td>\n",
              "      <td>3200.0</td>\n",
              "      <td>2504.0</td>\n",
              "    </tr>\n",
              "    <tr>\n",
              "      <th>33</th>\n",
              "      <td>33</td>\n",
              "      <td>34</td>\n",
              "      <td>500000.0</td>\n",
              "      <td>2</td>\n",
              "      <td>4152.0</td>\n",
              "      <td>22827.0</td>\n",
              "      <td>7521.0</td>\n",
              "      <td>71439.0</td>\n",
              "      <td>981.0</td>\n",
              "      <td>51582.0</td>\n",
              "    </tr>\n",
              "    <tr>\n",
              "      <th>34</th>\n",
              "      <td>34</td>\n",
              "      <td>35</td>\n",
              "      <td>500000.0</td>\n",
              "      <td>1</td>\n",
              "      <td>5006.0</td>\n",
              "      <td>31178.0</td>\n",
              "      <td>3180.0</td>\n",
              "      <td>0.0</td>\n",
              "      <td>5293.0</td>\n",
              "      <td>768.0</td>\n",
              "    </tr>\n",
              "    <tr>\n",
              "      <th>35</th>\n",
              "      <td>35</td>\n",
              "      <td>1</td>\n",
              "      <td>20000.0</td>\n",
              "      <td>2</td>\n",
              "      <td>0.0</td>\n",
              "      <td>689.0</td>\n",
              "      <td>0.0</td>\n",
              "      <td>0.0</td>\n",
              "      <td>0.0</td>\n",
              "      <td>0.0</td>\n",
              "    </tr>\n",
              "    <tr>\n",
              "      <th>36</th>\n",
              "      <td>36</td>\n",
              "      <td>37</td>\n",
              "      <td>280000.0</td>\n",
              "      <td>2</td>\n",
              "      <td>8026.0</td>\n",
              "      <td>8060.0</td>\n",
              "      <td>6300.0</td>\n",
              "      <td>6400.0</td>\n",
              "      <td>6400.0</td>\n",
              "      <td>6737.0</td>\n",
              "    </tr>\n",
              "    <tr>\n",
              "      <th>37</th>\n",
              "      <td>37</td>\n",
              "      <td>38</td>\n",
              "      <td>-</td>\n",
              "      <td>2</td>\n",
              "      <td>1500.0</td>\n",
              "      <td>1518.0</td>\n",
              "      <td>2043.0</td>\n",
              "      <td>0.0</td>\n",
              "      <td>47671.0</td>\n",
              "      <td>617.0</td>\n",
              "    </tr>\n",
              "    <tr>\n",
              "      <th>38</th>\n",
              "      <td>38</td>\n",
              "      <td>39</td>\n",
              "      <td>50000.0</td>\n",
              "      <td>1</td>\n",
              "      <td>780.0</td>\n",
              "      <td>0.0</td>\n",
              "      <td>0.0</td>\n",
              "      <td>0.0</td>\n",
              "      <td>0.0</td>\n",
              "      <td>0.0</td>\n",
              "    </tr>\n",
              "    <tr>\n",
              "      <th>39</th>\n",
              "      <td>39</td>\n",
              "      <td>40</td>\n",
              "      <td>280000.0</td>\n",
              "      <td>1</td>\n",
              "      <td>9075.0</td>\n",
              "      <td>0.0</td>\n",
              "      <td>9976.0</td>\n",
              "      <td>8000.0</td>\n",
              "      <td>9525.0</td>\n",
              "      <td>781.0</td>\n",
              "    </tr>\n",
              "    <tr>\n",
              "      <th>40</th>\n",
              "      <td>40</td>\n",
              "      <td>41</td>\n",
              "      <td>360000.0</td>\n",
              "      <td>1</td>\n",
              "      <td>10000.0</td>\n",
              "      <td>7000.0</td>\n",
              "      <td>6000.0</td>\n",
              "      <td>188840.0</td>\n",
              "      <td>28000.0</td>\n",
              "      <td>4000.0</td>\n",
              "    </tr>\n",
              "    <tr>\n",
              "      <th>41</th>\n",
              "      <td>41</td>\n",
              "      <td>42</td>\n",
              "      <td>70000.0</td>\n",
              "      <td>Null</td>\n",
              "      <td>3000.0</td>\n",
              "      <td>4500.0</td>\n",
              "      <td>4042.0</td>\n",
              "      <td>2500.0</td>\n",
              "      <td>2800.0</td>\n",
              "      <td>2500.0</td>\n",
              "    </tr>\n",
              "    <tr>\n",
              "      <th>42</th>\n",
              "      <td>42</td>\n",
              "      <td>43</td>\n",
              "      <td>10000.0</td>\n",
              "      <td>2</td>\n",
              "      <td>1500.0</td>\n",
              "      <td>2927.0</td>\n",
              "      <td>1000.0</td>\n",
              "      <td>300.0</td>\n",
              "      <td>1000.0</td>\n",
              "      <td>500.0</td>\n",
              "    </tr>\n",
              "    <tr>\n",
              "      <th>43</th>\n",
              "      <td>43</td>\n",
              "      <td>44</td>\n",
              "      <td>140000.0</td>\n",
              "      <td>Null</td>\n",
              "      <td>3000.0</td>\n",
              "      <td>3000.0</td>\n",
              "      <td>3000.0</td>\n",
              "      <td>4000.0</td>\n",
              "      <td>4000.0</td>\n",
              "      <td>3000.0</td>\n",
              "    </tr>\n",
              "    <tr>\n",
              "      <th>44</th>\n",
              "      <td>44</td>\n",
              "      <td>45</td>\n",
              "      <td>40000.0</td>\n",
              "      <td>1</td>\n",
              "      <td>3000.0</td>\n",
              "      <td>5000.0</td>\n",
              "      <td>0.0</td>\n",
              "      <td>2000.0</td>\n",
              "      <td>3000.0</td>\n",
              "      <td>0.0</td>\n",
              "    </tr>\n",
              "    <tr>\n",
              "      <th>45</th>\n",
              "      <td>45</td>\n",
              "      <td>4</td>\n",
              "      <td>-</td>\n",
              "      <td>2</td>\n",
              "      <td>2000.0</td>\n",
              "      <td>2019.0</td>\n",
              "      <td>1200.0</td>\n",
              "      <td>1100.0</td>\n",
              "      <td>1069.0</td>\n",
              "      <td>1000.0</td>\n",
              "    </tr>\n",
              "    <tr>\n",
              "      <th>46</th>\n",
              "      <td>46</td>\n",
              "      <td>47</td>\n",
              "      <td>20000.0</td>\n",
              "      <td>1</td>\n",
              "      <td>3000.0</td>\n",
              "      <td>0.0</td>\n",
              "      <td>16741.0</td>\n",
              "      <td>334.0</td>\n",
              "      <td>0.0</td>\n",
              "      <td>0.0</td>\n",
              "    </tr>\n",
              "    <tr>\n",
              "      <th>47</th>\n",
              "      <td>47</td>\n",
              "      <td>48</td>\n",
              "      <td>-</td>\n",
              "      <td>5</td>\n",
              "      <td>1013.0</td>\n",
              "      <td>1170.0</td>\n",
              "      <td>0.0</td>\n",
              "      <td>0.0</td>\n",
              "      <td>0.0</td>\n",
              "      <td>0.0</td>\n",
              "    </tr>\n",
              "    <tr>\n",
              "      <th>48</th>\n",
              "      <td>48</td>\n",
              "      <td>49</td>\n",
              "      <td>380000.0</td>\n",
              "      <td>2</td>\n",
              "      <td>21540.0</td>\n",
              "      <td>15138.0</td>\n",
              "      <td>24677.0</td>\n",
              "      <td>11851.0</td>\n",
              "      <td>11875.0</td>\n",
              "      <td>8251.0</td>\n",
              "    </tr>\n",
              "    <tr>\n",
              "      <th>49</th>\n",
              "      <td>49</td>\n",
              "      <td>50</td>\n",
              "      <td>20000.0</td>\n",
              "      <td>1</td>\n",
              "      <td>1318.0</td>\n",
              "      <td>1315.0</td>\n",
              "      <td>704.0</td>\n",
              "      <td>928.0</td>\n",
              "      <td>912.0</td>\n",
              "      <td>1069.0</td>\n",
              "    </tr>\n",
              "    <tr>\n",
              "      <th>50</th>\n",
              "      <td>50</td>\n",
              "      <td>36</td>\n",
              "      <td>160000.0</td>\n",
              "      <td>1</td>\n",
              "      <td>131.0</td>\n",
              "      <td>396.0</td>\n",
              "      <td>396.0</td>\n",
              "      <td>565.0</td>\n",
              "      <td>792.0</td>\n",
              "      <td>0.0</td>\n",
              "    </tr>\n",
              "    <tr>\n",
              "      <th>51</th>\n",
              "      <td>51</td>\n",
              "      <td>46</td>\n",
              "      <td>210000.0</td>\n",
              "      <td>1</td>\n",
              "      <td>0.0</td>\n",
              "      <td>0.0</td>\n",
              "      <td>0.0</td>\n",
              "      <td>0.0</td>\n",
              "      <td>0.0</td>\n",
              "      <td>0.0</td>\n",
              "    </tr>\n",
              "  </tbody>\n",
              "</table>\n",
              "</div>\n",
              "      <button class=\"colab-df-convert\" onclick=\"convertToInteractive('df-bf6f5fc8-d5ec-458f-aa86-3a13e60ac7f3')\"\n",
              "              title=\"Convert this dataframe to an interactive table.\"\n",
              "              style=\"display:none;\">\n",
              "        \n",
              "  <svg xmlns=\"http://www.w3.org/2000/svg\" height=\"24px\"viewBox=\"0 0 24 24\"\n",
              "       width=\"24px\">\n",
              "    <path d=\"M0 0h24v24H0V0z\" fill=\"none\"/>\n",
              "    <path d=\"M18.56 5.44l.94 2.06.94-2.06 2.06-.94-2.06-.94-.94-2.06-.94 2.06-2.06.94zm-11 1L8.5 8.5l.94-2.06 2.06-.94-2.06-.94L8.5 2.5l-.94 2.06-2.06.94zm10 10l.94 2.06.94-2.06 2.06-.94-2.06-.94-.94-2.06-.94 2.06-2.06.94z\"/><path d=\"M17.41 7.96l-1.37-1.37c-.4-.4-.92-.59-1.43-.59-.52 0-1.04.2-1.43.59L10.3 9.45l-7.72 7.72c-.78.78-.78 2.05 0 2.83L4 21.41c.39.39.9.59 1.41.59.51 0 1.02-.2 1.41-.59l7.78-7.78 2.81-2.81c.8-.78.8-2.07 0-2.86zM5.41 20L4 18.59l7.72-7.72 1.47 1.35L5.41 20z\"/>\n",
              "  </svg>\n",
              "      </button>\n",
              "      \n",
              "  <style>\n",
              "    .colab-df-container {\n",
              "      display:flex;\n",
              "      flex-wrap:wrap;\n",
              "      gap: 12px;\n",
              "    }\n",
              "\n",
              "    .colab-df-convert {\n",
              "      background-color: #E8F0FE;\n",
              "      border: none;\n",
              "      border-radius: 50%;\n",
              "      cursor: pointer;\n",
              "      display: none;\n",
              "      fill: #1967D2;\n",
              "      height: 32px;\n",
              "      padding: 0 0 0 0;\n",
              "      width: 32px;\n",
              "    }\n",
              "\n",
              "    .colab-df-convert:hover {\n",
              "      background-color: #E2EBFA;\n",
              "      box-shadow: 0px 1px 2px rgba(60, 64, 67, 0.3), 0px 1px 3px 1px rgba(60, 64, 67, 0.15);\n",
              "      fill: #174EA6;\n",
              "    }\n",
              "\n",
              "    [theme=dark] .colab-df-convert {\n",
              "      background-color: #3B4455;\n",
              "      fill: #D2E3FC;\n",
              "    }\n",
              "\n",
              "    [theme=dark] .colab-df-convert:hover {\n",
              "      background-color: #434B5C;\n",
              "      box-shadow: 0px 1px 3px 1px rgba(0, 0, 0, 0.15);\n",
              "      filter: drop-shadow(0px 1px 2px rgba(0, 0, 0, 0.3));\n",
              "      fill: #FFFFFF;\n",
              "    }\n",
              "  </style>\n",
              "\n",
              "      <script>\n",
              "        const buttonEl =\n",
              "          document.querySelector('#df-bf6f5fc8-d5ec-458f-aa86-3a13e60ac7f3 button.colab-df-convert');\n",
              "        buttonEl.style.display =\n",
              "          google.colab.kernel.accessAllowed ? 'block' : 'none';\n",
              "\n",
              "        async function convertToInteractive(key) {\n",
              "          const element = document.querySelector('#df-bf6f5fc8-d5ec-458f-aa86-3a13e60ac7f3');\n",
              "          const dataTable =\n",
              "            await google.colab.kernel.invokeFunction('convertToInteractive',\n",
              "                                                     [key], {});\n",
              "          if (!dataTable) return;\n",
              "\n",
              "          const docLinkHtml = 'Like what you see? Visit the ' +\n",
              "            '<a target=\"_blank\" href=https://colab.research.google.com/notebooks/data_table.ipynb>data table notebook</a>'\n",
              "            + ' to learn more about interactive tables.';\n",
              "          element.innerHTML = '';\n",
              "          dataTable['output_type'] = 'display_data';\n",
              "          await google.colab.output.renderOutput(dataTable, element);\n",
              "          const docLink = document.createElement('div');\n",
              "          docLink.innerHTML = docLinkHtml;\n",
              "          element.appendChild(docLink);\n",
              "        }\n",
              "      </script>\n",
              "    </div>\n",
              "  </div>\n",
              "  "
            ]
          },
          "metadata": {},
          "execution_count": 22
        }
      ]
    },
    {
      "cell_type": "code",
      "source": [
        "dfPayATM.count() "
      ],
      "metadata": {
        "id": "4xX6msYVWb_O",
        "colab": {
          "base_uri": "https://localhost:8080/"
        },
        "outputId": "ed439690-2471-4134-a897-3cb2e848bab3"
      },
      "execution_count": 23,
      "outputs": [
        {
          "output_type": "execute_result",
          "data": {
            "text/plain": [
              "Unnamed: 0    52\n",
              "ID            52\n",
              "LIMIT_BAL     52\n",
              "EDUCATION     52\n",
              "PAY_AMT1      52\n",
              "PAY_AMT2      52\n",
              "PAY_AMT3      52\n",
              "PAY_AMT4      52\n",
              "PAY_AMT5      52\n",
              "PAY_AMT6      52\n",
              "dtype: int64"
            ]
          },
          "metadata": {},
          "execution_count": 23
        }
      ]
    },
    {
      "cell_type": "code",
      "source": [
        "dfPayATM.sort_values(\"ID\", inplace=True)"
      ],
      "metadata": {
        "id": "lKq6OENqj-6g"
      },
      "execution_count": 19,
      "outputs": []
    },
    {
      "cell_type": "code",
      "source": [
        "dfPayATM.nunique()"
      ],
      "metadata": {
        "id": "Wa5e17EqWdhE",
        "colab": {
          "base_uri": "https://localhost:8080/"
        },
        "outputId": "41728386-bcf7-44a9-b5ff-5ae9816b8952"
      },
      "execution_count": 25,
      "outputs": [
        {
          "output_type": "execute_result",
          "data": {
            "text/plain": [
              "Unnamed: 0    52\n",
              "ID            50\n",
              "LIMIT_BAL     25\n",
              "EDUCATION      5\n",
              "PAY_AMT1      34\n",
              "PAY_AMT2      35\n",
              "PAY_AMT3      31\n",
              "PAY_AMT4      32\n",
              "PAY_AMT5      33\n",
              "PAY_AMT6      30\n",
              "dtype: int64"
            ]
          },
          "metadata": {},
          "execution_count": 25
        }
      ]
    },
    {
      "cell_type": "markdown",
      "source": [
        "Con la función nunique() identifique que hay dos registros duplicados (motivo: total es 52 y el ID tiene 50 valores únicos). Los ID 1 y 4."
      ],
      "metadata": {
        "id": "5nQBGxnDWvFE"
      }
    },
    {
      "cell_type": "code",
      "source": [
        "pd.isna(dfPayATM).sum()"
      ],
      "metadata": {
        "id": "0eImheUbW_zU",
        "colab": {
          "base_uri": "https://localhost:8080/"
        },
        "outputId": "8abd486d-1105-4cfc-a4c2-20c261978a4e"
      },
      "execution_count": 26,
      "outputs": [
        {
          "output_type": "execute_result",
          "data": {
            "text/plain": [
              "Unnamed: 0    0\n",
              "ID            0\n",
              "LIMIT_BAL     0\n",
              "EDUCATION     0\n",
              "PAY_AMT1      0\n",
              "PAY_AMT2      0\n",
              "PAY_AMT3      0\n",
              "PAY_AMT4      0\n",
              "PAY_AMT5      0\n",
              "PAY_AMT6      0\n",
              "dtype: int64"
            ]
          },
          "metadata": {},
          "execution_count": 26
        }
      ]
    },
    {
      "cell_type": "markdown",
      "source": [
        "Con la función isna(df).sum() confirme que ningún registro contiene datos vacíos"
      ],
      "metadata": {
        "id": "CJnOmILoXJQc"
      }
    },
    {
      "cell_type": "code",
      "source": [
        "dfPayATM.describe(include=['object'])"
      ],
      "metadata": {
        "id": "FIulFsJ5XN91",
        "colab": {
          "base_uri": "https://localhost:8080/",
          "height": 175
        },
        "outputId": "6c6458d5-0a5f-41c0-eeef-531725c83e62"
      },
      "execution_count": 27,
      "outputs": [
        {
          "output_type": "execute_result",
          "data": {
            "text/plain": [
              "       LIMIT_BAL EDUCATION\n",
              "count         52        52\n",
              "unique        25         5\n",
              "top      50000.0         1\n",
              "freq           8        21"
            ],
            "text/html": [
              "\n",
              "  <div id=\"df-c9bfbcf4-2a0f-4284-9976-52bedaf501e2\">\n",
              "    <div class=\"colab-df-container\">\n",
              "      <div>\n",
              "<style scoped>\n",
              "    .dataframe tbody tr th:only-of-type {\n",
              "        vertical-align: middle;\n",
              "    }\n",
              "\n",
              "    .dataframe tbody tr th {\n",
              "        vertical-align: top;\n",
              "    }\n",
              "\n",
              "    .dataframe thead th {\n",
              "        text-align: right;\n",
              "    }\n",
              "</style>\n",
              "<table border=\"1\" class=\"dataframe\">\n",
              "  <thead>\n",
              "    <tr style=\"text-align: right;\">\n",
              "      <th></th>\n",
              "      <th>LIMIT_BAL</th>\n",
              "      <th>EDUCATION</th>\n",
              "    </tr>\n",
              "  </thead>\n",
              "  <tbody>\n",
              "    <tr>\n",
              "      <th>count</th>\n",
              "      <td>52</td>\n",
              "      <td>52</td>\n",
              "    </tr>\n",
              "    <tr>\n",
              "      <th>unique</th>\n",
              "      <td>25</td>\n",
              "      <td>5</td>\n",
              "    </tr>\n",
              "    <tr>\n",
              "      <th>top</th>\n",
              "      <td>50000.0</td>\n",
              "      <td>1</td>\n",
              "    </tr>\n",
              "    <tr>\n",
              "      <th>freq</th>\n",
              "      <td>8</td>\n",
              "      <td>21</td>\n",
              "    </tr>\n",
              "  </tbody>\n",
              "</table>\n",
              "</div>\n",
              "      <button class=\"colab-df-convert\" onclick=\"convertToInteractive('df-c9bfbcf4-2a0f-4284-9976-52bedaf501e2')\"\n",
              "              title=\"Convert this dataframe to an interactive table.\"\n",
              "              style=\"display:none;\">\n",
              "        \n",
              "  <svg xmlns=\"http://www.w3.org/2000/svg\" height=\"24px\"viewBox=\"0 0 24 24\"\n",
              "       width=\"24px\">\n",
              "    <path d=\"M0 0h24v24H0V0z\" fill=\"none\"/>\n",
              "    <path d=\"M18.56 5.44l.94 2.06.94-2.06 2.06-.94-2.06-.94-.94-2.06-.94 2.06-2.06.94zm-11 1L8.5 8.5l.94-2.06 2.06-.94-2.06-.94L8.5 2.5l-.94 2.06-2.06.94zm10 10l.94 2.06.94-2.06 2.06-.94-2.06-.94-.94-2.06-.94 2.06-2.06.94z\"/><path d=\"M17.41 7.96l-1.37-1.37c-.4-.4-.92-.59-1.43-.59-.52 0-1.04.2-1.43.59L10.3 9.45l-7.72 7.72c-.78.78-.78 2.05 0 2.83L4 21.41c.39.39.9.59 1.41.59.51 0 1.02-.2 1.41-.59l7.78-7.78 2.81-2.81c.8-.78.8-2.07 0-2.86zM5.41 20L4 18.59l7.72-7.72 1.47 1.35L5.41 20z\"/>\n",
              "  </svg>\n",
              "      </button>\n",
              "      \n",
              "  <style>\n",
              "    .colab-df-container {\n",
              "      display:flex;\n",
              "      flex-wrap:wrap;\n",
              "      gap: 12px;\n",
              "    }\n",
              "\n",
              "    .colab-df-convert {\n",
              "      background-color: #E8F0FE;\n",
              "      border: none;\n",
              "      border-radius: 50%;\n",
              "      cursor: pointer;\n",
              "      display: none;\n",
              "      fill: #1967D2;\n",
              "      height: 32px;\n",
              "      padding: 0 0 0 0;\n",
              "      width: 32px;\n",
              "    }\n",
              "\n",
              "    .colab-df-convert:hover {\n",
              "      background-color: #E2EBFA;\n",
              "      box-shadow: 0px 1px 2px rgba(60, 64, 67, 0.3), 0px 1px 3px 1px rgba(60, 64, 67, 0.15);\n",
              "      fill: #174EA6;\n",
              "    }\n",
              "\n",
              "    [theme=dark] .colab-df-convert {\n",
              "      background-color: #3B4455;\n",
              "      fill: #D2E3FC;\n",
              "    }\n",
              "\n",
              "    [theme=dark] .colab-df-convert:hover {\n",
              "      background-color: #434B5C;\n",
              "      box-shadow: 0px 1px 3px 1px rgba(0, 0, 0, 0.15);\n",
              "      filter: drop-shadow(0px 1px 2px rgba(0, 0, 0, 0.3));\n",
              "      fill: #FFFFFF;\n",
              "    }\n",
              "  </style>\n",
              "\n",
              "      <script>\n",
              "        const buttonEl =\n",
              "          document.querySelector('#df-c9bfbcf4-2a0f-4284-9976-52bedaf501e2 button.colab-df-convert');\n",
              "        buttonEl.style.display =\n",
              "          google.colab.kernel.accessAllowed ? 'block' : 'none';\n",
              "\n",
              "        async function convertToInteractive(key) {\n",
              "          const element = document.querySelector('#df-c9bfbcf4-2a0f-4284-9976-52bedaf501e2');\n",
              "          const dataTable =\n",
              "            await google.colab.kernel.invokeFunction('convertToInteractive',\n",
              "                                                     [key], {});\n",
              "          if (!dataTable) return;\n",
              "\n",
              "          const docLinkHtml = 'Like what you see? Visit the ' +\n",
              "            '<a target=\"_blank\" href=https://colab.research.google.com/notebooks/data_table.ipynb>data table notebook</a>'\n",
              "            + ' to learn more about interactive tables.';\n",
              "          element.innerHTML = '';\n",
              "          dataTable['output_type'] = 'display_data';\n",
              "          await google.colab.output.renderOutput(dataTable, element);\n",
              "          const docLink = document.createElement('div');\n",
              "          docLink.innerHTML = docLinkHtml;\n",
              "          element.appendChild(docLink);\n",
              "        }\n",
              "      </script>\n",
              "    </div>\n",
              "  </div>\n",
              "  "
            ]
          },
          "metadata": {},
          "execution_count": 27
        }
      ]
    },
    {
      "cell_type": "code",
      "source": [
        "dfPayATM.describe(include=[np.number])"
      ],
      "metadata": {
        "id": "6GgT5k_rXT7d",
        "colab": {
          "base_uri": "https://localhost:8080/",
          "height": 300
        },
        "outputId": "9ed3e339-02fc-4ec4-aa49-db133f41f80c"
      },
      "execution_count": 28,
      "outputs": [
        {
          "output_type": "execute_result",
          "data": {
            "text/plain": [
              "       Unnamed: 0         ID      PAY_AMT1      PAY_AMT2      PAY_AMT3  \\\n",
              "count   52.000000  52.000000     52.000000     52.000000     52.000000   \n",
              "mean    25.500000  24.615385   4814.557692   4920.519231   5199.730769   \n",
              "std     15.154757  14.973380   8879.389673   8952.014216  12122.670220   \n",
              "min      0.000000   1.000000      0.000000      0.000000      0.000000   \n",
              "25%     12.750000  11.750000    945.000000    376.000000     37.500000   \n",
              "50%     25.500000  24.500000   2003.500000   1500.000000   1000.500000   \n",
              "75%     38.250000  37.250000   3350.500000   3811.500000   4381.000000   \n",
              "max     51.000000  50.000000  55000.000000  40000.000000  75940.000000   \n",
              "\n",
              "            PAY_AMT4       PAY_AMT5      PAY_AMT6  \n",
              "count      52.000000      52.000000     52.000000  \n",
              "mean     8909.442308    7749.884615   4025.826923  \n",
              "std     27900.881776   28067.826843  10730.716777  \n",
              "min         0.000000       0.000000      0.000000  \n",
              "25%       325.500000     192.750000      0.000000  \n",
              "50%      1100.000000    1031.000000    898.500000  \n",
              "75%      4600.000000    3000.000000   2125.000000  \n",
              "max    188840.000000  195599.000000  51582.000000  "
            ],
            "text/html": [
              "\n",
              "  <div id=\"df-69aace5a-1ebd-4a73-af2e-ff14b73c119b\">\n",
              "    <div class=\"colab-df-container\">\n",
              "      <div>\n",
              "<style scoped>\n",
              "    .dataframe tbody tr th:only-of-type {\n",
              "        vertical-align: middle;\n",
              "    }\n",
              "\n",
              "    .dataframe tbody tr th {\n",
              "        vertical-align: top;\n",
              "    }\n",
              "\n",
              "    .dataframe thead th {\n",
              "        text-align: right;\n",
              "    }\n",
              "</style>\n",
              "<table border=\"1\" class=\"dataframe\">\n",
              "  <thead>\n",
              "    <tr style=\"text-align: right;\">\n",
              "      <th></th>\n",
              "      <th>Unnamed: 0</th>\n",
              "      <th>ID</th>\n",
              "      <th>PAY_AMT1</th>\n",
              "      <th>PAY_AMT2</th>\n",
              "      <th>PAY_AMT3</th>\n",
              "      <th>PAY_AMT4</th>\n",
              "      <th>PAY_AMT5</th>\n",
              "      <th>PAY_AMT6</th>\n",
              "    </tr>\n",
              "  </thead>\n",
              "  <tbody>\n",
              "    <tr>\n",
              "      <th>count</th>\n",
              "      <td>52.000000</td>\n",
              "      <td>52.000000</td>\n",
              "      <td>52.000000</td>\n",
              "      <td>52.000000</td>\n",
              "      <td>52.000000</td>\n",
              "      <td>52.000000</td>\n",
              "      <td>52.000000</td>\n",
              "      <td>52.000000</td>\n",
              "    </tr>\n",
              "    <tr>\n",
              "      <th>mean</th>\n",
              "      <td>25.500000</td>\n",
              "      <td>24.615385</td>\n",
              "      <td>4814.557692</td>\n",
              "      <td>4920.519231</td>\n",
              "      <td>5199.730769</td>\n",
              "      <td>8909.442308</td>\n",
              "      <td>7749.884615</td>\n",
              "      <td>4025.826923</td>\n",
              "    </tr>\n",
              "    <tr>\n",
              "      <th>std</th>\n",
              "      <td>15.154757</td>\n",
              "      <td>14.973380</td>\n",
              "      <td>8879.389673</td>\n",
              "      <td>8952.014216</td>\n",
              "      <td>12122.670220</td>\n",
              "      <td>27900.881776</td>\n",
              "      <td>28067.826843</td>\n",
              "      <td>10730.716777</td>\n",
              "    </tr>\n",
              "    <tr>\n",
              "      <th>min</th>\n",
              "      <td>0.000000</td>\n",
              "      <td>1.000000</td>\n",
              "      <td>0.000000</td>\n",
              "      <td>0.000000</td>\n",
              "      <td>0.000000</td>\n",
              "      <td>0.000000</td>\n",
              "      <td>0.000000</td>\n",
              "      <td>0.000000</td>\n",
              "    </tr>\n",
              "    <tr>\n",
              "      <th>25%</th>\n",
              "      <td>12.750000</td>\n",
              "      <td>11.750000</td>\n",
              "      <td>945.000000</td>\n",
              "      <td>376.000000</td>\n",
              "      <td>37.500000</td>\n",
              "      <td>325.500000</td>\n",
              "      <td>192.750000</td>\n",
              "      <td>0.000000</td>\n",
              "    </tr>\n",
              "    <tr>\n",
              "      <th>50%</th>\n",
              "      <td>25.500000</td>\n",
              "      <td>24.500000</td>\n",
              "      <td>2003.500000</td>\n",
              "      <td>1500.000000</td>\n",
              "      <td>1000.500000</td>\n",
              "      <td>1100.000000</td>\n",
              "      <td>1031.000000</td>\n",
              "      <td>898.500000</td>\n",
              "    </tr>\n",
              "    <tr>\n",
              "      <th>75%</th>\n",
              "      <td>38.250000</td>\n",
              "      <td>37.250000</td>\n",
              "      <td>3350.500000</td>\n",
              "      <td>3811.500000</td>\n",
              "      <td>4381.000000</td>\n",
              "      <td>4600.000000</td>\n",
              "      <td>3000.000000</td>\n",
              "      <td>2125.000000</td>\n",
              "    </tr>\n",
              "    <tr>\n",
              "      <th>max</th>\n",
              "      <td>51.000000</td>\n",
              "      <td>50.000000</td>\n",
              "      <td>55000.000000</td>\n",
              "      <td>40000.000000</td>\n",
              "      <td>75940.000000</td>\n",
              "      <td>188840.000000</td>\n",
              "      <td>195599.000000</td>\n",
              "      <td>51582.000000</td>\n",
              "    </tr>\n",
              "  </tbody>\n",
              "</table>\n",
              "</div>\n",
              "      <button class=\"colab-df-convert\" onclick=\"convertToInteractive('df-69aace5a-1ebd-4a73-af2e-ff14b73c119b')\"\n",
              "              title=\"Convert this dataframe to an interactive table.\"\n",
              "              style=\"display:none;\">\n",
              "        \n",
              "  <svg xmlns=\"http://www.w3.org/2000/svg\" height=\"24px\"viewBox=\"0 0 24 24\"\n",
              "       width=\"24px\">\n",
              "    <path d=\"M0 0h24v24H0V0z\" fill=\"none\"/>\n",
              "    <path d=\"M18.56 5.44l.94 2.06.94-2.06 2.06-.94-2.06-.94-.94-2.06-.94 2.06-2.06.94zm-11 1L8.5 8.5l.94-2.06 2.06-.94-2.06-.94L8.5 2.5l-.94 2.06-2.06.94zm10 10l.94 2.06.94-2.06 2.06-.94-2.06-.94-.94-2.06-.94 2.06-2.06.94z\"/><path d=\"M17.41 7.96l-1.37-1.37c-.4-.4-.92-.59-1.43-.59-.52 0-1.04.2-1.43.59L10.3 9.45l-7.72 7.72c-.78.78-.78 2.05 0 2.83L4 21.41c.39.39.9.59 1.41.59.51 0 1.02-.2 1.41-.59l7.78-7.78 2.81-2.81c.8-.78.8-2.07 0-2.86zM5.41 20L4 18.59l7.72-7.72 1.47 1.35L5.41 20z\"/>\n",
              "  </svg>\n",
              "      </button>\n",
              "      \n",
              "  <style>\n",
              "    .colab-df-container {\n",
              "      display:flex;\n",
              "      flex-wrap:wrap;\n",
              "      gap: 12px;\n",
              "    }\n",
              "\n",
              "    .colab-df-convert {\n",
              "      background-color: #E8F0FE;\n",
              "      border: none;\n",
              "      border-radius: 50%;\n",
              "      cursor: pointer;\n",
              "      display: none;\n",
              "      fill: #1967D2;\n",
              "      height: 32px;\n",
              "      padding: 0 0 0 0;\n",
              "      width: 32px;\n",
              "    }\n",
              "\n",
              "    .colab-df-convert:hover {\n",
              "      background-color: #E2EBFA;\n",
              "      box-shadow: 0px 1px 2px rgba(60, 64, 67, 0.3), 0px 1px 3px 1px rgba(60, 64, 67, 0.15);\n",
              "      fill: #174EA6;\n",
              "    }\n",
              "\n",
              "    [theme=dark] .colab-df-convert {\n",
              "      background-color: #3B4455;\n",
              "      fill: #D2E3FC;\n",
              "    }\n",
              "\n",
              "    [theme=dark] .colab-df-convert:hover {\n",
              "      background-color: #434B5C;\n",
              "      box-shadow: 0px 1px 3px 1px rgba(0, 0, 0, 0.15);\n",
              "      filter: drop-shadow(0px 1px 2px rgba(0, 0, 0, 0.3));\n",
              "      fill: #FFFFFF;\n",
              "    }\n",
              "  </style>\n",
              "\n",
              "      <script>\n",
              "        const buttonEl =\n",
              "          document.querySelector('#df-69aace5a-1ebd-4a73-af2e-ff14b73c119b button.colab-df-convert');\n",
              "        buttonEl.style.display =\n",
              "          google.colab.kernel.accessAllowed ? 'block' : 'none';\n",
              "\n",
              "        async function convertToInteractive(key) {\n",
              "          const element = document.querySelector('#df-69aace5a-1ebd-4a73-af2e-ff14b73c119b');\n",
              "          const dataTable =\n",
              "            await google.colab.kernel.invokeFunction('convertToInteractive',\n",
              "                                                     [key], {});\n",
              "          if (!dataTable) return;\n",
              "\n",
              "          const docLinkHtml = 'Like what you see? Visit the ' +\n",
              "            '<a target=\"_blank\" href=https://colab.research.google.com/notebooks/data_table.ipynb>data table notebook</a>'\n",
              "            + ' to learn more about interactive tables.';\n",
              "          element.innerHTML = '';\n",
              "          dataTable['output_type'] = 'display_data';\n",
              "          await google.colab.output.renderOutput(dataTable, element);\n",
              "          const docLink = document.createElement('div');\n",
              "          docLink.innerHTML = docLinkHtml;\n",
              "          element.appendChild(docLink);\n",
              "        }\n",
              "      </script>\n",
              "    </div>\n",
              "  </div>\n",
              "  "
            ]
          },
          "metadata": {},
          "execution_count": 28
        }
      ]
    },
    {
      "cell_type": "markdown",
      "source": [
        "# **Se carga y estudia CUARTA fuente de datos sobre las tarjetas de crédito de los clientes (UCI_Credit_Card_PayNextMonth), contiene 50 registros.**\n",
        "\n"
      ],
      "metadata": {
        "id": "-F8t3inLJ9X3"
      }
    },
    {
      "cell_type": "code",
      "source": [
        "dfPayNM = pd.read_csv('UCI_Credit_Card_PayNextMonth.csv',sep=',')"
      ],
      "metadata": {
        "id": "32d6VktOKEO-"
      },
      "execution_count": 20,
      "outputs": []
    },
    {
      "cell_type": "code",
      "source": [
        "dfPayNM.head()"
      ],
      "metadata": {
        "id": "dz09uZ21KPVA",
        "colab": {
          "base_uri": "https://localhost:8080/",
          "height": 0
        },
        "outputId": "67377d5a-2803-443b-b46f-ae0b8056e7ad"
      },
      "execution_count": 21,
      "outputs": [
        {
          "output_type": "execute_result",
          "data": {
            "text/plain": [
              "   Unnamed: 0  ID SEX  EDUCATION  MARRIAGE   AGE  default.payment.next.month\n",
              "0           0   1   2        2.0         1  24.0                           1\n",
              "1           1   2   2        2.0         2  26.0                           1\n",
              "2           2   3   2        2.0         2  34.0                           0\n",
              "3           3   4   2        NaN         1  37.0                           0\n",
              "4           4   5   1        2.0         1  57.0                           0"
            ],
            "text/html": [
              "\n",
              "  <div id=\"df-1cb9a272-0da5-45c3-b0d6-00bedb54efa4\">\n",
              "    <div class=\"colab-df-container\">\n",
              "      <div>\n",
              "<style scoped>\n",
              "    .dataframe tbody tr th:only-of-type {\n",
              "        vertical-align: middle;\n",
              "    }\n",
              "\n",
              "    .dataframe tbody tr th {\n",
              "        vertical-align: top;\n",
              "    }\n",
              "\n",
              "    .dataframe thead th {\n",
              "        text-align: right;\n",
              "    }\n",
              "</style>\n",
              "<table border=\"1\" class=\"dataframe\">\n",
              "  <thead>\n",
              "    <tr style=\"text-align: right;\">\n",
              "      <th></th>\n",
              "      <th>Unnamed: 0</th>\n",
              "      <th>ID</th>\n",
              "      <th>SEX</th>\n",
              "      <th>EDUCATION</th>\n",
              "      <th>MARRIAGE</th>\n",
              "      <th>AGE</th>\n",
              "      <th>default.payment.next.month</th>\n",
              "    </tr>\n",
              "  </thead>\n",
              "  <tbody>\n",
              "    <tr>\n",
              "      <th>0</th>\n",
              "      <td>0</td>\n",
              "      <td>1</td>\n",
              "      <td>2</td>\n",
              "      <td>2.0</td>\n",
              "      <td>1</td>\n",
              "      <td>24.0</td>\n",
              "      <td>1</td>\n",
              "    </tr>\n",
              "    <tr>\n",
              "      <th>1</th>\n",
              "      <td>1</td>\n",
              "      <td>2</td>\n",
              "      <td>2</td>\n",
              "      <td>2.0</td>\n",
              "      <td>2</td>\n",
              "      <td>26.0</td>\n",
              "      <td>1</td>\n",
              "    </tr>\n",
              "    <tr>\n",
              "      <th>2</th>\n",
              "      <td>2</td>\n",
              "      <td>3</td>\n",
              "      <td>2</td>\n",
              "      <td>2.0</td>\n",
              "      <td>2</td>\n",
              "      <td>34.0</td>\n",
              "      <td>0</td>\n",
              "    </tr>\n",
              "    <tr>\n",
              "      <th>3</th>\n",
              "      <td>3</td>\n",
              "      <td>4</td>\n",
              "      <td>2</td>\n",
              "      <td>NaN</td>\n",
              "      <td>1</td>\n",
              "      <td>37.0</td>\n",
              "      <td>0</td>\n",
              "    </tr>\n",
              "    <tr>\n",
              "      <th>4</th>\n",
              "      <td>4</td>\n",
              "      <td>5</td>\n",
              "      <td>1</td>\n",
              "      <td>2.0</td>\n",
              "      <td>1</td>\n",
              "      <td>57.0</td>\n",
              "      <td>0</td>\n",
              "    </tr>\n",
              "  </tbody>\n",
              "</table>\n",
              "</div>\n",
              "      <button class=\"colab-df-convert\" onclick=\"convertToInteractive('df-1cb9a272-0da5-45c3-b0d6-00bedb54efa4')\"\n",
              "              title=\"Convert this dataframe to an interactive table.\"\n",
              "              style=\"display:none;\">\n",
              "        \n",
              "  <svg xmlns=\"http://www.w3.org/2000/svg\" height=\"24px\"viewBox=\"0 0 24 24\"\n",
              "       width=\"24px\">\n",
              "    <path d=\"M0 0h24v24H0V0z\" fill=\"none\"/>\n",
              "    <path d=\"M18.56 5.44l.94 2.06.94-2.06 2.06-.94-2.06-.94-.94-2.06-.94 2.06-2.06.94zm-11 1L8.5 8.5l.94-2.06 2.06-.94-2.06-.94L8.5 2.5l-.94 2.06-2.06.94zm10 10l.94 2.06.94-2.06 2.06-.94-2.06-.94-.94-2.06-.94 2.06-2.06.94z\"/><path d=\"M17.41 7.96l-1.37-1.37c-.4-.4-.92-.59-1.43-.59-.52 0-1.04.2-1.43.59L10.3 9.45l-7.72 7.72c-.78.78-.78 2.05 0 2.83L4 21.41c.39.39.9.59 1.41.59.51 0 1.02-.2 1.41-.59l7.78-7.78 2.81-2.81c.8-.78.8-2.07 0-2.86zM5.41 20L4 18.59l7.72-7.72 1.47 1.35L5.41 20z\"/>\n",
              "  </svg>\n",
              "      </button>\n",
              "      \n",
              "  <style>\n",
              "    .colab-df-container {\n",
              "      display:flex;\n",
              "      flex-wrap:wrap;\n",
              "      gap: 12px;\n",
              "    }\n",
              "\n",
              "    .colab-df-convert {\n",
              "      background-color: #E8F0FE;\n",
              "      border: none;\n",
              "      border-radius: 50%;\n",
              "      cursor: pointer;\n",
              "      display: none;\n",
              "      fill: #1967D2;\n",
              "      height: 32px;\n",
              "      padding: 0 0 0 0;\n",
              "      width: 32px;\n",
              "    }\n",
              "\n",
              "    .colab-df-convert:hover {\n",
              "      background-color: #E2EBFA;\n",
              "      box-shadow: 0px 1px 2px rgba(60, 64, 67, 0.3), 0px 1px 3px 1px rgba(60, 64, 67, 0.15);\n",
              "      fill: #174EA6;\n",
              "    }\n",
              "\n",
              "    [theme=dark] .colab-df-convert {\n",
              "      background-color: #3B4455;\n",
              "      fill: #D2E3FC;\n",
              "    }\n",
              "\n",
              "    [theme=dark] .colab-df-convert:hover {\n",
              "      background-color: #434B5C;\n",
              "      box-shadow: 0px 1px 3px 1px rgba(0, 0, 0, 0.15);\n",
              "      filter: drop-shadow(0px 1px 2px rgba(0, 0, 0, 0.3));\n",
              "      fill: #FFFFFF;\n",
              "    }\n",
              "  </style>\n",
              "\n",
              "      <script>\n",
              "        const buttonEl =\n",
              "          document.querySelector('#df-1cb9a272-0da5-45c3-b0d6-00bedb54efa4 button.colab-df-convert');\n",
              "        buttonEl.style.display =\n",
              "          google.colab.kernel.accessAllowed ? 'block' : 'none';\n",
              "\n",
              "        async function convertToInteractive(key) {\n",
              "          const element = document.querySelector('#df-1cb9a272-0da5-45c3-b0d6-00bedb54efa4');\n",
              "          const dataTable =\n",
              "            await google.colab.kernel.invokeFunction('convertToInteractive',\n",
              "                                                     [key], {});\n",
              "          if (!dataTable) return;\n",
              "\n",
              "          const docLinkHtml = 'Like what you see? Visit the ' +\n",
              "            '<a target=\"_blank\" href=https://colab.research.google.com/notebooks/data_table.ipynb>data table notebook</a>'\n",
              "            + ' to learn more about interactive tables.';\n",
              "          element.innerHTML = '';\n",
              "          dataTable['output_type'] = 'display_data';\n",
              "          await google.colab.output.renderOutput(dataTable, element);\n",
              "          const docLink = document.createElement('div');\n",
              "          docLink.innerHTML = docLinkHtml;\n",
              "          element.appendChild(docLink);\n",
              "        }\n",
              "      </script>\n",
              "    </div>\n",
              "  </div>\n",
              "  "
            ]
          },
          "metadata": {},
          "execution_count": 21
        }
      ]
    },
    {
      "cell_type": "code",
      "source": [
        "dfPayNM.tail()"
      ],
      "metadata": {
        "id": "DBMVmoHbMGnd",
        "colab": {
          "base_uri": "https://localhost:8080/",
          "height": 0
        },
        "outputId": "947b0203-d3d1-4759-a9ff-4fc96e6fe38b"
      },
      "execution_count": 22,
      "outputs": [
        {
          "output_type": "execute_result",
          "data": {
            "text/plain": [
              "    Unnamed: 0  ID  SEX  EDUCATION  MARRIAGE   AGE  default.payment.next.month\n",
              "45          45  46    1        1.0         2  29.0                           1\n",
              "46          46  47    2        1.0         2  22.0                           1\n",
              "47          47  48    2        NaN         2  46.0                           1\n",
              "48          48  49    1        2.0         2  32.0                           0\n",
              "49          49  50  Nan        1.0         2  24.0                           0"
            ],
            "text/html": [
              "\n",
              "  <div id=\"df-0c886cd1-9395-49a3-8c06-c9320a4d3c05\">\n",
              "    <div class=\"colab-df-container\">\n",
              "      <div>\n",
              "<style scoped>\n",
              "    .dataframe tbody tr th:only-of-type {\n",
              "        vertical-align: middle;\n",
              "    }\n",
              "\n",
              "    .dataframe tbody tr th {\n",
              "        vertical-align: top;\n",
              "    }\n",
              "\n",
              "    .dataframe thead th {\n",
              "        text-align: right;\n",
              "    }\n",
              "</style>\n",
              "<table border=\"1\" class=\"dataframe\">\n",
              "  <thead>\n",
              "    <tr style=\"text-align: right;\">\n",
              "      <th></th>\n",
              "      <th>Unnamed: 0</th>\n",
              "      <th>ID</th>\n",
              "      <th>SEX</th>\n",
              "      <th>EDUCATION</th>\n",
              "      <th>MARRIAGE</th>\n",
              "      <th>AGE</th>\n",
              "      <th>default.payment.next.month</th>\n",
              "    </tr>\n",
              "  </thead>\n",
              "  <tbody>\n",
              "    <tr>\n",
              "      <th>45</th>\n",
              "      <td>45</td>\n",
              "      <td>46</td>\n",
              "      <td>1</td>\n",
              "      <td>1.0</td>\n",
              "      <td>2</td>\n",
              "      <td>29.0</td>\n",
              "      <td>1</td>\n",
              "    </tr>\n",
              "    <tr>\n",
              "      <th>46</th>\n",
              "      <td>46</td>\n",
              "      <td>47</td>\n",
              "      <td>2</td>\n",
              "      <td>1.0</td>\n",
              "      <td>2</td>\n",
              "      <td>22.0</td>\n",
              "      <td>1</td>\n",
              "    </tr>\n",
              "    <tr>\n",
              "      <th>47</th>\n",
              "      <td>47</td>\n",
              "      <td>48</td>\n",
              "      <td>2</td>\n",
              "      <td>NaN</td>\n",
              "      <td>2</td>\n",
              "      <td>46.0</td>\n",
              "      <td>1</td>\n",
              "    </tr>\n",
              "    <tr>\n",
              "      <th>48</th>\n",
              "      <td>48</td>\n",
              "      <td>49</td>\n",
              "      <td>1</td>\n",
              "      <td>2.0</td>\n",
              "      <td>2</td>\n",
              "      <td>32.0</td>\n",
              "      <td>0</td>\n",
              "    </tr>\n",
              "    <tr>\n",
              "      <th>49</th>\n",
              "      <td>49</td>\n",
              "      <td>50</td>\n",
              "      <td>Nan</td>\n",
              "      <td>1.0</td>\n",
              "      <td>2</td>\n",
              "      <td>24.0</td>\n",
              "      <td>0</td>\n",
              "    </tr>\n",
              "  </tbody>\n",
              "</table>\n",
              "</div>\n",
              "      <button class=\"colab-df-convert\" onclick=\"convertToInteractive('df-0c886cd1-9395-49a3-8c06-c9320a4d3c05')\"\n",
              "              title=\"Convert this dataframe to an interactive table.\"\n",
              "              style=\"display:none;\">\n",
              "        \n",
              "  <svg xmlns=\"http://www.w3.org/2000/svg\" height=\"24px\"viewBox=\"0 0 24 24\"\n",
              "       width=\"24px\">\n",
              "    <path d=\"M0 0h24v24H0V0z\" fill=\"none\"/>\n",
              "    <path d=\"M18.56 5.44l.94 2.06.94-2.06 2.06-.94-2.06-.94-.94-2.06-.94 2.06-2.06.94zm-11 1L8.5 8.5l.94-2.06 2.06-.94-2.06-.94L8.5 2.5l-.94 2.06-2.06.94zm10 10l.94 2.06.94-2.06 2.06-.94-2.06-.94-.94-2.06-.94 2.06-2.06.94z\"/><path d=\"M17.41 7.96l-1.37-1.37c-.4-.4-.92-.59-1.43-.59-.52 0-1.04.2-1.43.59L10.3 9.45l-7.72 7.72c-.78.78-.78 2.05 0 2.83L4 21.41c.39.39.9.59 1.41.59.51 0 1.02-.2 1.41-.59l7.78-7.78 2.81-2.81c.8-.78.8-2.07 0-2.86zM5.41 20L4 18.59l7.72-7.72 1.47 1.35L5.41 20z\"/>\n",
              "  </svg>\n",
              "      </button>\n",
              "      \n",
              "  <style>\n",
              "    .colab-df-container {\n",
              "      display:flex;\n",
              "      flex-wrap:wrap;\n",
              "      gap: 12px;\n",
              "    }\n",
              "\n",
              "    .colab-df-convert {\n",
              "      background-color: #E8F0FE;\n",
              "      border: none;\n",
              "      border-radius: 50%;\n",
              "      cursor: pointer;\n",
              "      display: none;\n",
              "      fill: #1967D2;\n",
              "      height: 32px;\n",
              "      padding: 0 0 0 0;\n",
              "      width: 32px;\n",
              "    }\n",
              "\n",
              "    .colab-df-convert:hover {\n",
              "      background-color: #E2EBFA;\n",
              "      box-shadow: 0px 1px 2px rgba(60, 64, 67, 0.3), 0px 1px 3px 1px rgba(60, 64, 67, 0.15);\n",
              "      fill: #174EA6;\n",
              "    }\n",
              "\n",
              "    [theme=dark] .colab-df-convert {\n",
              "      background-color: #3B4455;\n",
              "      fill: #D2E3FC;\n",
              "    }\n",
              "\n",
              "    [theme=dark] .colab-df-convert:hover {\n",
              "      background-color: #434B5C;\n",
              "      box-shadow: 0px 1px 3px 1px rgba(0, 0, 0, 0.15);\n",
              "      filter: drop-shadow(0px 1px 2px rgba(0, 0, 0, 0.3));\n",
              "      fill: #FFFFFF;\n",
              "    }\n",
              "  </style>\n",
              "\n",
              "      <script>\n",
              "        const buttonEl =\n",
              "          document.querySelector('#df-0c886cd1-9395-49a3-8c06-c9320a4d3c05 button.colab-df-convert');\n",
              "        buttonEl.style.display =\n",
              "          google.colab.kernel.accessAllowed ? 'block' : 'none';\n",
              "\n",
              "        async function convertToInteractive(key) {\n",
              "          const element = document.querySelector('#df-0c886cd1-9395-49a3-8c06-c9320a4d3c05');\n",
              "          const dataTable =\n",
              "            await google.colab.kernel.invokeFunction('convertToInteractive',\n",
              "                                                     [key], {});\n",
              "          if (!dataTable) return;\n",
              "\n",
              "          const docLinkHtml = 'Like what you see? Visit the ' +\n",
              "            '<a target=\"_blank\" href=https://colab.research.google.com/notebooks/data_table.ipynb>data table notebook</a>'\n",
              "            + ' to learn more about interactive tables.';\n",
              "          element.innerHTML = '';\n",
              "          dataTable['output_type'] = 'display_data';\n",
              "          await google.colab.output.renderOutput(dataTable, element);\n",
              "          const docLink = document.createElement('div');\n",
              "          docLink.innerHTML = docLinkHtml;\n",
              "          element.appendChild(docLink);\n",
              "        }\n",
              "      </script>\n",
              "    </div>\n",
              "  </div>\n",
              "  "
            ]
          },
          "metadata": {},
          "execution_count": 22
        }
      ]
    },
    {
      "cell_type": "code",
      "source": [
        "dfPayNM"
      ],
      "metadata": {
        "id": "QvXjfUvASZXY",
        "colab": {
          "base_uri": "https://localhost:8080/",
          "height": 0
        },
        "outputId": "a9e8f0a0-53c8-4c61-bb86-289855800f5f"
      },
      "execution_count": 23,
      "outputs": [
        {
          "output_type": "execute_result",
          "data": {
            "text/plain": [
              "    Unnamed: 0  ID  SEX  EDUCATION  MARRIAGE   AGE  default.payment.next.month\n",
              "0            0   1    2        2.0         1  24.0                           1\n",
              "1            1   2    2        2.0         2  26.0                           1\n",
              "2            2   3    2        2.0         2  34.0                           0\n",
              "3            3   4    2        NaN         1  37.0                           0\n",
              "4            4   5    1        2.0         1  57.0                           0\n",
              "5            5   6    1        1.0         2  37.0                           0\n",
              "6            6   7    1        NaN         2  29.0                           0\n",
              "7            7   8    2        2.0         2  23.0                           0\n",
              "8            8   9    2        3.0         1  28.0                           0\n",
              "9            9  10    1        3.0         2  35.0                           0\n",
              "10          10  11    2        3.0         2   NaN                           0\n",
              "11          11  12    2        1.0         2  51.0                           0\n",
              "12          12  13    2        2.0         2  41.0                           0\n",
              "13          13  14  Nan        2.0         2  30.0                           1\n",
              "14          14  15    1        1.0         2  29.0                           0\n",
              "15          15  16    2        3.0         3  23.0                           0\n",
              "16          16  17    1        1.0         2  24.0                           1\n",
              "17          17  18    1        1.0         1  49.0                           0\n",
              "18          18  19  Nan        1.0         1  49.0                           0\n",
              "19          19  20    2        1.0         2  29.0                           0\n",
              "20          20  21    2        3.0         2  39.0                           0\n",
              "21          21  22    2        2.0         1  39.0                           1\n",
              "22          22  23  Nan        2.0         2  26.0                           1\n",
              "23          23  24    2        1.0         1  40.0                           1\n",
              "24          24  25  Nan        1.0         2  23.0                           0\n",
              "25          25  26    1        3.0         2   NaN                           0\n",
              "26          26  27    1        NaN         2  27.0                           1\n",
              "27          27  28    2        NaN         2  30.0                           0\n",
              "28          28  29    2        3.0         1  47.0                           0\n",
              "29          29  30    1        1.0         2  26.0                           0\n",
              "30          30  31    2        1.0         2   NaN                           0\n",
              "31          31  32    1        2.0         2  33.0                           1\n",
              "32          32  33    1        1.0         2  32.0                           0\n",
              "33          33  34    2        2.0         1   NaN                           0\n",
              "34          34  35    1        1.0         1  58.0                           0\n",
              "35          35  36    1        1.0         2  30.0                           0\n",
              "36          36  37  Nan        2.0         1  40.0                           0\n",
              "37          37  38    2        NaN         2  22.0                           0\n",
              "38          38  39    1        1.0         2  25.0                           1\n",
              "39          39  40    1        1.0         2  31.0                           0\n",
              "40          40  41    1        1.0         2  33.0                           0\n",
              "41          41  42    2        1.0         2  25.0                           0\n",
              "42          42  43    1        2.0         2   NaN                           0\n",
              "43          43  44    2        2.0         1   NaN                           0\n",
              "44          44  45    2        1.0         2  30.0                           0\n",
              "45          45  46    1        1.0         2  29.0                           1\n",
              "46          46  47    2        1.0         2  22.0                           1\n",
              "47          47  48    2        NaN         2  46.0                           1\n",
              "48          48  49    1        2.0         2  32.0                           0\n",
              "49          49  50  Nan        1.0         2  24.0                           0"
            ],
            "text/html": [
              "\n",
              "  <div id=\"df-050bb1d7-88ce-414e-a86b-715a987336b7\">\n",
              "    <div class=\"colab-df-container\">\n",
              "      <div>\n",
              "<style scoped>\n",
              "    .dataframe tbody tr th:only-of-type {\n",
              "        vertical-align: middle;\n",
              "    }\n",
              "\n",
              "    .dataframe tbody tr th {\n",
              "        vertical-align: top;\n",
              "    }\n",
              "\n",
              "    .dataframe thead th {\n",
              "        text-align: right;\n",
              "    }\n",
              "</style>\n",
              "<table border=\"1\" class=\"dataframe\">\n",
              "  <thead>\n",
              "    <tr style=\"text-align: right;\">\n",
              "      <th></th>\n",
              "      <th>Unnamed: 0</th>\n",
              "      <th>ID</th>\n",
              "      <th>SEX</th>\n",
              "      <th>EDUCATION</th>\n",
              "      <th>MARRIAGE</th>\n",
              "      <th>AGE</th>\n",
              "      <th>default.payment.next.month</th>\n",
              "    </tr>\n",
              "  </thead>\n",
              "  <tbody>\n",
              "    <tr>\n",
              "      <th>0</th>\n",
              "      <td>0</td>\n",
              "      <td>1</td>\n",
              "      <td>2</td>\n",
              "      <td>2.0</td>\n",
              "      <td>1</td>\n",
              "      <td>24.0</td>\n",
              "      <td>1</td>\n",
              "    </tr>\n",
              "    <tr>\n",
              "      <th>1</th>\n",
              "      <td>1</td>\n",
              "      <td>2</td>\n",
              "      <td>2</td>\n",
              "      <td>2.0</td>\n",
              "      <td>2</td>\n",
              "      <td>26.0</td>\n",
              "      <td>1</td>\n",
              "    </tr>\n",
              "    <tr>\n",
              "      <th>2</th>\n",
              "      <td>2</td>\n",
              "      <td>3</td>\n",
              "      <td>2</td>\n",
              "      <td>2.0</td>\n",
              "      <td>2</td>\n",
              "      <td>34.0</td>\n",
              "      <td>0</td>\n",
              "    </tr>\n",
              "    <tr>\n",
              "      <th>3</th>\n",
              "      <td>3</td>\n",
              "      <td>4</td>\n",
              "      <td>2</td>\n",
              "      <td>NaN</td>\n",
              "      <td>1</td>\n",
              "      <td>37.0</td>\n",
              "      <td>0</td>\n",
              "    </tr>\n",
              "    <tr>\n",
              "      <th>4</th>\n",
              "      <td>4</td>\n",
              "      <td>5</td>\n",
              "      <td>1</td>\n",
              "      <td>2.0</td>\n",
              "      <td>1</td>\n",
              "      <td>57.0</td>\n",
              "      <td>0</td>\n",
              "    </tr>\n",
              "    <tr>\n",
              "      <th>5</th>\n",
              "      <td>5</td>\n",
              "      <td>6</td>\n",
              "      <td>1</td>\n",
              "      <td>1.0</td>\n",
              "      <td>2</td>\n",
              "      <td>37.0</td>\n",
              "      <td>0</td>\n",
              "    </tr>\n",
              "    <tr>\n",
              "      <th>6</th>\n",
              "      <td>6</td>\n",
              "      <td>7</td>\n",
              "      <td>1</td>\n",
              "      <td>NaN</td>\n",
              "      <td>2</td>\n",
              "      <td>29.0</td>\n",
              "      <td>0</td>\n",
              "    </tr>\n",
              "    <tr>\n",
              "      <th>7</th>\n",
              "      <td>7</td>\n",
              "      <td>8</td>\n",
              "      <td>2</td>\n",
              "      <td>2.0</td>\n",
              "      <td>2</td>\n",
              "      <td>23.0</td>\n",
              "      <td>0</td>\n",
              "    </tr>\n",
              "    <tr>\n",
              "      <th>8</th>\n",
              "      <td>8</td>\n",
              "      <td>9</td>\n",
              "      <td>2</td>\n",
              "      <td>3.0</td>\n",
              "      <td>1</td>\n",
              "      <td>28.0</td>\n",
              "      <td>0</td>\n",
              "    </tr>\n",
              "    <tr>\n",
              "      <th>9</th>\n",
              "      <td>9</td>\n",
              "      <td>10</td>\n",
              "      <td>1</td>\n",
              "      <td>3.0</td>\n",
              "      <td>2</td>\n",
              "      <td>35.0</td>\n",
              "      <td>0</td>\n",
              "    </tr>\n",
              "    <tr>\n",
              "      <th>10</th>\n",
              "      <td>10</td>\n",
              "      <td>11</td>\n",
              "      <td>2</td>\n",
              "      <td>3.0</td>\n",
              "      <td>2</td>\n",
              "      <td>NaN</td>\n",
              "      <td>0</td>\n",
              "    </tr>\n",
              "    <tr>\n",
              "      <th>11</th>\n",
              "      <td>11</td>\n",
              "      <td>12</td>\n",
              "      <td>2</td>\n",
              "      <td>1.0</td>\n",
              "      <td>2</td>\n",
              "      <td>51.0</td>\n",
              "      <td>0</td>\n",
              "    </tr>\n",
              "    <tr>\n",
              "      <th>12</th>\n",
              "      <td>12</td>\n",
              "      <td>13</td>\n",
              "      <td>2</td>\n",
              "      <td>2.0</td>\n",
              "      <td>2</td>\n",
              "      <td>41.0</td>\n",
              "      <td>0</td>\n",
              "    </tr>\n",
              "    <tr>\n",
              "      <th>13</th>\n",
              "      <td>13</td>\n",
              "      <td>14</td>\n",
              "      <td>Nan</td>\n",
              "      <td>2.0</td>\n",
              "      <td>2</td>\n",
              "      <td>30.0</td>\n",
              "      <td>1</td>\n",
              "    </tr>\n",
              "    <tr>\n",
              "      <th>14</th>\n",
              "      <td>14</td>\n",
              "      <td>15</td>\n",
              "      <td>1</td>\n",
              "      <td>1.0</td>\n",
              "      <td>2</td>\n",
              "      <td>29.0</td>\n",
              "      <td>0</td>\n",
              "    </tr>\n",
              "    <tr>\n",
              "      <th>15</th>\n",
              "      <td>15</td>\n",
              "      <td>16</td>\n",
              "      <td>2</td>\n",
              "      <td>3.0</td>\n",
              "      <td>3</td>\n",
              "      <td>23.0</td>\n",
              "      <td>0</td>\n",
              "    </tr>\n",
              "    <tr>\n",
              "      <th>16</th>\n",
              "      <td>16</td>\n",
              "      <td>17</td>\n",
              "      <td>1</td>\n",
              "      <td>1.0</td>\n",
              "      <td>2</td>\n",
              "      <td>24.0</td>\n",
              "      <td>1</td>\n",
              "    </tr>\n",
              "    <tr>\n",
              "      <th>17</th>\n",
              "      <td>17</td>\n",
              "      <td>18</td>\n",
              "      <td>1</td>\n",
              "      <td>1.0</td>\n",
              "      <td>1</td>\n",
              "      <td>49.0</td>\n",
              "      <td>0</td>\n",
              "    </tr>\n",
              "    <tr>\n",
              "      <th>18</th>\n",
              "      <td>18</td>\n",
              "      <td>19</td>\n",
              "      <td>Nan</td>\n",
              "      <td>1.0</td>\n",
              "      <td>1</td>\n",
              "      <td>49.0</td>\n",
              "      <td>0</td>\n",
              "    </tr>\n",
              "    <tr>\n",
              "      <th>19</th>\n",
              "      <td>19</td>\n",
              "      <td>20</td>\n",
              "      <td>2</td>\n",
              "      <td>1.0</td>\n",
              "      <td>2</td>\n",
              "      <td>29.0</td>\n",
              "      <td>0</td>\n",
              "    </tr>\n",
              "    <tr>\n",
              "      <th>20</th>\n",
              "      <td>20</td>\n",
              "      <td>21</td>\n",
              "      <td>2</td>\n",
              "      <td>3.0</td>\n",
              "      <td>2</td>\n",
              "      <td>39.0</td>\n",
              "      <td>0</td>\n",
              "    </tr>\n",
              "    <tr>\n",
              "      <th>21</th>\n",
              "      <td>21</td>\n",
              "      <td>22</td>\n",
              "      <td>2</td>\n",
              "      <td>2.0</td>\n",
              "      <td>1</td>\n",
              "      <td>39.0</td>\n",
              "      <td>1</td>\n",
              "    </tr>\n",
              "    <tr>\n",
              "      <th>22</th>\n",
              "      <td>22</td>\n",
              "      <td>23</td>\n",
              "      <td>Nan</td>\n",
              "      <td>2.0</td>\n",
              "      <td>2</td>\n",
              "      <td>26.0</td>\n",
              "      <td>1</td>\n",
              "    </tr>\n",
              "    <tr>\n",
              "      <th>23</th>\n",
              "      <td>23</td>\n",
              "      <td>24</td>\n",
              "      <td>2</td>\n",
              "      <td>1.0</td>\n",
              "      <td>1</td>\n",
              "      <td>40.0</td>\n",
              "      <td>1</td>\n",
              "    </tr>\n",
              "    <tr>\n",
              "      <th>24</th>\n",
              "      <td>24</td>\n",
              "      <td>25</td>\n",
              "      <td>Nan</td>\n",
              "      <td>1.0</td>\n",
              "      <td>2</td>\n",
              "      <td>23.0</td>\n",
              "      <td>0</td>\n",
              "    </tr>\n",
              "    <tr>\n",
              "      <th>25</th>\n",
              "      <td>25</td>\n",
              "      <td>26</td>\n",
              "      <td>1</td>\n",
              "      <td>3.0</td>\n",
              "      <td>2</td>\n",
              "      <td>NaN</td>\n",
              "      <td>0</td>\n",
              "    </tr>\n",
              "    <tr>\n",
              "      <th>26</th>\n",
              "      <td>26</td>\n",
              "      <td>27</td>\n",
              "      <td>1</td>\n",
              "      <td>NaN</td>\n",
              "      <td>2</td>\n",
              "      <td>27.0</td>\n",
              "      <td>1</td>\n",
              "    </tr>\n",
              "    <tr>\n",
              "      <th>27</th>\n",
              "      <td>27</td>\n",
              "      <td>28</td>\n",
              "      <td>2</td>\n",
              "      <td>NaN</td>\n",
              "      <td>2</td>\n",
              "      <td>30.0</td>\n",
              "      <td>0</td>\n",
              "    </tr>\n",
              "    <tr>\n",
              "      <th>28</th>\n",
              "      <td>28</td>\n",
              "      <td>29</td>\n",
              "      <td>2</td>\n",
              "      <td>3.0</td>\n",
              "      <td>1</td>\n",
              "      <td>47.0</td>\n",
              "      <td>0</td>\n",
              "    </tr>\n",
              "    <tr>\n",
              "      <th>29</th>\n",
              "      <td>29</td>\n",
              "      <td>30</td>\n",
              "      <td>1</td>\n",
              "      <td>1.0</td>\n",
              "      <td>2</td>\n",
              "      <td>26.0</td>\n",
              "      <td>0</td>\n",
              "    </tr>\n",
              "    <tr>\n",
              "      <th>30</th>\n",
              "      <td>30</td>\n",
              "      <td>31</td>\n",
              "      <td>2</td>\n",
              "      <td>1.0</td>\n",
              "      <td>2</td>\n",
              "      <td>NaN</td>\n",
              "      <td>0</td>\n",
              "    </tr>\n",
              "    <tr>\n",
              "      <th>31</th>\n",
              "      <td>31</td>\n",
              "      <td>32</td>\n",
              "      <td>1</td>\n",
              "      <td>2.0</td>\n",
              "      <td>2</td>\n",
              "      <td>33.0</td>\n",
              "      <td>1</td>\n",
              "    </tr>\n",
              "    <tr>\n",
              "      <th>32</th>\n",
              "      <td>32</td>\n",
              "      <td>33</td>\n",
              "      <td>1</td>\n",
              "      <td>1.0</td>\n",
              "      <td>2</td>\n",
              "      <td>32.0</td>\n",
              "      <td>0</td>\n",
              "    </tr>\n",
              "    <tr>\n",
              "      <th>33</th>\n",
              "      <td>33</td>\n",
              "      <td>34</td>\n",
              "      <td>2</td>\n",
              "      <td>2.0</td>\n",
              "      <td>1</td>\n",
              "      <td>NaN</td>\n",
              "      <td>0</td>\n",
              "    </tr>\n",
              "    <tr>\n",
              "      <th>34</th>\n",
              "      <td>34</td>\n",
              "      <td>35</td>\n",
              "      <td>1</td>\n",
              "      <td>1.0</td>\n",
              "      <td>1</td>\n",
              "      <td>58.0</td>\n",
              "      <td>0</td>\n",
              "    </tr>\n",
              "    <tr>\n",
              "      <th>35</th>\n",
              "      <td>35</td>\n",
              "      <td>36</td>\n",
              "      <td>1</td>\n",
              "      <td>1.0</td>\n",
              "      <td>2</td>\n",
              "      <td>30.0</td>\n",
              "      <td>0</td>\n",
              "    </tr>\n",
              "    <tr>\n",
              "      <th>36</th>\n",
              "      <td>36</td>\n",
              "      <td>37</td>\n",
              "      <td>Nan</td>\n",
              "      <td>2.0</td>\n",
              "      <td>1</td>\n",
              "      <td>40.0</td>\n",
              "      <td>0</td>\n",
              "    </tr>\n",
              "    <tr>\n",
              "      <th>37</th>\n",
              "      <td>37</td>\n",
              "      <td>38</td>\n",
              "      <td>2</td>\n",
              "      <td>NaN</td>\n",
              "      <td>2</td>\n",
              "      <td>22.0</td>\n",
              "      <td>0</td>\n",
              "    </tr>\n",
              "    <tr>\n",
              "      <th>38</th>\n",
              "      <td>38</td>\n",
              "      <td>39</td>\n",
              "      <td>1</td>\n",
              "      <td>1.0</td>\n",
              "      <td>2</td>\n",
              "      <td>25.0</td>\n",
              "      <td>1</td>\n",
              "    </tr>\n",
              "    <tr>\n",
              "      <th>39</th>\n",
              "      <td>39</td>\n",
              "      <td>40</td>\n",
              "      <td>1</td>\n",
              "      <td>1.0</td>\n",
              "      <td>2</td>\n",
              "      <td>31.0</td>\n",
              "      <td>0</td>\n",
              "    </tr>\n",
              "    <tr>\n",
              "      <th>40</th>\n",
              "      <td>40</td>\n",
              "      <td>41</td>\n",
              "      <td>1</td>\n",
              "      <td>1.0</td>\n",
              "      <td>2</td>\n",
              "      <td>33.0</td>\n",
              "      <td>0</td>\n",
              "    </tr>\n",
              "    <tr>\n",
              "      <th>41</th>\n",
              "      <td>41</td>\n",
              "      <td>42</td>\n",
              "      <td>2</td>\n",
              "      <td>1.0</td>\n",
              "      <td>2</td>\n",
              "      <td>25.0</td>\n",
              "      <td>0</td>\n",
              "    </tr>\n",
              "    <tr>\n",
              "      <th>42</th>\n",
              "      <td>42</td>\n",
              "      <td>43</td>\n",
              "      <td>1</td>\n",
              "      <td>2.0</td>\n",
              "      <td>2</td>\n",
              "      <td>NaN</td>\n",
              "      <td>0</td>\n",
              "    </tr>\n",
              "    <tr>\n",
              "      <th>43</th>\n",
              "      <td>43</td>\n",
              "      <td>44</td>\n",
              "      <td>2</td>\n",
              "      <td>2.0</td>\n",
              "      <td>1</td>\n",
              "      <td>NaN</td>\n",
              "      <td>0</td>\n",
              "    </tr>\n",
              "    <tr>\n",
              "      <th>44</th>\n",
              "      <td>44</td>\n",
              "      <td>45</td>\n",
              "      <td>2</td>\n",
              "      <td>1.0</td>\n",
              "      <td>2</td>\n",
              "      <td>30.0</td>\n",
              "      <td>0</td>\n",
              "    </tr>\n",
              "    <tr>\n",
              "      <th>45</th>\n",
              "      <td>45</td>\n",
              "      <td>46</td>\n",
              "      <td>1</td>\n",
              "      <td>1.0</td>\n",
              "      <td>2</td>\n",
              "      <td>29.0</td>\n",
              "      <td>1</td>\n",
              "    </tr>\n",
              "    <tr>\n",
              "      <th>46</th>\n",
              "      <td>46</td>\n",
              "      <td>47</td>\n",
              "      <td>2</td>\n",
              "      <td>1.0</td>\n",
              "      <td>2</td>\n",
              "      <td>22.0</td>\n",
              "      <td>1</td>\n",
              "    </tr>\n",
              "    <tr>\n",
              "      <th>47</th>\n",
              "      <td>47</td>\n",
              "      <td>48</td>\n",
              "      <td>2</td>\n",
              "      <td>NaN</td>\n",
              "      <td>2</td>\n",
              "      <td>46.0</td>\n",
              "      <td>1</td>\n",
              "    </tr>\n",
              "    <tr>\n",
              "      <th>48</th>\n",
              "      <td>48</td>\n",
              "      <td>49</td>\n",
              "      <td>1</td>\n",
              "      <td>2.0</td>\n",
              "      <td>2</td>\n",
              "      <td>32.0</td>\n",
              "      <td>0</td>\n",
              "    </tr>\n",
              "    <tr>\n",
              "      <th>49</th>\n",
              "      <td>49</td>\n",
              "      <td>50</td>\n",
              "      <td>Nan</td>\n",
              "      <td>1.0</td>\n",
              "      <td>2</td>\n",
              "      <td>24.0</td>\n",
              "      <td>0</td>\n",
              "    </tr>\n",
              "  </tbody>\n",
              "</table>\n",
              "</div>\n",
              "      <button class=\"colab-df-convert\" onclick=\"convertToInteractive('df-050bb1d7-88ce-414e-a86b-715a987336b7')\"\n",
              "              title=\"Convert this dataframe to an interactive table.\"\n",
              "              style=\"display:none;\">\n",
              "        \n",
              "  <svg xmlns=\"http://www.w3.org/2000/svg\" height=\"24px\"viewBox=\"0 0 24 24\"\n",
              "       width=\"24px\">\n",
              "    <path d=\"M0 0h24v24H0V0z\" fill=\"none\"/>\n",
              "    <path d=\"M18.56 5.44l.94 2.06.94-2.06 2.06-.94-2.06-.94-.94-2.06-.94 2.06-2.06.94zm-11 1L8.5 8.5l.94-2.06 2.06-.94-2.06-.94L8.5 2.5l-.94 2.06-2.06.94zm10 10l.94 2.06.94-2.06 2.06-.94-2.06-.94-.94-2.06-.94 2.06-2.06.94z\"/><path d=\"M17.41 7.96l-1.37-1.37c-.4-.4-.92-.59-1.43-.59-.52 0-1.04.2-1.43.59L10.3 9.45l-7.72 7.72c-.78.78-.78 2.05 0 2.83L4 21.41c.39.39.9.59 1.41.59.51 0 1.02-.2 1.41-.59l7.78-7.78 2.81-2.81c.8-.78.8-2.07 0-2.86zM5.41 20L4 18.59l7.72-7.72 1.47 1.35L5.41 20z\"/>\n",
              "  </svg>\n",
              "      </button>\n",
              "      \n",
              "  <style>\n",
              "    .colab-df-container {\n",
              "      display:flex;\n",
              "      flex-wrap:wrap;\n",
              "      gap: 12px;\n",
              "    }\n",
              "\n",
              "    .colab-df-convert {\n",
              "      background-color: #E8F0FE;\n",
              "      border: none;\n",
              "      border-radius: 50%;\n",
              "      cursor: pointer;\n",
              "      display: none;\n",
              "      fill: #1967D2;\n",
              "      height: 32px;\n",
              "      padding: 0 0 0 0;\n",
              "      width: 32px;\n",
              "    }\n",
              "\n",
              "    .colab-df-convert:hover {\n",
              "      background-color: #E2EBFA;\n",
              "      box-shadow: 0px 1px 2px rgba(60, 64, 67, 0.3), 0px 1px 3px 1px rgba(60, 64, 67, 0.15);\n",
              "      fill: #174EA6;\n",
              "    }\n",
              "\n",
              "    [theme=dark] .colab-df-convert {\n",
              "      background-color: #3B4455;\n",
              "      fill: #D2E3FC;\n",
              "    }\n",
              "\n",
              "    [theme=dark] .colab-df-convert:hover {\n",
              "      background-color: #434B5C;\n",
              "      box-shadow: 0px 1px 3px 1px rgba(0, 0, 0, 0.15);\n",
              "      filter: drop-shadow(0px 1px 2px rgba(0, 0, 0, 0.3));\n",
              "      fill: #FFFFFF;\n",
              "    }\n",
              "  </style>\n",
              "\n",
              "      <script>\n",
              "        const buttonEl =\n",
              "          document.querySelector('#df-050bb1d7-88ce-414e-a86b-715a987336b7 button.colab-df-convert');\n",
              "        buttonEl.style.display =\n",
              "          google.colab.kernel.accessAllowed ? 'block' : 'none';\n",
              "\n",
              "        async function convertToInteractive(key) {\n",
              "          const element = document.querySelector('#df-050bb1d7-88ce-414e-a86b-715a987336b7');\n",
              "          const dataTable =\n",
              "            await google.colab.kernel.invokeFunction('convertToInteractive',\n",
              "                                                     [key], {});\n",
              "          if (!dataTable) return;\n",
              "\n",
              "          const docLinkHtml = 'Like what you see? Visit the ' +\n",
              "            '<a target=\"_blank\" href=https://colab.research.google.com/notebooks/data_table.ipynb>data table notebook</a>'\n",
              "            + ' to learn more about interactive tables.';\n",
              "          element.innerHTML = '';\n",
              "          dataTable['output_type'] = 'display_data';\n",
              "          await google.colab.output.renderOutput(dataTable, element);\n",
              "          const docLink = document.createElement('div');\n",
              "          docLink.innerHTML = docLinkHtml;\n",
              "          element.appendChild(docLink);\n",
              "        }\n",
              "      </script>\n",
              "    </div>\n",
              "  </div>\n",
              "  "
            ]
          },
          "metadata": {},
          "execution_count": 23
        }
      ]
    },
    {
      "cell_type": "code",
      "source": [
        "dfPayNM.dtypes"
      ],
      "metadata": {
        "id": "DHE4NkDcA7vu",
        "colab": {
          "base_uri": "https://localhost:8080/"
        },
        "outputId": "474dc548-861f-46de-cc45-d403e12b88a7"
      },
      "execution_count": 24,
      "outputs": [
        {
          "output_type": "execute_result",
          "data": {
            "text/plain": [
              "Unnamed: 0                      int64\n",
              "ID                              int64\n",
              "SEX                            object\n",
              "EDUCATION                     float64\n",
              "MARRIAGE                        int64\n",
              "AGE                           float64\n",
              "default.payment.next.month      int64\n",
              "dtype: object"
            ]
          },
          "metadata": {},
          "execution_count": 24
        }
      ]
    },
    {
      "cell_type": "code",
      "source": [
        "dfPayNM.columns"
      ],
      "metadata": {
        "id": "ApbfrvosBDA2",
        "colab": {
          "base_uri": "https://localhost:8080/"
        },
        "outputId": "a7b70f7f-bb08-4626-9b95-cac44a5347dc"
      },
      "execution_count": 25,
      "outputs": [
        {
          "output_type": "execute_result",
          "data": {
            "text/plain": [
              "Index(['Unnamed: 0', 'ID', 'SEX', 'EDUCATION', 'MARRIAGE', 'AGE',\n",
              "       'default.payment.next.month'],\n",
              "      dtype='object')"
            ]
          },
          "metadata": {},
          "execution_count": 25
        }
      ]
    },
    {
      "cell_type": "code",
      "source": [
        "dfPayNM.describe(include=['object'])"
      ],
      "metadata": {
        "id": "-TDLYCUAID5u",
        "colab": {
          "base_uri": "https://localhost:8080/",
          "height": 0
        },
        "outputId": "58fd372a-20d8-4ffe-8cf0-558e4bd3f01e"
      },
      "execution_count": 26,
      "outputs": [
        {
          "output_type": "execute_result",
          "data": {
            "text/plain": [
              "       SEX\n",
              "count   50\n",
              "unique   3\n",
              "top      2\n",
              "freq    24"
            ],
            "text/html": [
              "\n",
              "  <div id=\"df-923218d2-1e07-4d89-ba36-1020cf25ec32\">\n",
              "    <div class=\"colab-df-container\">\n",
              "      <div>\n",
              "<style scoped>\n",
              "    .dataframe tbody tr th:only-of-type {\n",
              "        vertical-align: middle;\n",
              "    }\n",
              "\n",
              "    .dataframe tbody tr th {\n",
              "        vertical-align: top;\n",
              "    }\n",
              "\n",
              "    .dataframe thead th {\n",
              "        text-align: right;\n",
              "    }\n",
              "</style>\n",
              "<table border=\"1\" class=\"dataframe\">\n",
              "  <thead>\n",
              "    <tr style=\"text-align: right;\">\n",
              "      <th></th>\n",
              "      <th>SEX</th>\n",
              "    </tr>\n",
              "  </thead>\n",
              "  <tbody>\n",
              "    <tr>\n",
              "      <th>count</th>\n",
              "      <td>50</td>\n",
              "    </tr>\n",
              "    <tr>\n",
              "      <th>unique</th>\n",
              "      <td>3</td>\n",
              "    </tr>\n",
              "    <tr>\n",
              "      <th>top</th>\n",
              "      <td>2</td>\n",
              "    </tr>\n",
              "    <tr>\n",
              "      <th>freq</th>\n",
              "      <td>24</td>\n",
              "    </tr>\n",
              "  </tbody>\n",
              "</table>\n",
              "</div>\n",
              "      <button class=\"colab-df-convert\" onclick=\"convertToInteractive('df-923218d2-1e07-4d89-ba36-1020cf25ec32')\"\n",
              "              title=\"Convert this dataframe to an interactive table.\"\n",
              "              style=\"display:none;\">\n",
              "        \n",
              "  <svg xmlns=\"http://www.w3.org/2000/svg\" height=\"24px\"viewBox=\"0 0 24 24\"\n",
              "       width=\"24px\">\n",
              "    <path d=\"M0 0h24v24H0V0z\" fill=\"none\"/>\n",
              "    <path d=\"M18.56 5.44l.94 2.06.94-2.06 2.06-.94-2.06-.94-.94-2.06-.94 2.06-2.06.94zm-11 1L8.5 8.5l.94-2.06 2.06-.94-2.06-.94L8.5 2.5l-.94 2.06-2.06.94zm10 10l.94 2.06.94-2.06 2.06-.94-2.06-.94-.94-2.06-.94 2.06-2.06.94z\"/><path d=\"M17.41 7.96l-1.37-1.37c-.4-.4-.92-.59-1.43-.59-.52 0-1.04.2-1.43.59L10.3 9.45l-7.72 7.72c-.78.78-.78 2.05 0 2.83L4 21.41c.39.39.9.59 1.41.59.51 0 1.02-.2 1.41-.59l7.78-7.78 2.81-2.81c.8-.78.8-2.07 0-2.86zM5.41 20L4 18.59l7.72-7.72 1.47 1.35L5.41 20z\"/>\n",
              "  </svg>\n",
              "      </button>\n",
              "      \n",
              "  <style>\n",
              "    .colab-df-container {\n",
              "      display:flex;\n",
              "      flex-wrap:wrap;\n",
              "      gap: 12px;\n",
              "    }\n",
              "\n",
              "    .colab-df-convert {\n",
              "      background-color: #E8F0FE;\n",
              "      border: none;\n",
              "      border-radius: 50%;\n",
              "      cursor: pointer;\n",
              "      display: none;\n",
              "      fill: #1967D2;\n",
              "      height: 32px;\n",
              "      padding: 0 0 0 0;\n",
              "      width: 32px;\n",
              "    }\n",
              "\n",
              "    .colab-df-convert:hover {\n",
              "      background-color: #E2EBFA;\n",
              "      box-shadow: 0px 1px 2px rgba(60, 64, 67, 0.3), 0px 1px 3px 1px rgba(60, 64, 67, 0.15);\n",
              "      fill: #174EA6;\n",
              "    }\n",
              "\n",
              "    [theme=dark] .colab-df-convert {\n",
              "      background-color: #3B4455;\n",
              "      fill: #D2E3FC;\n",
              "    }\n",
              "\n",
              "    [theme=dark] .colab-df-convert:hover {\n",
              "      background-color: #434B5C;\n",
              "      box-shadow: 0px 1px 3px 1px rgba(0, 0, 0, 0.15);\n",
              "      filter: drop-shadow(0px 1px 2px rgba(0, 0, 0, 0.3));\n",
              "      fill: #FFFFFF;\n",
              "    }\n",
              "  </style>\n",
              "\n",
              "      <script>\n",
              "        const buttonEl =\n",
              "          document.querySelector('#df-923218d2-1e07-4d89-ba36-1020cf25ec32 button.colab-df-convert');\n",
              "        buttonEl.style.display =\n",
              "          google.colab.kernel.accessAllowed ? 'block' : 'none';\n",
              "\n",
              "        async function convertToInteractive(key) {\n",
              "          const element = document.querySelector('#df-923218d2-1e07-4d89-ba36-1020cf25ec32');\n",
              "          const dataTable =\n",
              "            await google.colab.kernel.invokeFunction('convertToInteractive',\n",
              "                                                     [key], {});\n",
              "          if (!dataTable) return;\n",
              "\n",
              "          const docLinkHtml = 'Like what you see? Visit the ' +\n",
              "            '<a target=\"_blank\" href=https://colab.research.google.com/notebooks/data_table.ipynb>data table notebook</a>'\n",
              "            + ' to learn more about interactive tables.';\n",
              "          element.innerHTML = '';\n",
              "          dataTable['output_type'] = 'display_data';\n",
              "          await google.colab.output.renderOutput(dataTable, element);\n",
              "          const docLink = document.createElement('div');\n",
              "          docLink.innerHTML = docLinkHtml;\n",
              "          element.appendChild(docLink);\n",
              "        }\n",
              "      </script>\n",
              "    </div>\n",
              "  </div>\n",
              "  "
            ]
          },
          "metadata": {},
          "execution_count": 26
        }
      ]
    },
    {
      "cell_type": "code",
      "source": [
        "dfPayNM.describe(include=[np.number])"
      ],
      "metadata": {
        "id": "TujYSa5bIIMC",
        "colab": {
          "base_uri": "https://localhost:8080/",
          "height": 0
        },
        "outputId": "bc47ca0b-fa47-41c4-8abd-0d0314ab22cf"
      },
      "execution_count": 27,
      "outputs": [
        {
          "output_type": "execute_result",
          "data": {
            "text/plain": [
              "       Unnamed: 0        ID  EDUCATION   MARRIAGE        AGE  \\\n",
              "count    50.00000  50.00000  44.000000  50.000000  44.000000   \n",
              "mean     24.50000  25.50000   1.659091   1.760000  33.272727   \n",
              "std      14.57738  14.57738   0.745317   0.476381   9.519536   \n",
              "min       0.00000   1.00000   1.000000   1.000000  22.000000   \n",
              "25%      12.25000  13.25000   1.000000   1.250000  26.000000   \n",
              "50%      24.50000  25.50000   1.500000   2.000000  30.000000   \n",
              "75%      36.75000  37.75000   2.000000   2.000000  39.000000   \n",
              "max      49.00000  50.00000   3.000000   3.000000  58.000000   \n",
              "\n",
              "       default.payment.next.month  \n",
              "count                   50.000000  \n",
              "mean                     0.260000  \n",
              "std                      0.443087  \n",
              "min                      0.000000  \n",
              "25%                      0.000000  \n",
              "50%                      0.000000  \n",
              "75%                      0.750000  \n",
              "max                      1.000000  "
            ],
            "text/html": [
              "\n",
              "  <div id=\"df-73d54a9a-7df2-49a6-b87c-6840dddbe679\">\n",
              "    <div class=\"colab-df-container\">\n",
              "      <div>\n",
              "<style scoped>\n",
              "    .dataframe tbody tr th:only-of-type {\n",
              "        vertical-align: middle;\n",
              "    }\n",
              "\n",
              "    .dataframe tbody tr th {\n",
              "        vertical-align: top;\n",
              "    }\n",
              "\n",
              "    .dataframe thead th {\n",
              "        text-align: right;\n",
              "    }\n",
              "</style>\n",
              "<table border=\"1\" class=\"dataframe\">\n",
              "  <thead>\n",
              "    <tr style=\"text-align: right;\">\n",
              "      <th></th>\n",
              "      <th>Unnamed: 0</th>\n",
              "      <th>ID</th>\n",
              "      <th>EDUCATION</th>\n",
              "      <th>MARRIAGE</th>\n",
              "      <th>AGE</th>\n",
              "      <th>default.payment.next.month</th>\n",
              "    </tr>\n",
              "  </thead>\n",
              "  <tbody>\n",
              "    <tr>\n",
              "      <th>count</th>\n",
              "      <td>50.00000</td>\n",
              "      <td>50.00000</td>\n",
              "      <td>44.000000</td>\n",
              "      <td>50.000000</td>\n",
              "      <td>44.000000</td>\n",
              "      <td>50.000000</td>\n",
              "    </tr>\n",
              "    <tr>\n",
              "      <th>mean</th>\n",
              "      <td>24.50000</td>\n",
              "      <td>25.50000</td>\n",
              "      <td>1.659091</td>\n",
              "      <td>1.760000</td>\n",
              "      <td>33.272727</td>\n",
              "      <td>0.260000</td>\n",
              "    </tr>\n",
              "    <tr>\n",
              "      <th>std</th>\n",
              "      <td>14.57738</td>\n",
              "      <td>14.57738</td>\n",
              "      <td>0.745317</td>\n",
              "      <td>0.476381</td>\n",
              "      <td>9.519536</td>\n",
              "      <td>0.443087</td>\n",
              "    </tr>\n",
              "    <tr>\n",
              "      <th>min</th>\n",
              "      <td>0.00000</td>\n",
              "      <td>1.00000</td>\n",
              "      <td>1.000000</td>\n",
              "      <td>1.000000</td>\n",
              "      <td>22.000000</td>\n",
              "      <td>0.000000</td>\n",
              "    </tr>\n",
              "    <tr>\n",
              "      <th>25%</th>\n",
              "      <td>12.25000</td>\n",
              "      <td>13.25000</td>\n",
              "      <td>1.000000</td>\n",
              "      <td>1.250000</td>\n",
              "      <td>26.000000</td>\n",
              "      <td>0.000000</td>\n",
              "    </tr>\n",
              "    <tr>\n",
              "      <th>50%</th>\n",
              "      <td>24.50000</td>\n",
              "      <td>25.50000</td>\n",
              "      <td>1.500000</td>\n",
              "      <td>2.000000</td>\n",
              "      <td>30.000000</td>\n",
              "      <td>0.000000</td>\n",
              "    </tr>\n",
              "    <tr>\n",
              "      <th>75%</th>\n",
              "      <td>36.75000</td>\n",
              "      <td>37.75000</td>\n",
              "      <td>2.000000</td>\n",
              "      <td>2.000000</td>\n",
              "      <td>39.000000</td>\n",
              "      <td>0.750000</td>\n",
              "    </tr>\n",
              "    <tr>\n",
              "      <th>max</th>\n",
              "      <td>49.00000</td>\n",
              "      <td>50.00000</td>\n",
              "      <td>3.000000</td>\n",
              "      <td>3.000000</td>\n",
              "      <td>58.000000</td>\n",
              "      <td>1.000000</td>\n",
              "    </tr>\n",
              "  </tbody>\n",
              "</table>\n",
              "</div>\n",
              "      <button class=\"colab-df-convert\" onclick=\"convertToInteractive('df-73d54a9a-7df2-49a6-b87c-6840dddbe679')\"\n",
              "              title=\"Convert this dataframe to an interactive table.\"\n",
              "              style=\"display:none;\">\n",
              "        \n",
              "  <svg xmlns=\"http://www.w3.org/2000/svg\" height=\"24px\"viewBox=\"0 0 24 24\"\n",
              "       width=\"24px\">\n",
              "    <path d=\"M0 0h24v24H0V0z\" fill=\"none\"/>\n",
              "    <path d=\"M18.56 5.44l.94 2.06.94-2.06 2.06-.94-2.06-.94-.94-2.06-.94 2.06-2.06.94zm-11 1L8.5 8.5l.94-2.06 2.06-.94-2.06-.94L8.5 2.5l-.94 2.06-2.06.94zm10 10l.94 2.06.94-2.06 2.06-.94-2.06-.94-.94-2.06-.94 2.06-2.06.94z\"/><path d=\"M17.41 7.96l-1.37-1.37c-.4-.4-.92-.59-1.43-.59-.52 0-1.04.2-1.43.59L10.3 9.45l-7.72 7.72c-.78.78-.78 2.05 0 2.83L4 21.41c.39.39.9.59 1.41.59.51 0 1.02-.2 1.41-.59l7.78-7.78 2.81-2.81c.8-.78.8-2.07 0-2.86zM5.41 20L4 18.59l7.72-7.72 1.47 1.35L5.41 20z\"/>\n",
              "  </svg>\n",
              "      </button>\n",
              "      \n",
              "  <style>\n",
              "    .colab-df-container {\n",
              "      display:flex;\n",
              "      flex-wrap:wrap;\n",
              "      gap: 12px;\n",
              "    }\n",
              "\n",
              "    .colab-df-convert {\n",
              "      background-color: #E8F0FE;\n",
              "      border: none;\n",
              "      border-radius: 50%;\n",
              "      cursor: pointer;\n",
              "      display: none;\n",
              "      fill: #1967D2;\n",
              "      height: 32px;\n",
              "      padding: 0 0 0 0;\n",
              "      width: 32px;\n",
              "    }\n",
              "\n",
              "    .colab-df-convert:hover {\n",
              "      background-color: #E2EBFA;\n",
              "      box-shadow: 0px 1px 2px rgba(60, 64, 67, 0.3), 0px 1px 3px 1px rgba(60, 64, 67, 0.15);\n",
              "      fill: #174EA6;\n",
              "    }\n",
              "\n",
              "    [theme=dark] .colab-df-convert {\n",
              "      background-color: #3B4455;\n",
              "      fill: #D2E3FC;\n",
              "    }\n",
              "\n",
              "    [theme=dark] .colab-df-convert:hover {\n",
              "      background-color: #434B5C;\n",
              "      box-shadow: 0px 1px 3px 1px rgba(0, 0, 0, 0.15);\n",
              "      filter: drop-shadow(0px 1px 2px rgba(0, 0, 0, 0.3));\n",
              "      fill: #FFFFFF;\n",
              "    }\n",
              "  </style>\n",
              "\n",
              "      <script>\n",
              "        const buttonEl =\n",
              "          document.querySelector('#df-73d54a9a-7df2-49a6-b87c-6840dddbe679 button.colab-df-convert');\n",
              "        buttonEl.style.display =\n",
              "          google.colab.kernel.accessAllowed ? 'block' : 'none';\n",
              "\n",
              "        async function convertToInteractive(key) {\n",
              "          const element = document.querySelector('#df-73d54a9a-7df2-49a6-b87c-6840dddbe679');\n",
              "          const dataTable =\n",
              "            await google.colab.kernel.invokeFunction('convertToInteractive',\n",
              "                                                     [key], {});\n",
              "          if (!dataTable) return;\n",
              "\n",
              "          const docLinkHtml = 'Like what you see? Visit the ' +\n",
              "            '<a target=\"_blank\" href=https://colab.research.google.com/notebooks/data_table.ipynb>data table notebook</a>'\n",
              "            + ' to learn more about interactive tables.';\n",
              "          element.innerHTML = '';\n",
              "          dataTable['output_type'] = 'display_data';\n",
              "          await google.colab.output.renderOutput(dataTable, element);\n",
              "          const docLink = document.createElement('div');\n",
              "          docLink.innerHTML = docLinkHtml;\n",
              "          element.appendChild(docLink);\n",
              "        }\n",
              "      </script>\n",
              "    </div>\n",
              "  </div>\n",
              "  "
            ]
          },
          "metadata": {},
          "execution_count": 27
        }
      ]
    },
    {
      "cell_type": "code",
      "source": [
        "dfPayNM.count()"
      ],
      "metadata": {
        "id": "OAVTxfLQBMFY",
        "colab": {
          "base_uri": "https://localhost:8080/"
        },
        "outputId": "50b2eac3-0620-4a15-af87-03ef210897e6"
      },
      "execution_count": 28,
      "outputs": [
        {
          "output_type": "execute_result",
          "data": {
            "text/plain": [
              "Unnamed: 0                    50\n",
              "ID                            50\n",
              "SEX                           50\n",
              "EDUCATION                     44\n",
              "MARRIAGE                      50\n",
              "AGE                           44\n",
              "default.payment.next.month    50\n",
              "dtype: int64"
            ]
          },
          "metadata": {},
          "execution_count": 28
        }
      ]
    },
    {
      "cell_type": "code",
      "source": [
        "dfPayNM.nunique()"
      ],
      "metadata": {
        "id": "y7RNQ43ECXtS",
        "colab": {
          "base_uri": "https://localhost:8080/"
        },
        "outputId": "8303d774-df4b-4b33-be0e-67f4c6a87410"
      },
      "execution_count": 29,
      "outputs": [
        {
          "output_type": "execute_result",
          "data": {
            "text/plain": [
              "Unnamed: 0                    50\n",
              "ID                            50\n",
              "SEX                            3\n",
              "EDUCATION                      3\n",
              "MARRIAGE                       3\n",
              "AGE                           24\n",
              "default.payment.next.month     2\n",
              "dtype: int64"
            ]
          },
          "metadata": {},
          "execution_count": 29
        }
      ]
    },
    {
      "cell_type": "code",
      "source": [
        "dfPayNM.sort_values(\"ID\", inplace=True)"
      ],
      "metadata": {
        "id": "kJnfjwlkkEDT"
      },
      "execution_count": 30,
      "outputs": []
    },
    {
      "cell_type": "markdown",
      "source": [
        "En esta base, según la función nunique no hay registros repetidos, de 50 registros hay 50 ids unicos"
      ],
      "metadata": {
        "id": "ac1636UPCQHn"
      }
    },
    {
      "cell_type": "code",
      "source": [
        "pd.isna(dfPayNM).sum()"
      ],
      "metadata": {
        "id": "bupcLNOADcqm",
        "colab": {
          "base_uri": "https://localhost:8080/"
        },
        "outputId": "d7fe12f6-f77b-4e7a-e5ad-3cc347a8dbd0"
      },
      "execution_count": 31,
      "outputs": [
        {
          "output_type": "execute_result",
          "data": {
            "text/plain": [
              "Unnamed: 0                    0\n",
              "ID                            0\n",
              "SEX                           0\n",
              "EDUCATION                     6\n",
              "MARRIAGE                      0\n",
              "AGE                           6\n",
              "default.payment.next.month    0\n",
              "dtype: int64"
            ]
          },
          "metadata": {},
          "execution_count": 31
        }
      ]
    },
    {
      "cell_type": "markdown",
      "source": [
        "# **Las cuatro fuentes de información serán usadas para crear la base única de información. Los motivos son:**\n",
        "\n",
        "En la **primera fuente: BillATM.csv** -> se encuentran los datos del BILL_AMT1 al BILL_AMT6 necesarios.\n",
        "\n",
        "En la **segunda fuente: Pay.csv** -> se encuentran los datos del PAY_0 al PAY_6 necesarios.\n",
        "\n",
        "En la **tercera fuente: PayATM.csv** -> se encuentran los datos del PAY_AMT1 al PAY_AMT6 necesarios. \n",
        "\n",
        "En la **cuarta fuente: PayNextMonth.csv** -> se encuentra el dato default.payment.next.month y el dato MARRIAGE el cual no existe en las otras tres fuentes.\n",
        "\n",
        "**Sobre el dato SEX**, existe en la primera y cuarta fuente.\n",
        "\n",
        "**Sobre el dato LIMIT_BAL**, existente en la primera, segunda y tercera fuente, lo seleccionaré de la primera fuente, ya que de las tres fuentes se obtiene la misma información.\n",
        "\n",
        "**Sobre el dato AGE**, existente en la segunda y cuarta fuente, lo seleccionaré de la segunda fuente, que no tiene valores vacíos como en la cuarta que existen 6 registros con la edad en vacío.\n",
        "\n",
        "**Sobre el dato EDUCATION**, existente en la tercera y cuarta fuente, lo seleccionaré de la tercera fuente, que no tiene valores vacíos como en la cuarta que existen 6 registros con el dato educación en vacío.\n",
        "\n",
        "**Sobre el dato MARRIAGE**, lo seleccionaré de la cuarta fuente por ser la única donde existe este dato."
      ],
      "metadata": {
        "id": "B0EeEDUjFFhW"
      }
    },
    {
      "cell_type": "markdown",
      "source": [
        "# **Antes de unir las bases, procedo a eliminar los registros duplicados en las tres primeras bases de información y la columna no necesaria 'Unnamed: 0'**"
      ],
      "metadata": {
        "id": "J13ChnQOUAAO"
      }
    },
    {
      "cell_type": "markdown",
      "source": [
        "Primera fuente BillATM"
      ],
      "metadata": {
        "id": "KOGbURThaWjR"
      }
    },
    {
      "cell_type": "code",
      "source": [
        "dfBillATM"
      ],
      "metadata": {
        "id": "VYMu8ddRWy5v"
      },
      "execution_count": null,
      "outputs": []
    },
    {
      "cell_type": "code",
      "source": [
        "dfBillATM = dfBillATM.drop([15])"
      ],
      "metadata": {
        "id": "DAjrWmoyY21n"
      },
      "execution_count": 32,
      "outputs": []
    },
    {
      "cell_type": "code",
      "source": [
        "dfBillATM = dfBillATM.drop([35])"
      ],
      "metadata": {
        "id": "_AbHtOSEY6-X"
      },
      "execution_count": 33,
      "outputs": []
    },
    {
      "cell_type": "code",
      "source": [
        "dfBillATM.count()"
      ],
      "metadata": {
        "id": "3o3Y2r7RY9Gz"
      },
      "execution_count": null,
      "outputs": []
    },
    {
      "cell_type": "code",
      "source": [
        "dfBillATM"
      ],
      "metadata": {
        "id": "gx9wuDZSZCyH"
      },
      "execution_count": null,
      "outputs": []
    },
    {
      "cell_type": "code",
      "source": [
        "dfBillATM.columns"
      ],
      "metadata": {
        "colab": {
          "base_uri": "https://localhost:8080/"
        },
        "id": "D31Nj5RdiL1v",
        "outputId": "828dcad5-96c9-4cb9-dec3-02fbb7fa5aa5"
      },
      "execution_count": 45,
      "outputs": [
        {
          "output_type": "execute_result",
          "data": {
            "text/plain": [
              "Index(['Unnamed: 0', 'ID', 'LIMIT_BAL', 'SEX', 'BILL_AMT1', 'BILL_AMT2',\n",
              "       'BILL_AMT3', 'BILL_AMT4', 'BILL_AMT5', 'BILL_AMT6'],\n",
              "      dtype='object')"
            ]
          },
          "metadata": {},
          "execution_count": 45
        }
      ]
    },
    {
      "cell_type": "code",
      "source": [
        "dfBillATM = dfBillATM.drop(['Unnamed: 0'], axis = 1)"
      ],
      "metadata": {
        "id": "hG7b3RzYiUWr"
      },
      "execution_count": 34,
      "outputs": []
    },
    {
      "cell_type": "markdown",
      "source": [
        "Segunda fuente Pay"
      ],
      "metadata": {
        "id": "tk_j7LAVacBy"
      }
    },
    {
      "cell_type": "code",
      "source": [
        "dfPay.sort_values(\"ID\", inplace=True)\n",
        "dfPay"
      ],
      "metadata": {
        "id": "7oJzbGRYZf-u"
      },
      "execution_count": null,
      "outputs": []
    },
    {
      "cell_type": "code",
      "source": [
        "dfPay = dfPay.drop([10])"
      ],
      "metadata": {
        "id": "wQYDv_YbZ0N-"
      },
      "execution_count": 35,
      "outputs": []
    },
    {
      "cell_type": "code",
      "source": [
        "dfPay = dfPay.drop([51])"
      ],
      "metadata": {
        "id": "bxCENu5OZ4vH"
      },
      "execution_count": 36,
      "outputs": []
    },
    {
      "cell_type": "code",
      "source": [
        "dfPay.nunique()"
      ],
      "metadata": {
        "id": "usV90n_YaGL_"
      },
      "execution_count": null,
      "outputs": []
    },
    {
      "cell_type": "code",
      "source": [
        "dfPay.count()"
      ],
      "metadata": {
        "id": "f46gFoyTaRFW"
      },
      "execution_count": null,
      "outputs": []
    },
    {
      "cell_type": "code",
      "source": [
        "dfPay.columns"
      ],
      "metadata": {
        "id": "rsnhPxQ-irAu",
        "colab": {
          "base_uri": "https://localhost:8080/"
        },
        "outputId": "f903a420-b2d9-4af8-b8f9-fc77fd35472a"
      },
      "execution_count": 50,
      "outputs": [
        {
          "output_type": "execute_result",
          "data": {
            "text/plain": [
              "Index(['Unnamed: 0', 'ID', 'LIMIT_BAL', 'AGE', 'PAY_0', 'PAY_2', 'PAY_3',\n",
              "       'PAY_4', 'PAY_5', 'PAY_6'],\n",
              "      dtype='object')"
            ]
          },
          "metadata": {},
          "execution_count": 50
        }
      ]
    },
    {
      "cell_type": "code",
      "source": [
        "dfPay = dfPay.drop(['Unnamed: 0'], axis = 1)"
      ],
      "metadata": {
        "id": "9HUhukvKiqc4"
      },
      "execution_count": 38,
      "outputs": []
    },
    {
      "cell_type": "markdown",
      "source": [
        "Tercera fuente PayATM"
      ],
      "metadata": {
        "id": "BzWuFeDRaf-P"
      }
    },
    {
      "cell_type": "code",
      "source": [
        "dfPayATM.sort_values(\"ID\", inplace=True)\n",
        "dfPayATM"
      ],
      "metadata": {
        "id": "o2cGq0zrbOWe",
        "colab": {
          "base_uri": "https://localhost:8080/",
          "height": 1000
        },
        "outputId": "cab6e00e-6483-46d0-fd3e-47aa9bd903db"
      },
      "execution_count": 39,
      "outputs": [
        {
          "output_type": "execute_result",
          "data": {
            "text/plain": [
              "    Unnamed: 0  ID LIMIT_BAL EDUCATION  PAY_AMT1  PAY_AMT2  PAY_AMT3  \\\n",
              "0            0   1   20000.0         2       0.0     689.0       0.0   \n",
              "35          35   1   20000.0         2       0.0     689.0       0.0   \n",
              "1            1   2  120000.0         2       0.0    1000.0    1000.0   \n",
              "2            2   3   90000.0      Null    1518.0    1500.0    1000.0   \n",
              "3            3   4         -         2    2000.0    2019.0    1200.0   \n",
              "45          45   4         -         2    2000.0    2019.0    1200.0   \n",
              "4            4   5   50000.0         2    2000.0   36681.0   10000.0   \n",
              "5            5   6   50000.0         1    2500.0    1815.0     657.0   \n",
              "6            6   7         -         1   55000.0   40000.0   38000.0   \n",
              "7            7   8  100000.0         2     380.0     601.0       0.0   \n",
              "8            8   9  140000.0         3    3329.0       0.0     432.0   \n",
              "9            9  10   20000.0      Null       0.0       0.0       0.0   \n",
              "10          10  11  200000.0         3    2306.0      12.0      50.0   \n",
              "11          11  12  260000.0         1   21818.0    9966.0    8583.0   \n",
              "12          12  13  630000.0      Null    1000.0    6500.0    6500.0   \n",
              "13          13  14   70000.0         2    3200.0       0.0    3000.0   \n",
              "14          14  15  250000.0         1    3000.0    3000.0    3000.0   \n",
              "15          15  16   50000.0         3       0.0    1500.0    1100.0   \n",
              "16          16  17   20000.0         1    3200.0       0.0    1500.0   \n",
              "17          17  18  320000.0         1   10358.0   10000.0   75940.0   \n",
              "18          18  19  360000.0         1       0.0       0.0       0.0   \n",
              "19          19  20  180000.0         1       0.0       0.0       0.0   \n",
              "20          20  21  130000.0         3    3000.0    1537.0    1000.0   \n",
              "21          21  22  120000.0         2     316.0     316.0       0.0   \n",
              "22          22  23   70000.0         2    2007.0    3582.0       0.0   \n",
              "23          23  24  450000.0      Null   19428.0    1473.0     560.0   \n",
              "24          24  25   90000.0         1    5757.0       0.0    5398.0   \n",
              "25          25  26   50000.0         3    1973.0    1426.0    1001.0   \n",
              "26          26  27         -         1       0.0    1000.0       0.0   \n",
              "27          27  28         -         3    1300.0    1300.0    1000.0   \n",
              "28          28  29   50000.0         3    3415.0    3421.0    2044.0   \n",
              "29          29  30   50000.0         1    1500.0    1500.0    1000.0   \n",
              "30          30  31  230000.0         1   17270.0   13281.0   15339.0   \n",
              "31          31  32   50000.0         2    1718.0    1500.0    1000.0   \n",
              "32          32  33  100000.0      Null    3023.0    3511.0    3302.0   \n",
              "33          33  34  500000.0         2    4152.0   22827.0    7521.0   \n",
              "34          34  35  500000.0         1    5006.0   31178.0    3180.0   \n",
              "50          50  36  160000.0         1     131.0     396.0     396.0   \n",
              "36          36  37  280000.0         2    8026.0    8060.0    6300.0   \n",
              "37          37  38         -         2    1500.0    1518.0    2043.0   \n",
              "38          38  39   50000.0         1     780.0       0.0       0.0   \n",
              "39          39  40  280000.0         1    9075.0       0.0    9976.0   \n",
              "40          40  41  360000.0         1   10000.0    7000.0    6000.0   \n",
              "41          41  42   70000.0      Null    3000.0    4500.0    4042.0   \n",
              "42          42  43   10000.0         2    1500.0    2927.0    1000.0   \n",
              "43          43  44  140000.0      Null    3000.0    3000.0    3000.0   \n",
              "44          44  45   40000.0         1    3000.0    5000.0       0.0   \n",
              "51          51  46  210000.0         1       0.0       0.0       0.0   \n",
              "46          46  47   20000.0         1    3000.0       0.0   16741.0   \n",
              "47          47  48         -         5    1013.0    1170.0       0.0   \n",
              "48          48  49  380000.0         2   21540.0   15138.0   24677.0   \n",
              "49          49  50   20000.0         1    1318.0    1315.0     704.0   \n",
              "\n",
              "    PAY_AMT4  PAY_AMT5  PAY_AMT6  \n",
              "0        0.0       0.0       0.0  \n",
              "35       0.0       0.0       0.0  \n",
              "1     1000.0       0.0    2000.0  \n",
              "2     1000.0    1000.0    5000.0  \n",
              "3     1100.0    1069.0    1000.0  \n",
              "45    1100.0    1069.0    1000.0  \n",
              "4     9000.0     689.0     679.0  \n",
              "5     1000.0    1000.0     800.0  \n",
              "6    20239.0   13750.0   13770.0  \n",
              "7      581.0    1687.0    1542.0  \n",
              "8     1000.0    1000.0    1000.0  \n",
              "9    13007.0    1122.0       0.0  \n",
              "10     300.0    3738.0      66.0  \n",
              "11   22301.0       0.0    3640.0  \n",
              "12    6500.0    2870.0       0.0  \n",
              "13    3000.0    1500.0       0.0  \n",
              "14    3000.0    3000.0    3000.0  \n",
              "15    1200.0    1300.0    1100.0  \n",
              "16       0.0    1650.0       0.0  \n",
              "17   20000.0  195599.0   50000.0  \n",
              "18       0.0       0.0       0.0  \n",
              "19       0.0       0.0       0.0  \n",
              "20    2000.0     930.0   33764.0  \n",
              "21     632.0     316.0       0.0  \n",
              "22    3601.0       0.0    1820.0  \n",
              "23       0.0       0.0    1128.0  \n",
              "24    1200.0    2045.0    2000.0  \n",
              "25    1432.0    1062.0     997.0  \n",
              "26     500.0       0.0    1000.0  \n",
              "27    1500.0    1000.0    1012.0  \n",
              "28   30430.0     257.0       0.0  \n",
              "29    1000.0    1600.0       0.0  \n",
              "30   14307.0   37292.0       0.0  \n",
              "31    1000.0    1000.0     716.0  \n",
              "32    3204.0    3200.0    2504.0  \n",
              "33   71439.0     981.0   51582.0  \n",
              "34       0.0    5293.0     768.0  \n",
              "50     565.0     792.0       0.0  \n",
              "36    6400.0    6400.0    6737.0  \n",
              "37       0.0   47671.0     617.0  \n",
              "38       0.0       0.0       0.0  \n",
              "39    8000.0    9525.0     781.0  \n",
              "40  188840.0   28000.0    4000.0  \n",
              "41    2500.0    2800.0    2500.0  \n",
              "42     300.0    1000.0     500.0  \n",
              "43    4000.0    4000.0    3000.0  \n",
              "44    2000.0    3000.0       0.0  \n",
              "51       0.0       0.0       0.0  \n",
              "46     334.0       0.0       0.0  \n",
              "47       0.0       0.0       0.0  \n",
              "48   11851.0   11875.0    8251.0  \n",
              "49     928.0     912.0    1069.0  "
            ],
            "text/html": [
              "\n",
              "  <div id=\"df-02154ff4-3758-4ceb-ae5b-9cc477cb8817\">\n",
              "    <div class=\"colab-df-container\">\n",
              "      <div>\n",
              "<style scoped>\n",
              "    .dataframe tbody tr th:only-of-type {\n",
              "        vertical-align: middle;\n",
              "    }\n",
              "\n",
              "    .dataframe tbody tr th {\n",
              "        vertical-align: top;\n",
              "    }\n",
              "\n",
              "    .dataframe thead th {\n",
              "        text-align: right;\n",
              "    }\n",
              "</style>\n",
              "<table border=\"1\" class=\"dataframe\">\n",
              "  <thead>\n",
              "    <tr style=\"text-align: right;\">\n",
              "      <th></th>\n",
              "      <th>Unnamed: 0</th>\n",
              "      <th>ID</th>\n",
              "      <th>LIMIT_BAL</th>\n",
              "      <th>EDUCATION</th>\n",
              "      <th>PAY_AMT1</th>\n",
              "      <th>PAY_AMT2</th>\n",
              "      <th>PAY_AMT3</th>\n",
              "      <th>PAY_AMT4</th>\n",
              "      <th>PAY_AMT5</th>\n",
              "      <th>PAY_AMT6</th>\n",
              "    </tr>\n",
              "  </thead>\n",
              "  <tbody>\n",
              "    <tr>\n",
              "      <th>0</th>\n",
              "      <td>0</td>\n",
              "      <td>1</td>\n",
              "      <td>20000.0</td>\n",
              "      <td>2</td>\n",
              "      <td>0.0</td>\n",
              "      <td>689.0</td>\n",
              "      <td>0.0</td>\n",
              "      <td>0.0</td>\n",
              "      <td>0.0</td>\n",
              "      <td>0.0</td>\n",
              "    </tr>\n",
              "    <tr>\n",
              "      <th>35</th>\n",
              "      <td>35</td>\n",
              "      <td>1</td>\n",
              "      <td>20000.0</td>\n",
              "      <td>2</td>\n",
              "      <td>0.0</td>\n",
              "      <td>689.0</td>\n",
              "      <td>0.0</td>\n",
              "      <td>0.0</td>\n",
              "      <td>0.0</td>\n",
              "      <td>0.0</td>\n",
              "    </tr>\n",
              "    <tr>\n",
              "      <th>1</th>\n",
              "      <td>1</td>\n",
              "      <td>2</td>\n",
              "      <td>120000.0</td>\n",
              "      <td>2</td>\n",
              "      <td>0.0</td>\n",
              "      <td>1000.0</td>\n",
              "      <td>1000.0</td>\n",
              "      <td>1000.0</td>\n",
              "      <td>0.0</td>\n",
              "      <td>2000.0</td>\n",
              "    </tr>\n",
              "    <tr>\n",
              "      <th>2</th>\n",
              "      <td>2</td>\n",
              "      <td>3</td>\n",
              "      <td>90000.0</td>\n",
              "      <td>Null</td>\n",
              "      <td>1518.0</td>\n",
              "      <td>1500.0</td>\n",
              "      <td>1000.0</td>\n",
              "      <td>1000.0</td>\n",
              "      <td>1000.0</td>\n",
              "      <td>5000.0</td>\n",
              "    </tr>\n",
              "    <tr>\n",
              "      <th>3</th>\n",
              "      <td>3</td>\n",
              "      <td>4</td>\n",
              "      <td>-</td>\n",
              "      <td>2</td>\n",
              "      <td>2000.0</td>\n",
              "      <td>2019.0</td>\n",
              "      <td>1200.0</td>\n",
              "      <td>1100.0</td>\n",
              "      <td>1069.0</td>\n",
              "      <td>1000.0</td>\n",
              "    </tr>\n",
              "    <tr>\n",
              "      <th>45</th>\n",
              "      <td>45</td>\n",
              "      <td>4</td>\n",
              "      <td>-</td>\n",
              "      <td>2</td>\n",
              "      <td>2000.0</td>\n",
              "      <td>2019.0</td>\n",
              "      <td>1200.0</td>\n",
              "      <td>1100.0</td>\n",
              "      <td>1069.0</td>\n",
              "      <td>1000.0</td>\n",
              "    </tr>\n",
              "    <tr>\n",
              "      <th>4</th>\n",
              "      <td>4</td>\n",
              "      <td>5</td>\n",
              "      <td>50000.0</td>\n",
              "      <td>2</td>\n",
              "      <td>2000.0</td>\n",
              "      <td>36681.0</td>\n",
              "      <td>10000.0</td>\n",
              "      <td>9000.0</td>\n",
              "      <td>689.0</td>\n",
              "      <td>679.0</td>\n",
              "    </tr>\n",
              "    <tr>\n",
              "      <th>5</th>\n",
              "      <td>5</td>\n",
              "      <td>6</td>\n",
              "      <td>50000.0</td>\n",
              "      <td>1</td>\n",
              "      <td>2500.0</td>\n",
              "      <td>1815.0</td>\n",
              "      <td>657.0</td>\n",
              "      <td>1000.0</td>\n",
              "      <td>1000.0</td>\n",
              "      <td>800.0</td>\n",
              "    </tr>\n",
              "    <tr>\n",
              "      <th>6</th>\n",
              "      <td>6</td>\n",
              "      <td>7</td>\n",
              "      <td>-</td>\n",
              "      <td>1</td>\n",
              "      <td>55000.0</td>\n",
              "      <td>40000.0</td>\n",
              "      <td>38000.0</td>\n",
              "      <td>20239.0</td>\n",
              "      <td>13750.0</td>\n",
              "      <td>13770.0</td>\n",
              "    </tr>\n",
              "    <tr>\n",
              "      <th>7</th>\n",
              "      <td>7</td>\n",
              "      <td>8</td>\n",
              "      <td>100000.0</td>\n",
              "      <td>2</td>\n",
              "      <td>380.0</td>\n",
              "      <td>601.0</td>\n",
              "      <td>0.0</td>\n",
              "      <td>581.0</td>\n",
              "      <td>1687.0</td>\n",
              "      <td>1542.0</td>\n",
              "    </tr>\n",
              "    <tr>\n",
              "      <th>8</th>\n",
              "      <td>8</td>\n",
              "      <td>9</td>\n",
              "      <td>140000.0</td>\n",
              "      <td>3</td>\n",
              "      <td>3329.0</td>\n",
              "      <td>0.0</td>\n",
              "      <td>432.0</td>\n",
              "      <td>1000.0</td>\n",
              "      <td>1000.0</td>\n",
              "      <td>1000.0</td>\n",
              "    </tr>\n",
              "    <tr>\n",
              "      <th>9</th>\n",
              "      <td>9</td>\n",
              "      <td>10</td>\n",
              "      <td>20000.0</td>\n",
              "      <td>Null</td>\n",
              "      <td>0.0</td>\n",
              "      <td>0.0</td>\n",
              "      <td>0.0</td>\n",
              "      <td>13007.0</td>\n",
              "      <td>1122.0</td>\n",
              "      <td>0.0</td>\n",
              "    </tr>\n",
              "    <tr>\n",
              "      <th>10</th>\n",
              "      <td>10</td>\n",
              "      <td>11</td>\n",
              "      <td>200000.0</td>\n",
              "      <td>3</td>\n",
              "      <td>2306.0</td>\n",
              "      <td>12.0</td>\n",
              "      <td>50.0</td>\n",
              "      <td>300.0</td>\n",
              "      <td>3738.0</td>\n",
              "      <td>66.0</td>\n",
              "    </tr>\n",
              "    <tr>\n",
              "      <th>11</th>\n",
              "      <td>11</td>\n",
              "      <td>12</td>\n",
              "      <td>260000.0</td>\n",
              "      <td>1</td>\n",
              "      <td>21818.0</td>\n",
              "      <td>9966.0</td>\n",
              "      <td>8583.0</td>\n",
              "      <td>22301.0</td>\n",
              "      <td>0.0</td>\n",
              "      <td>3640.0</td>\n",
              "    </tr>\n",
              "    <tr>\n",
              "      <th>12</th>\n",
              "      <td>12</td>\n",
              "      <td>13</td>\n",
              "      <td>630000.0</td>\n",
              "      <td>Null</td>\n",
              "      <td>1000.0</td>\n",
              "      <td>6500.0</td>\n",
              "      <td>6500.0</td>\n",
              "      <td>6500.0</td>\n",
              "      <td>2870.0</td>\n",
              "      <td>0.0</td>\n",
              "    </tr>\n",
              "    <tr>\n",
              "      <th>13</th>\n",
              "      <td>13</td>\n",
              "      <td>14</td>\n",
              "      <td>70000.0</td>\n",
              "      <td>2</td>\n",
              "      <td>3200.0</td>\n",
              "      <td>0.0</td>\n",
              "      <td>3000.0</td>\n",
              "      <td>3000.0</td>\n",
              "      <td>1500.0</td>\n",
              "      <td>0.0</td>\n",
              "    </tr>\n",
              "    <tr>\n",
              "      <th>14</th>\n",
              "      <td>14</td>\n",
              "      <td>15</td>\n",
              "      <td>250000.0</td>\n",
              "      <td>1</td>\n",
              "      <td>3000.0</td>\n",
              "      <td>3000.0</td>\n",
              "      <td>3000.0</td>\n",
              "      <td>3000.0</td>\n",
              "      <td>3000.0</td>\n",
              "      <td>3000.0</td>\n",
              "    </tr>\n",
              "    <tr>\n",
              "      <th>15</th>\n",
              "      <td>15</td>\n",
              "      <td>16</td>\n",
              "      <td>50000.0</td>\n",
              "      <td>3</td>\n",
              "      <td>0.0</td>\n",
              "      <td>1500.0</td>\n",
              "      <td>1100.0</td>\n",
              "      <td>1200.0</td>\n",
              "      <td>1300.0</td>\n",
              "      <td>1100.0</td>\n",
              "    </tr>\n",
              "    <tr>\n",
              "      <th>16</th>\n",
              "      <td>16</td>\n",
              "      <td>17</td>\n",
              "      <td>20000.0</td>\n",
              "      <td>1</td>\n",
              "      <td>3200.0</td>\n",
              "      <td>0.0</td>\n",
              "      <td>1500.0</td>\n",
              "      <td>0.0</td>\n",
              "      <td>1650.0</td>\n",
              "      <td>0.0</td>\n",
              "    </tr>\n",
              "    <tr>\n",
              "      <th>17</th>\n",
              "      <td>17</td>\n",
              "      <td>18</td>\n",
              "      <td>320000.0</td>\n",
              "      <td>1</td>\n",
              "      <td>10358.0</td>\n",
              "      <td>10000.0</td>\n",
              "      <td>75940.0</td>\n",
              "      <td>20000.0</td>\n",
              "      <td>195599.0</td>\n",
              "      <td>50000.0</td>\n",
              "    </tr>\n",
              "    <tr>\n",
              "      <th>18</th>\n",
              "      <td>18</td>\n",
              "      <td>19</td>\n",
              "      <td>360000.0</td>\n",
              "      <td>1</td>\n",
              "      <td>0.0</td>\n",
              "      <td>0.0</td>\n",
              "      <td>0.0</td>\n",
              "      <td>0.0</td>\n",
              "      <td>0.0</td>\n",
              "      <td>0.0</td>\n",
              "    </tr>\n",
              "    <tr>\n",
              "      <th>19</th>\n",
              "      <td>19</td>\n",
              "      <td>20</td>\n",
              "      <td>180000.0</td>\n",
              "      <td>1</td>\n",
              "      <td>0.0</td>\n",
              "      <td>0.0</td>\n",
              "      <td>0.0</td>\n",
              "      <td>0.0</td>\n",
              "      <td>0.0</td>\n",
              "      <td>0.0</td>\n",
              "    </tr>\n",
              "    <tr>\n",
              "      <th>20</th>\n",
              "      <td>20</td>\n",
              "      <td>21</td>\n",
              "      <td>130000.0</td>\n",
              "      <td>3</td>\n",
              "      <td>3000.0</td>\n",
              "      <td>1537.0</td>\n",
              "      <td>1000.0</td>\n",
              "      <td>2000.0</td>\n",
              "      <td>930.0</td>\n",
              "      <td>33764.0</td>\n",
              "    </tr>\n",
              "    <tr>\n",
              "      <th>21</th>\n",
              "      <td>21</td>\n",
              "      <td>22</td>\n",
              "      <td>120000.0</td>\n",
              "      <td>2</td>\n",
              "      <td>316.0</td>\n",
              "      <td>316.0</td>\n",
              "      <td>0.0</td>\n",
              "      <td>632.0</td>\n",
              "      <td>316.0</td>\n",
              "      <td>0.0</td>\n",
              "    </tr>\n",
              "    <tr>\n",
              "      <th>22</th>\n",
              "      <td>22</td>\n",
              "      <td>23</td>\n",
              "      <td>70000.0</td>\n",
              "      <td>2</td>\n",
              "      <td>2007.0</td>\n",
              "      <td>3582.0</td>\n",
              "      <td>0.0</td>\n",
              "      <td>3601.0</td>\n",
              "      <td>0.0</td>\n",
              "      <td>1820.0</td>\n",
              "    </tr>\n",
              "    <tr>\n",
              "      <th>23</th>\n",
              "      <td>23</td>\n",
              "      <td>24</td>\n",
              "      <td>450000.0</td>\n",
              "      <td>Null</td>\n",
              "      <td>19428.0</td>\n",
              "      <td>1473.0</td>\n",
              "      <td>560.0</td>\n",
              "      <td>0.0</td>\n",
              "      <td>0.0</td>\n",
              "      <td>1128.0</td>\n",
              "    </tr>\n",
              "    <tr>\n",
              "      <th>24</th>\n",
              "      <td>24</td>\n",
              "      <td>25</td>\n",
              "      <td>90000.0</td>\n",
              "      <td>1</td>\n",
              "      <td>5757.0</td>\n",
              "      <td>0.0</td>\n",
              "      <td>5398.0</td>\n",
              "      <td>1200.0</td>\n",
              "      <td>2045.0</td>\n",
              "      <td>2000.0</td>\n",
              "    </tr>\n",
              "    <tr>\n",
              "      <th>25</th>\n",
              "      <td>25</td>\n",
              "      <td>26</td>\n",
              "      <td>50000.0</td>\n",
              "      <td>3</td>\n",
              "      <td>1973.0</td>\n",
              "      <td>1426.0</td>\n",
              "      <td>1001.0</td>\n",
              "      <td>1432.0</td>\n",
              "      <td>1062.0</td>\n",
              "      <td>997.0</td>\n",
              "    </tr>\n",
              "    <tr>\n",
              "      <th>26</th>\n",
              "      <td>26</td>\n",
              "      <td>27</td>\n",
              "      <td>-</td>\n",
              "      <td>1</td>\n",
              "      <td>0.0</td>\n",
              "      <td>1000.0</td>\n",
              "      <td>0.0</td>\n",
              "      <td>500.0</td>\n",
              "      <td>0.0</td>\n",
              "      <td>1000.0</td>\n",
              "    </tr>\n",
              "    <tr>\n",
              "      <th>27</th>\n",
              "      <td>27</td>\n",
              "      <td>28</td>\n",
              "      <td>-</td>\n",
              "      <td>3</td>\n",
              "      <td>1300.0</td>\n",
              "      <td>1300.0</td>\n",
              "      <td>1000.0</td>\n",
              "      <td>1500.0</td>\n",
              "      <td>1000.0</td>\n",
              "      <td>1012.0</td>\n",
              "    </tr>\n",
              "    <tr>\n",
              "      <th>28</th>\n",
              "      <td>28</td>\n",
              "      <td>29</td>\n",
              "      <td>50000.0</td>\n",
              "      <td>3</td>\n",
              "      <td>3415.0</td>\n",
              "      <td>3421.0</td>\n",
              "      <td>2044.0</td>\n",
              "      <td>30430.0</td>\n",
              "      <td>257.0</td>\n",
              "      <td>0.0</td>\n",
              "    </tr>\n",
              "    <tr>\n",
              "      <th>29</th>\n",
              "      <td>29</td>\n",
              "      <td>30</td>\n",
              "      <td>50000.0</td>\n",
              "      <td>1</td>\n",
              "      <td>1500.0</td>\n",
              "      <td>1500.0</td>\n",
              "      <td>1000.0</td>\n",
              "      <td>1000.0</td>\n",
              "      <td>1600.0</td>\n",
              "      <td>0.0</td>\n",
              "    </tr>\n",
              "    <tr>\n",
              "      <th>30</th>\n",
              "      <td>30</td>\n",
              "      <td>31</td>\n",
              "      <td>230000.0</td>\n",
              "      <td>1</td>\n",
              "      <td>17270.0</td>\n",
              "      <td>13281.0</td>\n",
              "      <td>15339.0</td>\n",
              "      <td>14307.0</td>\n",
              "      <td>37292.0</td>\n",
              "      <td>0.0</td>\n",
              "    </tr>\n",
              "    <tr>\n",
              "      <th>31</th>\n",
              "      <td>31</td>\n",
              "      <td>32</td>\n",
              "      <td>50000.0</td>\n",
              "      <td>2</td>\n",
              "      <td>1718.0</td>\n",
              "      <td>1500.0</td>\n",
              "      <td>1000.0</td>\n",
              "      <td>1000.0</td>\n",
              "      <td>1000.0</td>\n",
              "      <td>716.0</td>\n",
              "    </tr>\n",
              "    <tr>\n",
              "      <th>32</th>\n",
              "      <td>32</td>\n",
              "      <td>33</td>\n",
              "      <td>100000.0</td>\n",
              "      <td>Null</td>\n",
              "      <td>3023.0</td>\n",
              "      <td>3511.0</td>\n",
              "      <td>3302.0</td>\n",
              "      <td>3204.0</td>\n",
              "      <td>3200.0</td>\n",
              "      <td>2504.0</td>\n",
              "    </tr>\n",
              "    <tr>\n",
              "      <th>33</th>\n",
              "      <td>33</td>\n",
              "      <td>34</td>\n",
              "      <td>500000.0</td>\n",
              "      <td>2</td>\n",
              "      <td>4152.0</td>\n",
              "      <td>22827.0</td>\n",
              "      <td>7521.0</td>\n",
              "      <td>71439.0</td>\n",
              "      <td>981.0</td>\n",
              "      <td>51582.0</td>\n",
              "    </tr>\n",
              "    <tr>\n",
              "      <th>34</th>\n",
              "      <td>34</td>\n",
              "      <td>35</td>\n",
              "      <td>500000.0</td>\n",
              "      <td>1</td>\n",
              "      <td>5006.0</td>\n",
              "      <td>31178.0</td>\n",
              "      <td>3180.0</td>\n",
              "      <td>0.0</td>\n",
              "      <td>5293.0</td>\n",
              "      <td>768.0</td>\n",
              "    </tr>\n",
              "    <tr>\n",
              "      <th>50</th>\n",
              "      <td>50</td>\n",
              "      <td>36</td>\n",
              "      <td>160000.0</td>\n",
              "      <td>1</td>\n",
              "      <td>131.0</td>\n",
              "      <td>396.0</td>\n",
              "      <td>396.0</td>\n",
              "      <td>565.0</td>\n",
              "      <td>792.0</td>\n",
              "      <td>0.0</td>\n",
              "    </tr>\n",
              "    <tr>\n",
              "      <th>36</th>\n",
              "      <td>36</td>\n",
              "      <td>37</td>\n",
              "      <td>280000.0</td>\n",
              "      <td>2</td>\n",
              "      <td>8026.0</td>\n",
              "      <td>8060.0</td>\n",
              "      <td>6300.0</td>\n",
              "      <td>6400.0</td>\n",
              "      <td>6400.0</td>\n",
              "      <td>6737.0</td>\n",
              "    </tr>\n",
              "    <tr>\n",
              "      <th>37</th>\n",
              "      <td>37</td>\n",
              "      <td>38</td>\n",
              "      <td>-</td>\n",
              "      <td>2</td>\n",
              "      <td>1500.0</td>\n",
              "      <td>1518.0</td>\n",
              "      <td>2043.0</td>\n",
              "      <td>0.0</td>\n",
              "      <td>47671.0</td>\n",
              "      <td>617.0</td>\n",
              "    </tr>\n",
              "    <tr>\n",
              "      <th>38</th>\n",
              "      <td>38</td>\n",
              "      <td>39</td>\n",
              "      <td>50000.0</td>\n",
              "      <td>1</td>\n",
              "      <td>780.0</td>\n",
              "      <td>0.0</td>\n",
              "      <td>0.0</td>\n",
              "      <td>0.0</td>\n",
              "      <td>0.0</td>\n",
              "      <td>0.0</td>\n",
              "    </tr>\n",
              "    <tr>\n",
              "      <th>39</th>\n",
              "      <td>39</td>\n",
              "      <td>40</td>\n",
              "      <td>280000.0</td>\n",
              "      <td>1</td>\n",
              "      <td>9075.0</td>\n",
              "      <td>0.0</td>\n",
              "      <td>9976.0</td>\n",
              "      <td>8000.0</td>\n",
              "      <td>9525.0</td>\n",
              "      <td>781.0</td>\n",
              "    </tr>\n",
              "    <tr>\n",
              "      <th>40</th>\n",
              "      <td>40</td>\n",
              "      <td>41</td>\n",
              "      <td>360000.0</td>\n",
              "      <td>1</td>\n",
              "      <td>10000.0</td>\n",
              "      <td>7000.0</td>\n",
              "      <td>6000.0</td>\n",
              "      <td>188840.0</td>\n",
              "      <td>28000.0</td>\n",
              "      <td>4000.0</td>\n",
              "    </tr>\n",
              "    <tr>\n",
              "      <th>41</th>\n",
              "      <td>41</td>\n",
              "      <td>42</td>\n",
              "      <td>70000.0</td>\n",
              "      <td>Null</td>\n",
              "      <td>3000.0</td>\n",
              "      <td>4500.0</td>\n",
              "      <td>4042.0</td>\n",
              "      <td>2500.0</td>\n",
              "      <td>2800.0</td>\n",
              "      <td>2500.0</td>\n",
              "    </tr>\n",
              "    <tr>\n",
              "      <th>42</th>\n",
              "      <td>42</td>\n",
              "      <td>43</td>\n",
              "      <td>10000.0</td>\n",
              "      <td>2</td>\n",
              "      <td>1500.0</td>\n",
              "      <td>2927.0</td>\n",
              "      <td>1000.0</td>\n",
              "      <td>300.0</td>\n",
              "      <td>1000.0</td>\n",
              "      <td>500.0</td>\n",
              "    </tr>\n",
              "    <tr>\n",
              "      <th>43</th>\n",
              "      <td>43</td>\n",
              "      <td>44</td>\n",
              "      <td>140000.0</td>\n",
              "      <td>Null</td>\n",
              "      <td>3000.0</td>\n",
              "      <td>3000.0</td>\n",
              "      <td>3000.0</td>\n",
              "      <td>4000.0</td>\n",
              "      <td>4000.0</td>\n",
              "      <td>3000.0</td>\n",
              "    </tr>\n",
              "    <tr>\n",
              "      <th>44</th>\n",
              "      <td>44</td>\n",
              "      <td>45</td>\n",
              "      <td>40000.0</td>\n",
              "      <td>1</td>\n",
              "      <td>3000.0</td>\n",
              "      <td>5000.0</td>\n",
              "      <td>0.0</td>\n",
              "      <td>2000.0</td>\n",
              "      <td>3000.0</td>\n",
              "      <td>0.0</td>\n",
              "    </tr>\n",
              "    <tr>\n",
              "      <th>51</th>\n",
              "      <td>51</td>\n",
              "      <td>46</td>\n",
              "      <td>210000.0</td>\n",
              "      <td>1</td>\n",
              "      <td>0.0</td>\n",
              "      <td>0.0</td>\n",
              "      <td>0.0</td>\n",
              "      <td>0.0</td>\n",
              "      <td>0.0</td>\n",
              "      <td>0.0</td>\n",
              "    </tr>\n",
              "    <tr>\n",
              "      <th>46</th>\n",
              "      <td>46</td>\n",
              "      <td>47</td>\n",
              "      <td>20000.0</td>\n",
              "      <td>1</td>\n",
              "      <td>3000.0</td>\n",
              "      <td>0.0</td>\n",
              "      <td>16741.0</td>\n",
              "      <td>334.0</td>\n",
              "      <td>0.0</td>\n",
              "      <td>0.0</td>\n",
              "    </tr>\n",
              "    <tr>\n",
              "      <th>47</th>\n",
              "      <td>47</td>\n",
              "      <td>48</td>\n",
              "      <td>-</td>\n",
              "      <td>5</td>\n",
              "      <td>1013.0</td>\n",
              "      <td>1170.0</td>\n",
              "      <td>0.0</td>\n",
              "      <td>0.0</td>\n",
              "      <td>0.0</td>\n",
              "      <td>0.0</td>\n",
              "    </tr>\n",
              "    <tr>\n",
              "      <th>48</th>\n",
              "      <td>48</td>\n",
              "      <td>49</td>\n",
              "      <td>380000.0</td>\n",
              "      <td>2</td>\n",
              "      <td>21540.0</td>\n",
              "      <td>15138.0</td>\n",
              "      <td>24677.0</td>\n",
              "      <td>11851.0</td>\n",
              "      <td>11875.0</td>\n",
              "      <td>8251.0</td>\n",
              "    </tr>\n",
              "    <tr>\n",
              "      <th>49</th>\n",
              "      <td>49</td>\n",
              "      <td>50</td>\n",
              "      <td>20000.0</td>\n",
              "      <td>1</td>\n",
              "      <td>1318.0</td>\n",
              "      <td>1315.0</td>\n",
              "      <td>704.0</td>\n",
              "      <td>928.0</td>\n",
              "      <td>912.0</td>\n",
              "      <td>1069.0</td>\n",
              "    </tr>\n",
              "  </tbody>\n",
              "</table>\n",
              "</div>\n",
              "      <button class=\"colab-df-convert\" onclick=\"convertToInteractive('df-02154ff4-3758-4ceb-ae5b-9cc477cb8817')\"\n",
              "              title=\"Convert this dataframe to an interactive table.\"\n",
              "              style=\"display:none;\">\n",
              "        \n",
              "  <svg xmlns=\"http://www.w3.org/2000/svg\" height=\"24px\"viewBox=\"0 0 24 24\"\n",
              "       width=\"24px\">\n",
              "    <path d=\"M0 0h24v24H0V0z\" fill=\"none\"/>\n",
              "    <path d=\"M18.56 5.44l.94 2.06.94-2.06 2.06-.94-2.06-.94-.94-2.06-.94 2.06-2.06.94zm-11 1L8.5 8.5l.94-2.06 2.06-.94-2.06-.94L8.5 2.5l-.94 2.06-2.06.94zm10 10l.94 2.06.94-2.06 2.06-.94-2.06-.94-.94-2.06-.94 2.06-2.06.94z\"/><path d=\"M17.41 7.96l-1.37-1.37c-.4-.4-.92-.59-1.43-.59-.52 0-1.04.2-1.43.59L10.3 9.45l-7.72 7.72c-.78.78-.78 2.05 0 2.83L4 21.41c.39.39.9.59 1.41.59.51 0 1.02-.2 1.41-.59l7.78-7.78 2.81-2.81c.8-.78.8-2.07 0-2.86zM5.41 20L4 18.59l7.72-7.72 1.47 1.35L5.41 20z\"/>\n",
              "  </svg>\n",
              "      </button>\n",
              "      \n",
              "  <style>\n",
              "    .colab-df-container {\n",
              "      display:flex;\n",
              "      flex-wrap:wrap;\n",
              "      gap: 12px;\n",
              "    }\n",
              "\n",
              "    .colab-df-convert {\n",
              "      background-color: #E8F0FE;\n",
              "      border: none;\n",
              "      border-radius: 50%;\n",
              "      cursor: pointer;\n",
              "      display: none;\n",
              "      fill: #1967D2;\n",
              "      height: 32px;\n",
              "      padding: 0 0 0 0;\n",
              "      width: 32px;\n",
              "    }\n",
              "\n",
              "    .colab-df-convert:hover {\n",
              "      background-color: #E2EBFA;\n",
              "      box-shadow: 0px 1px 2px rgba(60, 64, 67, 0.3), 0px 1px 3px 1px rgba(60, 64, 67, 0.15);\n",
              "      fill: #174EA6;\n",
              "    }\n",
              "\n",
              "    [theme=dark] .colab-df-convert {\n",
              "      background-color: #3B4455;\n",
              "      fill: #D2E3FC;\n",
              "    }\n",
              "\n",
              "    [theme=dark] .colab-df-convert:hover {\n",
              "      background-color: #434B5C;\n",
              "      box-shadow: 0px 1px 3px 1px rgba(0, 0, 0, 0.15);\n",
              "      filter: drop-shadow(0px 1px 2px rgba(0, 0, 0, 0.3));\n",
              "      fill: #FFFFFF;\n",
              "    }\n",
              "  </style>\n",
              "\n",
              "      <script>\n",
              "        const buttonEl =\n",
              "          document.querySelector('#df-02154ff4-3758-4ceb-ae5b-9cc477cb8817 button.colab-df-convert');\n",
              "        buttonEl.style.display =\n",
              "          google.colab.kernel.accessAllowed ? 'block' : 'none';\n",
              "\n",
              "        async function convertToInteractive(key) {\n",
              "          const element = document.querySelector('#df-02154ff4-3758-4ceb-ae5b-9cc477cb8817');\n",
              "          const dataTable =\n",
              "            await google.colab.kernel.invokeFunction('convertToInteractive',\n",
              "                                                     [key], {});\n",
              "          if (!dataTable) return;\n",
              "\n",
              "          const docLinkHtml = 'Like what you see? Visit the ' +\n",
              "            '<a target=\"_blank\" href=https://colab.research.google.com/notebooks/data_table.ipynb>data table notebook</a>'\n",
              "            + ' to learn more about interactive tables.';\n",
              "          element.innerHTML = '';\n",
              "          dataTable['output_type'] = 'display_data';\n",
              "          await google.colab.output.renderOutput(dataTable, element);\n",
              "          const docLink = document.createElement('div');\n",
              "          docLink.innerHTML = docLinkHtml;\n",
              "          element.appendChild(docLink);\n",
              "        }\n",
              "      </script>\n",
              "    </div>\n",
              "  </div>\n",
              "  "
            ]
          },
          "metadata": {},
          "execution_count": 39
        }
      ]
    },
    {
      "cell_type": "code",
      "source": [
        "dfPayATM.columns"
      ],
      "metadata": {
        "id": "1J_xTIRBbcpA",
        "colab": {
          "base_uri": "https://localhost:8080/"
        },
        "outputId": "abaeb105-c457-4879-8391-fb2c49c6c0a1"
      },
      "execution_count": 53,
      "outputs": [
        {
          "output_type": "execute_result",
          "data": {
            "text/plain": [
              "Index(['Unnamed: 0', 'ID', 'LIMIT_BAL', 'EDUCATION', 'PAY_AMT1', 'PAY_AMT2',\n",
              "       'PAY_AMT3', 'PAY_AMT4', 'PAY_AMT5', 'PAY_AMT6'],\n",
              "      dtype='object')"
            ]
          },
          "metadata": {},
          "execution_count": 53
        }
      ]
    },
    {
      "cell_type": "code",
      "source": [
        "dfPayATM = dfPayATM.drop([35])"
      ],
      "metadata": {
        "id": "tpPPlBkdfMAB"
      },
      "execution_count": 40,
      "outputs": []
    },
    {
      "cell_type": "code",
      "source": [
        "dfPayATM = dfPayATM.drop([45])"
      ],
      "metadata": {
        "id": "xBK7o4rShLt_"
      },
      "execution_count": 41,
      "outputs": []
    },
    {
      "cell_type": "code",
      "source": [
        "dfPayATM"
      ],
      "metadata": {
        "id": "uWifKmcBhNW3"
      },
      "execution_count": null,
      "outputs": []
    },
    {
      "cell_type": "code",
      "source": [
        "dfPayATM = dfPayATM.drop(['Unnamed: 0'], axis = 1)"
      ],
      "metadata": {
        "id": "13py6m3Li0JZ"
      },
      "execution_count": 42,
      "outputs": []
    },
    {
      "cell_type": "code",
      "source": [
        "dfPayNM.columns"
      ],
      "metadata": {
        "colab": {
          "base_uri": "https://localhost:8080/"
        },
        "id": "nBjrg2Z2i4Gx",
        "outputId": "129635ab-e1c2-40d2-9be1-03d6ffe84e49"
      },
      "execution_count": 57,
      "outputs": [
        {
          "output_type": "execute_result",
          "data": {
            "text/plain": [
              "Index(['Unnamed: 0', 'ID', 'SEX', 'EDUCATION', 'MARRIAGE', 'AGE',\n",
              "       'default.payment.next.month'],\n",
              "      dtype='object')"
            ]
          },
          "metadata": {},
          "execution_count": 57
        }
      ]
    },
    {
      "cell_type": "code",
      "source": [
        "dfPayNM = dfPayNM.drop(['Unnamed: 0'], axis = 1)"
      ],
      "metadata": {
        "id": "_SqjYz04i7gB"
      },
      "execution_count": 43,
      "outputs": []
    },
    {
      "cell_type": "markdown",
      "source": [
        "# **Continuo con la unión de las cuatro bases de información por el ID único**"
      ],
      "metadata": {
        "id": "977WsfyRlwud"
      }
    },
    {
      "cell_type": "code",
      "source": [
        "df = pd.merge(dfBillATM, dfPay, left_on='ID', right_on='ID')"
      ],
      "metadata": {
        "id": "ZUq6_bHxhbuu"
      },
      "execution_count": 44,
      "outputs": []
    },
    {
      "cell_type": "code",
      "source": [
        "df.columns"
      ],
      "metadata": {
        "colab": {
          "base_uri": "https://localhost:8080/"
        },
        "id": "DkltudBGh-zn",
        "outputId": "d0255398-0587-4f65-edf2-946f28002653"
      },
      "execution_count": 45,
      "outputs": [
        {
          "output_type": "execute_result",
          "data": {
            "text/plain": [
              "Index(['ID', 'LIMIT_BAL_x', 'SEX', 'BILL_AMT1', 'BILL_AMT2', 'BILL_AMT3',\n",
              "       'BILL_AMT4', 'BILL_AMT5', 'BILL_AMT6', 'LIMIT_BAL_y', 'AGE', 'PAY_0',\n",
              "       'PAY_2', 'PAY_3', 'PAY_4', 'PAY_5', 'PAY_6'],\n",
              "      dtype='object')"
            ]
          },
          "metadata": {},
          "execution_count": 45
        }
      ]
    },
    {
      "cell_type": "code",
      "source": [
        "df = pd.merge(df, dfPayATM, left_on='ID', right_on='ID')"
      ],
      "metadata": {
        "id": "cHKbH73YjKIP"
      },
      "execution_count": 46,
      "outputs": []
    },
    {
      "cell_type": "code",
      "source": [
        "df.columns"
      ],
      "metadata": {
        "colab": {
          "base_uri": "https://localhost:8080/"
        },
        "id": "tMObHVe8jTn_",
        "outputId": "df26df4c-6047-4dbb-9aa6-70f1b0b2fcb3"
      },
      "execution_count": 47,
      "outputs": [
        {
          "output_type": "execute_result",
          "data": {
            "text/plain": [
              "Index(['ID', 'LIMIT_BAL_x', 'SEX', 'BILL_AMT1', 'BILL_AMT2', 'BILL_AMT3',\n",
              "       'BILL_AMT4', 'BILL_AMT5', 'BILL_AMT6', 'LIMIT_BAL_y', 'AGE', 'PAY_0',\n",
              "       'PAY_2', 'PAY_3', 'PAY_4', 'PAY_5', 'PAY_6', 'LIMIT_BAL', 'EDUCATION',\n",
              "       'PAY_AMT1', 'PAY_AMT2', 'PAY_AMT3', 'PAY_AMT4', 'PAY_AMT5', 'PAY_AMT6'],\n",
              "      dtype='object')"
            ]
          },
          "metadata": {},
          "execution_count": 47
        }
      ]
    },
    {
      "cell_type": "code",
      "source": [
        "df = pd.merge(df, dfPayNM, left_on='ID', right_on='ID')"
      ],
      "metadata": {
        "id": "EUIj0CG1jR2Q"
      },
      "execution_count": 48,
      "outputs": []
    },
    {
      "cell_type": "code",
      "source": [
        "df.columns"
      ],
      "metadata": {
        "colab": {
          "base_uri": "https://localhost:8080/"
        },
        "id": "hUxi-wbQjX23",
        "outputId": "99c061c3-5c51-443b-a11b-2b53670a88d3"
      },
      "execution_count": 49,
      "outputs": [
        {
          "output_type": "execute_result",
          "data": {
            "text/plain": [
              "Index(['ID', 'LIMIT_BAL_x', 'SEX_x', 'BILL_AMT1', 'BILL_AMT2', 'BILL_AMT3',\n",
              "       'BILL_AMT4', 'BILL_AMT5', 'BILL_AMT6', 'LIMIT_BAL_y', 'AGE_x', 'PAY_0',\n",
              "       'PAY_2', 'PAY_3', 'PAY_4', 'PAY_5', 'PAY_6', 'LIMIT_BAL', 'EDUCATION_x',\n",
              "       'PAY_AMT1', 'PAY_AMT2', 'PAY_AMT3', 'PAY_AMT4', 'PAY_AMT5', 'PAY_AMT6',\n",
              "       'SEX_y', 'EDUCATION_y', 'MARRIAGE', 'AGE_y',\n",
              "       'default.payment.next.month'],\n",
              "      dtype='object')"
            ]
          },
          "metadata": {},
          "execution_count": 49
        }
      ]
    },
    {
      "cell_type": "markdown",
      "source": [
        "# Trabajar sobre columnas **SEXO**"
      ],
      "metadata": {
        "id": "IoPWfZcZs7Yl"
      }
    },
    {
      "cell_type": "markdown",
      "source": [
        "Tome la decisión de usar la columna SEX_x, porque ya venía con el formato de valores necesatio y además tenia pocos valores NaN, por lo tanto procederé a reemplazarlos por el valor correspondiente de la columna SEX_y"
      ],
      "metadata": {
        "id": "5sKdgJIpJsvz"
      }
    },
    {
      "cell_type": "code",
      "source": [
        "df.iloc[:,2]"
      ],
      "metadata": {
        "id": "1-oyHlKknbQH"
      },
      "execution_count": null,
      "outputs": []
    },
    {
      "cell_type": "code",
      "source": [
        "df.iloc[:,-5]"
      ],
      "metadata": {
        "id": "w0WKsr4MuiLK"
      },
      "execution_count": null,
      "outputs": []
    },
    {
      "cell_type": "code",
      "source": [
        "df.iloc[:,[2,-5]]"
      ],
      "metadata": {
        "id": "psRi1rDeyDXy",
        "colab": {
          "base_uri": "https://localhost:8080/",
          "height": 1000
        },
        "outputId": "50134143-924a-4a11-99bb-9286fa4aa0be"
      },
      "execution_count": 68,
      "outputs": [
        {
          "output_type": "execute_result",
          "data": {
            "text/plain": [
              "     SEX_x SEX_y\n",
              "0   female     2\n",
              "1      NaN     2\n",
              "2   female     2\n",
              "3   female     2\n",
              "4     male     1\n",
              "5     male     1\n",
              "6     male     1\n",
              "7   female     2\n",
              "8      NaN     2\n",
              "9     male     1\n",
              "10  female     2\n",
              "11     NaN     2\n",
              "12  female     2\n",
              "13    male   Nan\n",
              "14    male     1\n",
              "15  female     2\n",
              "16    male     1\n",
              "17    male     1\n",
              "18  female   Nan\n",
              "19  female     2\n",
              "20  female     2\n",
              "21     NaN     2\n",
              "22  female   Nan\n",
              "23  female     2\n",
              "24    male   Nan\n",
              "25    male     1\n",
              "26    male     1\n",
              "27  female     2\n",
              "28  female     2\n",
              "29    male     1\n",
              "30  female     2\n",
              "31     NaN     1\n",
              "32    male     1\n",
              "33  female     2\n",
              "34    male     1\n",
              "35    male     1\n",
              "36    male   Nan\n",
              "37  female     2\n",
              "38    male     1\n",
              "39    male     1\n",
              "40    male     1\n",
              "41  female     2\n",
              "42    male     1\n",
              "43  female     2\n",
              "44  female     2\n",
              "45    male     1\n",
              "46     NaN     2\n",
              "47  female     2\n",
              "48     NaN     1\n",
              "49    male   Nan"
            ],
            "text/html": [
              "\n",
              "  <div id=\"df-ca4a0437-ecd3-4313-96f2-4f771b33eda7\">\n",
              "    <div class=\"colab-df-container\">\n",
              "      <div>\n",
              "<style scoped>\n",
              "    .dataframe tbody tr th:only-of-type {\n",
              "        vertical-align: middle;\n",
              "    }\n",
              "\n",
              "    .dataframe tbody tr th {\n",
              "        vertical-align: top;\n",
              "    }\n",
              "\n",
              "    .dataframe thead th {\n",
              "        text-align: right;\n",
              "    }\n",
              "</style>\n",
              "<table border=\"1\" class=\"dataframe\">\n",
              "  <thead>\n",
              "    <tr style=\"text-align: right;\">\n",
              "      <th></th>\n",
              "      <th>SEX_x</th>\n",
              "      <th>SEX_y</th>\n",
              "    </tr>\n",
              "  </thead>\n",
              "  <tbody>\n",
              "    <tr>\n",
              "      <th>0</th>\n",
              "      <td>female</td>\n",
              "      <td>2</td>\n",
              "    </tr>\n",
              "    <tr>\n",
              "      <th>1</th>\n",
              "      <td>NaN</td>\n",
              "      <td>2</td>\n",
              "    </tr>\n",
              "    <tr>\n",
              "      <th>2</th>\n",
              "      <td>female</td>\n",
              "      <td>2</td>\n",
              "    </tr>\n",
              "    <tr>\n",
              "      <th>3</th>\n",
              "      <td>female</td>\n",
              "      <td>2</td>\n",
              "    </tr>\n",
              "    <tr>\n",
              "      <th>4</th>\n",
              "      <td>male</td>\n",
              "      <td>1</td>\n",
              "    </tr>\n",
              "    <tr>\n",
              "      <th>5</th>\n",
              "      <td>male</td>\n",
              "      <td>1</td>\n",
              "    </tr>\n",
              "    <tr>\n",
              "      <th>6</th>\n",
              "      <td>male</td>\n",
              "      <td>1</td>\n",
              "    </tr>\n",
              "    <tr>\n",
              "      <th>7</th>\n",
              "      <td>female</td>\n",
              "      <td>2</td>\n",
              "    </tr>\n",
              "    <tr>\n",
              "      <th>8</th>\n",
              "      <td>NaN</td>\n",
              "      <td>2</td>\n",
              "    </tr>\n",
              "    <tr>\n",
              "      <th>9</th>\n",
              "      <td>male</td>\n",
              "      <td>1</td>\n",
              "    </tr>\n",
              "    <tr>\n",
              "      <th>10</th>\n",
              "      <td>female</td>\n",
              "      <td>2</td>\n",
              "    </tr>\n",
              "    <tr>\n",
              "      <th>11</th>\n",
              "      <td>NaN</td>\n",
              "      <td>2</td>\n",
              "    </tr>\n",
              "    <tr>\n",
              "      <th>12</th>\n",
              "      <td>female</td>\n",
              "      <td>2</td>\n",
              "    </tr>\n",
              "    <tr>\n",
              "      <th>13</th>\n",
              "      <td>male</td>\n",
              "      <td>Nan</td>\n",
              "    </tr>\n",
              "    <tr>\n",
              "      <th>14</th>\n",
              "      <td>male</td>\n",
              "      <td>1</td>\n",
              "    </tr>\n",
              "    <tr>\n",
              "      <th>15</th>\n",
              "      <td>female</td>\n",
              "      <td>2</td>\n",
              "    </tr>\n",
              "    <tr>\n",
              "      <th>16</th>\n",
              "      <td>male</td>\n",
              "      <td>1</td>\n",
              "    </tr>\n",
              "    <tr>\n",
              "      <th>17</th>\n",
              "      <td>male</td>\n",
              "      <td>1</td>\n",
              "    </tr>\n",
              "    <tr>\n",
              "      <th>18</th>\n",
              "      <td>female</td>\n",
              "      <td>Nan</td>\n",
              "    </tr>\n",
              "    <tr>\n",
              "      <th>19</th>\n",
              "      <td>female</td>\n",
              "      <td>2</td>\n",
              "    </tr>\n",
              "    <tr>\n",
              "      <th>20</th>\n",
              "      <td>female</td>\n",
              "      <td>2</td>\n",
              "    </tr>\n",
              "    <tr>\n",
              "      <th>21</th>\n",
              "      <td>NaN</td>\n",
              "      <td>2</td>\n",
              "    </tr>\n",
              "    <tr>\n",
              "      <th>22</th>\n",
              "      <td>female</td>\n",
              "      <td>Nan</td>\n",
              "    </tr>\n",
              "    <tr>\n",
              "      <th>23</th>\n",
              "      <td>female</td>\n",
              "      <td>2</td>\n",
              "    </tr>\n",
              "    <tr>\n",
              "      <th>24</th>\n",
              "      <td>male</td>\n",
              "      <td>Nan</td>\n",
              "    </tr>\n",
              "    <tr>\n",
              "      <th>25</th>\n",
              "      <td>male</td>\n",
              "      <td>1</td>\n",
              "    </tr>\n",
              "    <tr>\n",
              "      <th>26</th>\n",
              "      <td>male</td>\n",
              "      <td>1</td>\n",
              "    </tr>\n",
              "    <tr>\n",
              "      <th>27</th>\n",
              "      <td>female</td>\n",
              "      <td>2</td>\n",
              "    </tr>\n",
              "    <tr>\n",
              "      <th>28</th>\n",
              "      <td>female</td>\n",
              "      <td>2</td>\n",
              "    </tr>\n",
              "    <tr>\n",
              "      <th>29</th>\n",
              "      <td>male</td>\n",
              "      <td>1</td>\n",
              "    </tr>\n",
              "    <tr>\n",
              "      <th>30</th>\n",
              "      <td>female</td>\n",
              "      <td>2</td>\n",
              "    </tr>\n",
              "    <tr>\n",
              "      <th>31</th>\n",
              "      <td>NaN</td>\n",
              "      <td>1</td>\n",
              "    </tr>\n",
              "    <tr>\n",
              "      <th>32</th>\n",
              "      <td>male</td>\n",
              "      <td>1</td>\n",
              "    </tr>\n",
              "    <tr>\n",
              "      <th>33</th>\n",
              "      <td>female</td>\n",
              "      <td>2</td>\n",
              "    </tr>\n",
              "    <tr>\n",
              "      <th>34</th>\n",
              "      <td>male</td>\n",
              "      <td>1</td>\n",
              "    </tr>\n",
              "    <tr>\n",
              "      <th>35</th>\n",
              "      <td>male</td>\n",
              "      <td>1</td>\n",
              "    </tr>\n",
              "    <tr>\n",
              "      <th>36</th>\n",
              "      <td>male</td>\n",
              "      <td>Nan</td>\n",
              "    </tr>\n",
              "    <tr>\n",
              "      <th>37</th>\n",
              "      <td>female</td>\n",
              "      <td>2</td>\n",
              "    </tr>\n",
              "    <tr>\n",
              "      <th>38</th>\n",
              "      <td>male</td>\n",
              "      <td>1</td>\n",
              "    </tr>\n",
              "    <tr>\n",
              "      <th>39</th>\n",
              "      <td>male</td>\n",
              "      <td>1</td>\n",
              "    </tr>\n",
              "    <tr>\n",
              "      <th>40</th>\n",
              "      <td>male</td>\n",
              "      <td>1</td>\n",
              "    </tr>\n",
              "    <tr>\n",
              "      <th>41</th>\n",
              "      <td>female</td>\n",
              "      <td>2</td>\n",
              "    </tr>\n",
              "    <tr>\n",
              "      <th>42</th>\n",
              "      <td>male</td>\n",
              "      <td>1</td>\n",
              "    </tr>\n",
              "    <tr>\n",
              "      <th>43</th>\n",
              "      <td>female</td>\n",
              "      <td>2</td>\n",
              "    </tr>\n",
              "    <tr>\n",
              "      <th>44</th>\n",
              "      <td>female</td>\n",
              "      <td>2</td>\n",
              "    </tr>\n",
              "    <tr>\n",
              "      <th>45</th>\n",
              "      <td>male</td>\n",
              "      <td>1</td>\n",
              "    </tr>\n",
              "    <tr>\n",
              "      <th>46</th>\n",
              "      <td>NaN</td>\n",
              "      <td>2</td>\n",
              "    </tr>\n",
              "    <tr>\n",
              "      <th>47</th>\n",
              "      <td>female</td>\n",
              "      <td>2</td>\n",
              "    </tr>\n",
              "    <tr>\n",
              "      <th>48</th>\n",
              "      <td>NaN</td>\n",
              "      <td>1</td>\n",
              "    </tr>\n",
              "    <tr>\n",
              "      <th>49</th>\n",
              "      <td>male</td>\n",
              "      <td>Nan</td>\n",
              "    </tr>\n",
              "  </tbody>\n",
              "</table>\n",
              "</div>\n",
              "      <button class=\"colab-df-convert\" onclick=\"convertToInteractive('df-ca4a0437-ecd3-4313-96f2-4f771b33eda7')\"\n",
              "              title=\"Convert this dataframe to an interactive table.\"\n",
              "              style=\"display:none;\">\n",
              "        \n",
              "  <svg xmlns=\"http://www.w3.org/2000/svg\" height=\"24px\"viewBox=\"0 0 24 24\"\n",
              "       width=\"24px\">\n",
              "    <path d=\"M0 0h24v24H0V0z\" fill=\"none\"/>\n",
              "    <path d=\"M18.56 5.44l.94 2.06.94-2.06 2.06-.94-2.06-.94-.94-2.06-.94 2.06-2.06.94zm-11 1L8.5 8.5l.94-2.06 2.06-.94-2.06-.94L8.5 2.5l-.94 2.06-2.06.94zm10 10l.94 2.06.94-2.06 2.06-.94-2.06-.94-.94-2.06-.94 2.06-2.06.94z\"/><path d=\"M17.41 7.96l-1.37-1.37c-.4-.4-.92-.59-1.43-.59-.52 0-1.04.2-1.43.59L10.3 9.45l-7.72 7.72c-.78.78-.78 2.05 0 2.83L4 21.41c.39.39.9.59 1.41.59.51 0 1.02-.2 1.41-.59l7.78-7.78 2.81-2.81c.8-.78.8-2.07 0-2.86zM5.41 20L4 18.59l7.72-7.72 1.47 1.35L5.41 20z\"/>\n",
              "  </svg>\n",
              "      </button>\n",
              "      \n",
              "  <style>\n",
              "    .colab-df-container {\n",
              "      display:flex;\n",
              "      flex-wrap:wrap;\n",
              "      gap: 12px;\n",
              "    }\n",
              "\n",
              "    .colab-df-convert {\n",
              "      background-color: #E8F0FE;\n",
              "      border: none;\n",
              "      border-radius: 50%;\n",
              "      cursor: pointer;\n",
              "      display: none;\n",
              "      fill: #1967D2;\n",
              "      height: 32px;\n",
              "      padding: 0 0 0 0;\n",
              "      width: 32px;\n",
              "    }\n",
              "\n",
              "    .colab-df-convert:hover {\n",
              "      background-color: #E2EBFA;\n",
              "      box-shadow: 0px 1px 2px rgba(60, 64, 67, 0.3), 0px 1px 3px 1px rgba(60, 64, 67, 0.15);\n",
              "      fill: #174EA6;\n",
              "    }\n",
              "\n",
              "    [theme=dark] .colab-df-convert {\n",
              "      background-color: #3B4455;\n",
              "      fill: #D2E3FC;\n",
              "    }\n",
              "\n",
              "    [theme=dark] .colab-df-convert:hover {\n",
              "      background-color: #434B5C;\n",
              "      box-shadow: 0px 1px 3px 1px rgba(0, 0, 0, 0.15);\n",
              "      filter: drop-shadow(0px 1px 2px rgba(0, 0, 0, 0.3));\n",
              "      fill: #FFFFFF;\n",
              "    }\n",
              "  </style>\n",
              "\n",
              "      <script>\n",
              "        const buttonEl =\n",
              "          document.querySelector('#df-ca4a0437-ecd3-4313-96f2-4f771b33eda7 button.colab-df-convert');\n",
              "        buttonEl.style.display =\n",
              "          google.colab.kernel.accessAllowed ? 'block' : 'none';\n",
              "\n",
              "        async function convertToInteractive(key) {\n",
              "          const element = document.querySelector('#df-ca4a0437-ecd3-4313-96f2-4f771b33eda7');\n",
              "          const dataTable =\n",
              "            await google.colab.kernel.invokeFunction('convertToInteractive',\n",
              "                                                     [key], {});\n",
              "          if (!dataTable) return;\n",
              "\n",
              "          const docLinkHtml = 'Like what you see? Visit the ' +\n",
              "            '<a target=\"_blank\" href=https://colab.research.google.com/notebooks/data_table.ipynb>data table notebook</a>'\n",
              "            + ' to learn more about interactive tables.';\n",
              "          element.innerHTML = '';\n",
              "          dataTable['output_type'] = 'display_data';\n",
              "          await google.colab.output.renderOutput(dataTable, element);\n",
              "          const docLink = document.createElement('div');\n",
              "          docLink.innerHTML = docLinkHtml;\n",
              "          element.appendChild(docLink);\n",
              "        }\n",
              "      </script>\n",
              "    </div>\n",
              "  </div>\n",
              "  "
            ]
          },
          "metadata": {},
          "execution_count": 68
        }
      ]
    },
    {
      "cell_type": "code",
      "source": [
        "pd.isna(df.iloc[:,2]).sum()"
      ],
      "metadata": {
        "colab": {
          "base_uri": "https://localhost:8080/"
        },
        "id": "Vrt28Lr4tIxz",
        "outputId": "cb1d6c2f-31c2-4029-c798-65a6d263c5f8"
      },
      "execution_count": 51,
      "outputs": [
        {
          "output_type": "execute_result",
          "data": {
            "text/plain": [
              "7"
            ]
          },
          "metadata": {},
          "execution_count": 51
        }
      ]
    },
    {
      "cell_type": "code",
      "source": [
        "pd.isna(df.iloc[:,-5]).sum()"
      ],
      "metadata": {
        "colab": {
          "base_uri": "https://localhost:8080/"
        },
        "id": "2AXMG4uFxSEQ",
        "outputId": "2ad45b31-53d1-4a5b-afce-b3e62b8fa5d1"
      },
      "execution_count": 52,
      "outputs": [
        {
          "output_type": "execute_result",
          "data": {
            "text/plain": [
              "0"
            ]
          },
          "metadata": {},
          "execution_count": 52
        }
      ]
    },
    {
      "cell_type": "markdown",
      "source": [
        "La columna SEX_y no contiene valores NaN, los valores distintos a 1 o 2 son Nan lo cual no es igual a NaN, por ese motivo la función anterior devuelve 0.\n",
        "Primero, reemplazaré "
      ],
      "metadata": {
        "id": "MVz5ivWtymkH"
      }
    },
    {
      "cell_type": "code",
      "source": [
        "df['SEX_y'] = df['SEX_y'].replace('1','female')"
      ],
      "metadata": {
        "id": "1TG0-v2n139p"
      },
      "execution_count": 53,
      "outputs": []
    },
    {
      "cell_type": "code",
      "source": [
        "df['SEX_y'] = df['SEX_y'].replace('2','male')"
      ],
      "metadata": {
        "id": "WnIgJX3G1-dh"
      },
      "execution_count": 54,
      "outputs": []
    },
    {
      "cell_type": "code",
      "source": [
        "df['SEX_y']"
      ],
      "metadata": {
        "id": "bKr7Kb7n2E0k",
        "colab": {
          "base_uri": "https://localhost:8080/"
        },
        "outputId": "e299ae65-adb8-4d22-b8b5-976a30878400"
      },
      "execution_count": 73,
      "outputs": [
        {
          "output_type": "execute_result",
          "data": {
            "text/plain": [
              "0       male\n",
              "1       male\n",
              "2       male\n",
              "3       male\n",
              "4     female\n",
              "5     female\n",
              "6     female\n",
              "7       male\n",
              "8       male\n",
              "9     female\n",
              "10      male\n",
              "11      male\n",
              "12      male\n",
              "13       Nan\n",
              "14    female\n",
              "15      male\n",
              "16    female\n",
              "17    female\n",
              "18       Nan\n",
              "19      male\n",
              "20      male\n",
              "21      male\n",
              "22       Nan\n",
              "23      male\n",
              "24       Nan\n",
              "25    female\n",
              "26    female\n",
              "27      male\n",
              "28      male\n",
              "29    female\n",
              "30      male\n",
              "31    female\n",
              "32    female\n",
              "33      male\n",
              "34    female\n",
              "35    female\n",
              "36       Nan\n",
              "37      male\n",
              "38    female\n",
              "39    female\n",
              "40    female\n",
              "41      male\n",
              "42    female\n",
              "43      male\n",
              "44      male\n",
              "45    female\n",
              "46      male\n",
              "47      male\n",
              "48    female\n",
              "49       Nan\n",
              "Name: SEX_y, dtype: object"
            ]
          },
          "metadata": {},
          "execution_count": 73
        }
      ]
    },
    {
      "cell_type": "code",
      "source": [
        "df['SEX_x']"
      ],
      "metadata": {
        "id": "mLfZzbGF55tI",
        "colab": {
          "base_uri": "https://localhost:8080/"
        },
        "outputId": "4ccc34ce-f1c8-433a-bf3b-08d92dc575fc"
      },
      "execution_count": 60,
      "outputs": [
        {
          "output_type": "execute_result",
          "data": {
            "text/plain": [
              "0     female\n",
              "1       male\n",
              "2     female\n",
              "3     female\n",
              "4       male\n",
              "5       male\n",
              "6       male\n",
              "7     female\n",
              "8       male\n",
              "9       male\n",
              "10    female\n",
              "11      male\n",
              "12    female\n",
              "13      male\n",
              "14      male\n",
              "15    female\n",
              "16      male\n",
              "17      male\n",
              "18    female\n",
              "19    female\n",
              "20    female\n",
              "21      male\n",
              "22    female\n",
              "23    female\n",
              "24      male\n",
              "25      male\n",
              "26      male\n",
              "27    female\n",
              "28    female\n",
              "29      male\n",
              "30    female\n",
              "31    female\n",
              "32      male\n",
              "33    female\n",
              "34      male\n",
              "35      male\n",
              "36      male\n",
              "37    female\n",
              "38      male\n",
              "39      male\n",
              "40      male\n",
              "41    female\n",
              "42      male\n",
              "43    female\n",
              "44    female\n",
              "45      male\n",
              "46      male\n",
              "47    female\n",
              "48    female\n",
              "49      male\n",
              "Name: SEX_x, dtype: object"
            ]
          },
          "metadata": {},
          "execution_count": 60
        }
      ]
    },
    {
      "cell_type": "markdown",
      "source": [
        "Para confirmar si hay NaN en la columna SEX_x"
      ],
      "metadata": {
        "id": "yb31GnEiCKk7"
      }
    },
    {
      "cell_type": "code",
      "source": [
        "df['SEX_x'].isnull(). values. any()"
      ],
      "metadata": {
        "colab": {
          "base_uri": "https://localhost:8080/"
        },
        "id": "jBwrXREk_oux",
        "outputId": "87517809-aefa-4f02-b755-09e0f5cbaa6e"
      },
      "execution_count": 55,
      "outputs": [
        {
          "output_type": "execute_result",
          "data": {
            "text/plain": [
              "True"
            ]
          },
          "metadata": {},
          "execution_count": 55
        }
      ]
    },
    {
      "cell_type": "markdown",
      "source": [
        "Para confirmar si hay NaN en la columna SEX_y"
      ],
      "metadata": {
        "id": "EwzUEzlECH9p"
      }
    },
    {
      "cell_type": "code",
      "source": [
        "df['SEX_y'].isnull(). values. any()"
      ],
      "metadata": {
        "colab": {
          "base_uri": "https://localhost:8080/"
        },
        "id": "hbNQ13IH_4eZ",
        "outputId": "59cc0e5b-67cc-4e8a-ec06-bf9dbd1e4182"
      },
      "execution_count": 56,
      "outputs": [
        {
          "output_type": "execute_result",
          "data": {
            "text/plain": [
              "False"
            ]
          },
          "metadata": {},
          "execution_count": 56
        }
      ]
    },
    {
      "cell_type": "code",
      "source": [
        "df['SEX_x'] = df['SEX_x'].fillna(df['SEX_y'])"
      ],
      "metadata": {
        "id": "v1R2BxHHAlwA"
      },
      "execution_count": 57,
      "outputs": []
    },
    {
      "cell_type": "markdown",
      "source": [
        "Con la función anterior **fillna**, logré reemplazar los NaN de la columna SEX_x por el valor que existiese en SEX_y para ese mismo registro. \n",
        "\n",
        "Aplicando la función np.where con np.nan vistas en clases no me funciono.\n",
        "\n",
        "ynan = np.where(df['SEX_x']==np.nan, df['SEX_y'], df['SEX_x'])\n",
        "df['Sex'] = np.where(df['SEX_x']==df['SEX_y'], df['SEX_x'], ynan)\n",
        "\n",
        "Incluso, si ejecutaba solamente: df['SEX_x']==np.nan, me tenia que traer TRUE en algunas filas y no lo hace"
      ],
      "metadata": {
        "id": "4moGhl4ABIDV"
      }
    },
    {
      "cell_type": "code",
      "source": [
        "df = df.drop(labels=[\"SEX_y\"], axis=1)"
      ],
      "metadata": {
        "id": "Rw2Y14lRBtVR"
      },
      "execution_count": 58,
      "outputs": []
    },
    {
      "cell_type": "code",
      "source": [
        "df.columns"
      ],
      "metadata": {
        "id": "1aBpcTvvHBY5",
        "colab": {
          "base_uri": "https://localhost:8080/"
        },
        "outputId": "4827430b-3d3e-4f28-89d7-8bba632f8264"
      },
      "execution_count": 59,
      "outputs": [
        {
          "output_type": "execute_result",
          "data": {
            "text/plain": [
              "Index(['ID', 'LIMIT_BAL_x', 'SEX_x', 'BILL_AMT1', 'BILL_AMT2', 'BILL_AMT3',\n",
              "       'BILL_AMT4', 'BILL_AMT5', 'BILL_AMT6', 'LIMIT_BAL_y', 'AGE_x', 'PAY_0',\n",
              "       'PAY_2', 'PAY_3', 'PAY_4', 'PAY_5', 'PAY_6', 'LIMIT_BAL', 'EDUCATION_x',\n",
              "       'PAY_AMT1', 'PAY_AMT2', 'PAY_AMT3', 'PAY_AMT4', 'PAY_AMT5', 'PAY_AMT6',\n",
              "       'EDUCATION_y', 'MARRIAGE', 'AGE_y', 'default.payment.next.month'],\n",
              "      dtype='object')"
            ]
          },
          "metadata": {},
          "execution_count": 59
        }
      ]
    },
    {
      "cell_type": "markdown",
      "source": [
        "# Trabajar sobre columnas **EDUCATION**"
      ],
      "metadata": {
        "id": "oYf79qwKCwk6"
      }
    },
    {
      "cell_type": "code",
      "source": [
        "df.dtypes"
      ],
      "metadata": {
        "id": "m1SfXysSDEUw"
      },
      "execution_count": null,
      "outputs": []
    },
    {
      "cell_type": "code",
      "source": [
        "df.columns"
      ],
      "metadata": {
        "colab": {
          "base_uri": "https://localhost:8080/"
        },
        "id": "L_eJc_KVthW7",
        "outputId": "1b113f62-5275-4111-c7bc-d0f201b42866"
      },
      "execution_count": 63,
      "outputs": [
        {
          "output_type": "execute_result",
          "data": {
            "text/plain": [
              "Index(['ID', 'LIMIT_BAL_x', 'SEX_x', 'BILL_AMT1', 'BILL_AMT2', 'BILL_AMT3',\n",
              "       'BILL_AMT4', 'BILL_AMT5', 'BILL_AMT6', 'LIMIT_BAL_y', 'AGE_x', 'PAY_0',\n",
              "       'PAY_2', 'PAY_3', 'PAY_4', 'PAY_5', 'PAY_6', 'LIMIT_BAL', 'EDUCATION_x',\n",
              "       'PAY_AMT1', 'PAY_AMT2', 'PAY_AMT3', 'PAY_AMT4', 'PAY_AMT5', 'PAY_AMT6',\n",
              "       'EDUCATION_y', 'MARRIAGE', 'AGE_y', 'default.payment.next.month'],\n",
              "      dtype='object')"
            ]
          },
          "metadata": {},
          "execution_count": 63
        }
      ]
    },
    {
      "cell_type": "code",
      "source": [
        "df.iloc[:,[-11,-4]]"
      ],
      "metadata": {
        "colab": {
          "base_uri": "https://localhost:8080/",
          "height": 1000
        },
        "id": "e53ZKf3kDQ0V",
        "outputId": "7228148b-b4ce-4929-dc7a-a79f731d5f7c"
      },
      "execution_count": 65,
      "outputs": [
        {
          "output_type": "execute_result",
          "data": {
            "text/plain": [
              "   EDUCATION_x  EDUCATION_y\n",
              "0            2          2.0\n",
              "1            2          2.0\n",
              "2         Null          2.0\n",
              "3            2          NaN\n",
              "4            2          2.0\n",
              "5            1          1.0\n",
              "6            1          NaN\n",
              "7            2          2.0\n",
              "8            3          3.0\n",
              "9         Null          3.0\n",
              "10           3          3.0\n",
              "11           1          1.0\n",
              "12        Null          2.0\n",
              "13           2          2.0\n",
              "14           1          1.0\n",
              "15           3          3.0\n",
              "16           1          1.0\n",
              "17           1          1.0\n",
              "18           1          1.0\n",
              "19           1          1.0\n",
              "20           3          3.0\n",
              "21           2          2.0\n",
              "22           2          2.0\n",
              "23        Null          1.0\n",
              "24           1          1.0\n",
              "25           3          3.0\n",
              "26           1          NaN\n",
              "27           3          NaN\n",
              "28           3          3.0\n",
              "29           1          1.0\n",
              "30           1          1.0\n",
              "31           2          2.0\n",
              "32        Null          1.0\n",
              "33           2          2.0\n",
              "34           1          1.0\n",
              "35           1          1.0\n",
              "36           2          2.0\n",
              "37           2          NaN\n",
              "38           1          1.0\n",
              "39           1          1.0\n",
              "40           1          1.0\n",
              "41        Null          1.0\n",
              "42           2          2.0\n",
              "43        Null          2.0\n",
              "44           1          1.0\n",
              "45           1          1.0\n",
              "46           1          1.0\n",
              "47           5          NaN\n",
              "48           2          2.0\n",
              "49           1          1.0"
            ],
            "text/html": [
              "\n",
              "  <div id=\"df-3128dda6-c4e0-4265-8fb9-65b7e1056ef4\">\n",
              "    <div class=\"colab-df-container\">\n",
              "      <div>\n",
              "<style scoped>\n",
              "    .dataframe tbody tr th:only-of-type {\n",
              "        vertical-align: middle;\n",
              "    }\n",
              "\n",
              "    .dataframe tbody tr th {\n",
              "        vertical-align: top;\n",
              "    }\n",
              "\n",
              "    .dataframe thead th {\n",
              "        text-align: right;\n",
              "    }\n",
              "</style>\n",
              "<table border=\"1\" class=\"dataframe\">\n",
              "  <thead>\n",
              "    <tr style=\"text-align: right;\">\n",
              "      <th></th>\n",
              "      <th>EDUCATION_x</th>\n",
              "      <th>EDUCATION_y</th>\n",
              "    </tr>\n",
              "  </thead>\n",
              "  <tbody>\n",
              "    <tr>\n",
              "      <th>0</th>\n",
              "      <td>2</td>\n",
              "      <td>2.0</td>\n",
              "    </tr>\n",
              "    <tr>\n",
              "      <th>1</th>\n",
              "      <td>2</td>\n",
              "      <td>2.0</td>\n",
              "    </tr>\n",
              "    <tr>\n",
              "      <th>2</th>\n",
              "      <td>Null</td>\n",
              "      <td>2.0</td>\n",
              "    </tr>\n",
              "    <tr>\n",
              "      <th>3</th>\n",
              "      <td>2</td>\n",
              "      <td>NaN</td>\n",
              "    </tr>\n",
              "    <tr>\n",
              "      <th>4</th>\n",
              "      <td>2</td>\n",
              "      <td>2.0</td>\n",
              "    </tr>\n",
              "    <tr>\n",
              "      <th>5</th>\n",
              "      <td>1</td>\n",
              "      <td>1.0</td>\n",
              "    </tr>\n",
              "    <tr>\n",
              "      <th>6</th>\n",
              "      <td>1</td>\n",
              "      <td>NaN</td>\n",
              "    </tr>\n",
              "    <tr>\n",
              "      <th>7</th>\n",
              "      <td>2</td>\n",
              "      <td>2.0</td>\n",
              "    </tr>\n",
              "    <tr>\n",
              "      <th>8</th>\n",
              "      <td>3</td>\n",
              "      <td>3.0</td>\n",
              "    </tr>\n",
              "    <tr>\n",
              "      <th>9</th>\n",
              "      <td>Null</td>\n",
              "      <td>3.0</td>\n",
              "    </tr>\n",
              "    <tr>\n",
              "      <th>10</th>\n",
              "      <td>3</td>\n",
              "      <td>3.0</td>\n",
              "    </tr>\n",
              "    <tr>\n",
              "      <th>11</th>\n",
              "      <td>1</td>\n",
              "      <td>1.0</td>\n",
              "    </tr>\n",
              "    <tr>\n",
              "      <th>12</th>\n",
              "      <td>Null</td>\n",
              "      <td>2.0</td>\n",
              "    </tr>\n",
              "    <tr>\n",
              "      <th>13</th>\n",
              "      <td>2</td>\n",
              "      <td>2.0</td>\n",
              "    </tr>\n",
              "    <tr>\n",
              "      <th>14</th>\n",
              "      <td>1</td>\n",
              "      <td>1.0</td>\n",
              "    </tr>\n",
              "    <tr>\n",
              "      <th>15</th>\n",
              "      <td>3</td>\n",
              "      <td>3.0</td>\n",
              "    </tr>\n",
              "    <tr>\n",
              "      <th>16</th>\n",
              "      <td>1</td>\n",
              "      <td>1.0</td>\n",
              "    </tr>\n",
              "    <tr>\n",
              "      <th>17</th>\n",
              "      <td>1</td>\n",
              "      <td>1.0</td>\n",
              "    </tr>\n",
              "    <tr>\n",
              "      <th>18</th>\n",
              "      <td>1</td>\n",
              "      <td>1.0</td>\n",
              "    </tr>\n",
              "    <tr>\n",
              "      <th>19</th>\n",
              "      <td>1</td>\n",
              "      <td>1.0</td>\n",
              "    </tr>\n",
              "    <tr>\n",
              "      <th>20</th>\n",
              "      <td>3</td>\n",
              "      <td>3.0</td>\n",
              "    </tr>\n",
              "    <tr>\n",
              "      <th>21</th>\n",
              "      <td>2</td>\n",
              "      <td>2.0</td>\n",
              "    </tr>\n",
              "    <tr>\n",
              "      <th>22</th>\n",
              "      <td>2</td>\n",
              "      <td>2.0</td>\n",
              "    </tr>\n",
              "    <tr>\n",
              "      <th>23</th>\n",
              "      <td>Null</td>\n",
              "      <td>1.0</td>\n",
              "    </tr>\n",
              "    <tr>\n",
              "      <th>24</th>\n",
              "      <td>1</td>\n",
              "      <td>1.0</td>\n",
              "    </tr>\n",
              "    <tr>\n",
              "      <th>25</th>\n",
              "      <td>3</td>\n",
              "      <td>3.0</td>\n",
              "    </tr>\n",
              "    <tr>\n",
              "      <th>26</th>\n",
              "      <td>1</td>\n",
              "      <td>NaN</td>\n",
              "    </tr>\n",
              "    <tr>\n",
              "      <th>27</th>\n",
              "      <td>3</td>\n",
              "      <td>NaN</td>\n",
              "    </tr>\n",
              "    <tr>\n",
              "      <th>28</th>\n",
              "      <td>3</td>\n",
              "      <td>3.0</td>\n",
              "    </tr>\n",
              "    <tr>\n",
              "      <th>29</th>\n",
              "      <td>1</td>\n",
              "      <td>1.0</td>\n",
              "    </tr>\n",
              "    <tr>\n",
              "      <th>30</th>\n",
              "      <td>1</td>\n",
              "      <td>1.0</td>\n",
              "    </tr>\n",
              "    <tr>\n",
              "      <th>31</th>\n",
              "      <td>2</td>\n",
              "      <td>2.0</td>\n",
              "    </tr>\n",
              "    <tr>\n",
              "      <th>32</th>\n",
              "      <td>Null</td>\n",
              "      <td>1.0</td>\n",
              "    </tr>\n",
              "    <tr>\n",
              "      <th>33</th>\n",
              "      <td>2</td>\n",
              "      <td>2.0</td>\n",
              "    </tr>\n",
              "    <tr>\n",
              "      <th>34</th>\n",
              "      <td>1</td>\n",
              "      <td>1.0</td>\n",
              "    </tr>\n",
              "    <tr>\n",
              "      <th>35</th>\n",
              "      <td>1</td>\n",
              "      <td>1.0</td>\n",
              "    </tr>\n",
              "    <tr>\n",
              "      <th>36</th>\n",
              "      <td>2</td>\n",
              "      <td>2.0</td>\n",
              "    </tr>\n",
              "    <tr>\n",
              "      <th>37</th>\n",
              "      <td>2</td>\n",
              "      <td>NaN</td>\n",
              "    </tr>\n",
              "    <tr>\n",
              "      <th>38</th>\n",
              "      <td>1</td>\n",
              "      <td>1.0</td>\n",
              "    </tr>\n",
              "    <tr>\n",
              "      <th>39</th>\n",
              "      <td>1</td>\n",
              "      <td>1.0</td>\n",
              "    </tr>\n",
              "    <tr>\n",
              "      <th>40</th>\n",
              "      <td>1</td>\n",
              "      <td>1.0</td>\n",
              "    </tr>\n",
              "    <tr>\n",
              "      <th>41</th>\n",
              "      <td>Null</td>\n",
              "      <td>1.0</td>\n",
              "    </tr>\n",
              "    <tr>\n",
              "      <th>42</th>\n",
              "      <td>2</td>\n",
              "      <td>2.0</td>\n",
              "    </tr>\n",
              "    <tr>\n",
              "      <th>43</th>\n",
              "      <td>Null</td>\n",
              "      <td>2.0</td>\n",
              "    </tr>\n",
              "    <tr>\n",
              "      <th>44</th>\n",
              "      <td>1</td>\n",
              "      <td>1.0</td>\n",
              "    </tr>\n",
              "    <tr>\n",
              "      <th>45</th>\n",
              "      <td>1</td>\n",
              "      <td>1.0</td>\n",
              "    </tr>\n",
              "    <tr>\n",
              "      <th>46</th>\n",
              "      <td>1</td>\n",
              "      <td>1.0</td>\n",
              "    </tr>\n",
              "    <tr>\n",
              "      <th>47</th>\n",
              "      <td>5</td>\n",
              "      <td>NaN</td>\n",
              "    </tr>\n",
              "    <tr>\n",
              "      <th>48</th>\n",
              "      <td>2</td>\n",
              "      <td>2.0</td>\n",
              "    </tr>\n",
              "    <tr>\n",
              "      <th>49</th>\n",
              "      <td>1</td>\n",
              "      <td>1.0</td>\n",
              "    </tr>\n",
              "  </tbody>\n",
              "</table>\n",
              "</div>\n",
              "      <button class=\"colab-df-convert\" onclick=\"convertToInteractive('df-3128dda6-c4e0-4265-8fb9-65b7e1056ef4')\"\n",
              "              title=\"Convert this dataframe to an interactive table.\"\n",
              "              style=\"display:none;\">\n",
              "        \n",
              "  <svg xmlns=\"http://www.w3.org/2000/svg\" height=\"24px\"viewBox=\"0 0 24 24\"\n",
              "       width=\"24px\">\n",
              "    <path d=\"M0 0h24v24H0V0z\" fill=\"none\"/>\n",
              "    <path d=\"M18.56 5.44l.94 2.06.94-2.06 2.06-.94-2.06-.94-.94-2.06-.94 2.06-2.06.94zm-11 1L8.5 8.5l.94-2.06 2.06-.94-2.06-.94L8.5 2.5l-.94 2.06-2.06.94zm10 10l.94 2.06.94-2.06 2.06-.94-2.06-.94-.94-2.06-.94 2.06-2.06.94z\"/><path d=\"M17.41 7.96l-1.37-1.37c-.4-.4-.92-.59-1.43-.59-.52 0-1.04.2-1.43.59L10.3 9.45l-7.72 7.72c-.78.78-.78 2.05 0 2.83L4 21.41c.39.39.9.59 1.41.59.51 0 1.02-.2 1.41-.59l7.78-7.78 2.81-2.81c.8-.78.8-2.07 0-2.86zM5.41 20L4 18.59l7.72-7.72 1.47 1.35L5.41 20z\"/>\n",
              "  </svg>\n",
              "      </button>\n",
              "      \n",
              "  <style>\n",
              "    .colab-df-container {\n",
              "      display:flex;\n",
              "      flex-wrap:wrap;\n",
              "      gap: 12px;\n",
              "    }\n",
              "\n",
              "    .colab-df-convert {\n",
              "      background-color: #E8F0FE;\n",
              "      border: none;\n",
              "      border-radius: 50%;\n",
              "      cursor: pointer;\n",
              "      display: none;\n",
              "      fill: #1967D2;\n",
              "      height: 32px;\n",
              "      padding: 0 0 0 0;\n",
              "      width: 32px;\n",
              "    }\n",
              "\n",
              "    .colab-df-convert:hover {\n",
              "      background-color: #E2EBFA;\n",
              "      box-shadow: 0px 1px 2px rgba(60, 64, 67, 0.3), 0px 1px 3px 1px rgba(60, 64, 67, 0.15);\n",
              "      fill: #174EA6;\n",
              "    }\n",
              "\n",
              "    [theme=dark] .colab-df-convert {\n",
              "      background-color: #3B4455;\n",
              "      fill: #D2E3FC;\n",
              "    }\n",
              "\n",
              "    [theme=dark] .colab-df-convert:hover {\n",
              "      background-color: #434B5C;\n",
              "      box-shadow: 0px 1px 3px 1px rgba(0, 0, 0, 0.15);\n",
              "      filter: drop-shadow(0px 1px 2px rgba(0, 0, 0, 0.3));\n",
              "      fill: #FFFFFF;\n",
              "    }\n",
              "  </style>\n",
              "\n",
              "      <script>\n",
              "        const buttonEl =\n",
              "          document.querySelector('#df-3128dda6-c4e0-4265-8fb9-65b7e1056ef4 button.colab-df-convert');\n",
              "        buttonEl.style.display =\n",
              "          google.colab.kernel.accessAllowed ? 'block' : 'none';\n",
              "\n",
              "        async function convertToInteractive(key) {\n",
              "          const element = document.querySelector('#df-3128dda6-c4e0-4265-8fb9-65b7e1056ef4');\n",
              "          const dataTable =\n",
              "            await google.colab.kernel.invokeFunction('convertToInteractive',\n",
              "                                                     [key], {});\n",
              "          if (!dataTable) return;\n",
              "\n",
              "          const docLinkHtml = 'Like what you see? Visit the ' +\n",
              "            '<a target=\"_blank\" href=https://colab.research.google.com/notebooks/data_table.ipynb>data table notebook</a>'\n",
              "            + ' to learn more about interactive tables.';\n",
              "          element.innerHTML = '';\n",
              "          dataTable['output_type'] = 'display_data';\n",
              "          await google.colab.output.renderOutput(dataTable, element);\n",
              "          const docLink = document.createElement('div');\n",
              "          docLink.innerHTML = docLinkHtml;\n",
              "          element.appendChild(docLink);\n",
              "        }\n",
              "      </script>\n",
              "    </div>\n",
              "  </div>\n",
              "  "
            ]
          },
          "metadata": {},
          "execution_count": 65
        }
      ]
    },
    {
      "cell_type": "markdown",
      "source": [
        "Para encontrar y confirmar existencia de valores NaN en ambas columnas de educación"
      ],
      "metadata": {
        "id": "T2RYxn3GI13C"
      }
    },
    {
      "cell_type": "code",
      "source": [
        "df['EDUCATION_x'].isnull(). values. any()"
      ],
      "metadata": {
        "colab": {
          "base_uri": "https://localhost:8080/"
        },
        "id": "3QPG54xdDrxY",
        "outputId": "f9c21dfd-dfaf-41a4-8df6-a1f63de45627"
      },
      "execution_count": 66,
      "outputs": [
        {
          "output_type": "execute_result",
          "data": {
            "text/plain": [
              "False"
            ]
          },
          "metadata": {},
          "execution_count": 66
        }
      ]
    },
    {
      "cell_type": "code",
      "source": [
        "df['EDUCATION_y'].isnull(). values. any()"
      ],
      "metadata": {
        "colab": {
          "base_uri": "https://localhost:8080/"
        },
        "id": "WVW4FrOaDuuy",
        "outputId": "b89d98d3-390d-42f4-df48-bad4a858e1e3"
      },
      "execution_count": 67,
      "outputs": [
        {
          "output_type": "execute_result",
          "data": {
            "text/plain": [
              "True"
            ]
          },
          "metadata": {},
          "execution_count": 67
        }
      ]
    },
    {
      "cell_type": "markdown",
      "source": [
        " Tomaré la columna EDUCATION_y por ser de tipo float y tener datos NaN, mientras que la EDUCATION_x es tipo object.\n",
        "\n",
        " Primero, reemplazo los valores NaN por 0.\n",
        " Segundo, elimino los dos caracteres de la derecha (el punto y el  decimal), dejando unicamente el valor entero.\n",
        "\n",
        " Por último, con la función where de libreria Numpy, para los valores 0 de la columna EDUCATION_y, se reemplazará por el valor de la columna EDUCATION_x, de lo contrario debe permanecer el valor de la columna EDUCATION_y"
      ],
      "metadata": {
        "id": "eHdQPSemGOgE"
      }
    },
    {
      "cell_type": "code",
      "source": [
        "df['EDUCATION_y'] = df['EDUCATION_y'].fillna(0)"
      ],
      "metadata": {
        "id": "-amDIlZYD5d5"
      },
      "execution_count": 68,
      "outputs": []
    },
    {
      "cell_type": "code",
      "source": [
        "df['EDUCATION_y'] = df['EDUCATION_y'].astype(str).str[:-2]"
      ],
      "metadata": {
        "id": "06aRepgvDE7p"
      },
      "execution_count": 69,
      "outputs": []
    },
    {
      "cell_type": "code",
      "source": [
        "df['EDUCATION_y'] = np.where(df['EDUCATION_y']=='0', df['EDUCATION_x'], df['EDUCATION_y'])"
      ],
      "metadata": {
        "id": "WZHIXCYqDlkV"
      },
      "execution_count": 70,
      "outputs": []
    },
    {
      "cell_type": "markdown",
      "source": [
        "Confirmo que no existen datos NaN en la columna EDUCATION_y"
      ],
      "metadata": {
        "id": "IxBZMLIBHpDa"
      }
    },
    {
      "cell_type": "code",
      "source": [
        "pd.isna(df['EDUCATION_y']).sum()"
      ],
      "metadata": {
        "colab": {
          "base_uri": "https://localhost:8080/"
        },
        "id": "uZgVc7CpHtxZ",
        "outputId": "5c4991d8-8237-4db1-d767-31d49d5baf98"
      },
      "execution_count": 71,
      "outputs": [
        {
          "output_type": "execute_result",
          "data": {
            "text/plain": [
              "0"
            ]
          },
          "metadata": {},
          "execution_count": 71
        }
      ]
    },
    {
      "cell_type": "markdown",
      "source": [
        "Elimino la columna EDUCATION_x"
      ],
      "metadata": {
        "id": "KTAZOyDiIRI8"
      }
    },
    {
      "cell_type": "code",
      "source": [
        "df = df.drop(labels=[\"EDUCATION_x\"], axis=1)"
      ],
      "metadata": {
        "id": "3yhMi5s6Imwi"
      },
      "execution_count": 72,
      "outputs": []
    },
    {
      "cell_type": "code",
      "source": [
        "df_copia=df"
      ],
      "metadata": {
        "id": "8iy15bRdHKpa"
      },
      "execution_count": 88,
      "outputs": []
    },
    {
      "cell_type": "markdown",
      "source": [
        "Consulto las columnas de mi dataframe"
      ],
      "metadata": {
        "id": "wpBSiZcNI7M1"
      }
    },
    {
      "cell_type": "code",
      "source": [
        "df.columns"
      ],
      "metadata": {
        "colab": {
          "base_uri": "https://localhost:8080/"
        },
        "id": "AwnT7SZWI-Qp",
        "outputId": "02413462-ee34-4a8b-96ba-aa8b83c48360"
      },
      "execution_count": 73,
      "outputs": [
        {
          "output_type": "execute_result",
          "data": {
            "text/plain": [
              "Index(['ID', 'LIMIT_BAL_x', 'SEX_x', 'BILL_AMT1', 'BILL_AMT2', 'BILL_AMT3',\n",
              "       'BILL_AMT4', 'BILL_AMT5', 'BILL_AMT6', 'LIMIT_BAL_y', 'AGE_x', 'PAY_0',\n",
              "       'PAY_2', 'PAY_3', 'PAY_4', 'PAY_5', 'PAY_6', 'LIMIT_BAL', 'PAY_AMT1',\n",
              "       'PAY_AMT2', 'PAY_AMT3', 'PAY_AMT4', 'PAY_AMT5', 'PAY_AMT6',\n",
              "       'EDUCATION_y', 'MARRIAGE', 'AGE_y', 'default.payment.next.month'],\n",
              "      dtype='object')"
            ]
          },
          "metadata": {},
          "execution_count": 73
        }
      ]
    },
    {
      "cell_type": "markdown",
      "source": [
        "# Trabajar sobre columna **MARRIAGE**"
      ],
      "metadata": {
        "id": "xewrtYb1KDx-"
      }
    },
    {
      "cell_type": "markdown",
      "source": [
        "Esta columna no se repite, existia en una única fuente de datos"
      ],
      "metadata": {
        "id": "QxRwznspKKYB"
      }
    },
    {
      "cell_type": "code",
      "source": [
        "df['MARRIAGE'].dtype"
      ],
      "metadata": {
        "colab": {
          "base_uri": "https://localhost:8080/"
        },
        "id": "ILGU9-NoKXEo",
        "outputId": "1c3fb7f8-3b33-4351-b245-b271c20a4b4b"
      },
      "execution_count": 74,
      "outputs": [
        {
          "output_type": "execute_result",
          "data": {
            "text/plain": [
              "dtype('int64')"
            ]
          },
          "metadata": {},
          "execution_count": 74
        }
      ]
    },
    {
      "cell_type": "code",
      "source": [
        "df['MARRIAGE'].nunique()"
      ],
      "metadata": {
        "colab": {
          "base_uri": "https://localhost:8080/"
        },
        "id": "Wyhcm35cKisS",
        "outputId": "18306fd9-52a2-46bd-c1d2-388663c7dece"
      },
      "execution_count": 75,
      "outputs": [
        {
          "output_type": "execute_result",
          "data": {
            "text/plain": [
              "3"
            ]
          },
          "metadata": {},
          "execution_count": 75
        }
      ]
    },
    {
      "cell_type": "code",
      "source": [
        "pd.isna(df['MARRIAGE']).sum()"
      ],
      "metadata": {
        "colab": {
          "base_uri": "https://localhost:8080/"
        },
        "id": "ZngsslU9Kt3r",
        "outputId": "a818e467-ee23-4a6f-e282-50b613ae2865"
      },
      "execution_count": 76,
      "outputs": [
        {
          "output_type": "execute_result",
          "data": {
            "text/plain": [
              "0"
            ]
          },
          "metadata": {},
          "execution_count": 76
        }
      ]
    },
    {
      "cell_type": "markdown",
      "source": [
        "Se confirma que no existen datos NaN"
      ],
      "metadata": {
        "id": "-b0AVc4MLGU6"
      }
    },
    {
      "cell_type": "code",
      "source": [
        "df['MARRIAGE'].describe()"
      ],
      "metadata": {
        "colab": {
          "base_uri": "https://localhost:8080/"
        },
        "id": "-n7VosTuLJ0c",
        "outputId": "2692ca2a-84a2-4154-f478-40581aa45826"
      },
      "execution_count": 77,
      "outputs": [
        {
          "output_type": "execute_result",
          "data": {
            "text/plain": [
              "count    50.000000\n",
              "mean      1.760000\n",
              "std       0.476381\n",
              "min       1.000000\n",
              "25%       1.250000\n",
              "50%       2.000000\n",
              "75%       2.000000\n",
              "max       3.000000\n",
              "Name: MARRIAGE, dtype: float64"
            ]
          },
          "metadata": {},
          "execution_count": 77
        }
      ]
    },
    {
      "cell_type": "markdown",
      "source": [
        "Con la función describe se evalua que son valores enteros entre 1 y 3. Es decir no hay valores fuera del rango que ocasionen una dispersión anormal."
      ],
      "metadata": {
        "id": "1t8hw8GBLi2R"
      }
    },
    {
      "cell_type": "code",
      "source": [
        "df['Marriage']=df['MARRIAGE']"
      ],
      "metadata": {
        "id": "OSH6FVJmLzjG"
      },
      "execution_count": 78,
      "outputs": []
    },
    {
      "cell_type": "code",
      "source": [
        "df = df.drop(labels=[\"MARRIAGE\"], axis=1)"
      ],
      "metadata": {
        "id": "bZyFiP9JMJRB"
      },
      "execution_count": 79,
      "outputs": []
    },
    {
      "cell_type": "markdown",
      "source": [
        "Se guarda la información en una columna con nombre exacto al solicitado en la fuente única de salida y se elimina la original."
      ],
      "metadata": {
        "id": "MyKAwvd_MBaC"
      }
    },
    {
      "cell_type": "markdown",
      "source": [
        "# Trabajar sobre columnas **AGE**"
      ],
      "metadata": {
        "id": "FdWV1vtlMx2P"
      }
    },
    {
      "cell_type": "code",
      "source": [
        "df.columns"
      ],
      "metadata": {
        "colab": {
          "base_uri": "https://localhost:8080/"
        },
        "id": "FULcl-xnMk5x",
        "outputId": "6895439b-5325-4b71-8e89-ddfe954734d4"
      },
      "execution_count": 80,
      "outputs": [
        {
          "output_type": "execute_result",
          "data": {
            "text/plain": [
              "Index(['ID', 'LIMIT_BAL_x', 'SEX_x', 'BILL_AMT1', 'BILL_AMT2', 'BILL_AMT3',\n",
              "       'BILL_AMT4', 'BILL_AMT5', 'BILL_AMT6', 'LIMIT_BAL_y', 'AGE_x', 'PAY_0',\n",
              "       'PAY_2', 'PAY_3', 'PAY_4', 'PAY_5', 'PAY_6', 'LIMIT_BAL', 'PAY_AMT1',\n",
              "       'PAY_AMT2', 'PAY_AMT3', 'PAY_AMT4', 'PAY_AMT5', 'PAY_AMT6',\n",
              "       'EDUCATION_y', 'AGE_y', 'default.payment.next.month', 'Marriage'],\n",
              "      dtype='object')"
            ]
          },
          "metadata": {},
          "execution_count": 80
        }
      ]
    },
    {
      "cell_type": "code",
      "source": [
        "df.iloc[:,[10,-3]]"
      ],
      "metadata": {
        "colab": {
          "base_uri": "https://localhost:8080/",
          "height": 1000
        },
        "id": "jo06I_fNNsBs",
        "outputId": "0ce2718e-89e1-458b-92d2-f007509d75a3"
      },
      "execution_count": 100,
      "outputs": [
        {
          "output_type": "execute_result",
          "data": {
            "text/plain": [
              "       AGE_x  AGE_y\n",
              "0    No info   24.0\n",
              "1   26 years   26.0\n",
              "2   34 years   34.0\n",
              "3   37 years   37.0\n",
              "4   57 years   57.0\n",
              "5    No info   37.0\n",
              "6   29 years   29.0\n",
              "7   23 years   23.0\n",
              "8   28 years   28.0\n",
              "9   35 years   35.0\n",
              "10  34 years    0.0\n",
              "11  51 years   51.0\n",
              "12  41 years   41.0\n",
              "13  30 years   30.0\n",
              "14  29 years   29.0\n",
              "15   No info   23.0\n",
              "16  24 years   24.0\n",
              "17  49 years   49.0\n",
              "18  49 years   49.0\n",
              "19  29 years   29.0\n",
              "20   No info   39.0\n",
              "21  39 years   39.0\n",
              "22  26 years   26.0\n",
              "23  40 years   40.0\n",
              "24  23 years   23.0\n",
              "25  23 years    0.0\n",
              "26  27 years   27.0\n",
              "27  30 years   30.0\n",
              "28  47 years   47.0\n",
              "29  26 years   26.0\n",
              "30  27 years    0.0\n",
              "31  33 years   33.0\n",
              "32  32 years   32.0\n",
              "33  54 years    0.0\n",
              "34  58 years   58.0\n",
              "35   No info   30.0\n",
              "36  40 years   40.0\n",
              "37  22 years   22.0\n",
              "38  25 years   25.0\n",
              "39  31 years   31.0\n",
              "40   No info   33.0\n",
              "41  25 years   25.0\n",
              "42  22 years    0.0\n",
              "43  37 years    0.0\n",
              "44  30 years   30.0\n",
              "45   No info   29.0\n",
              "46  22 years   22.0\n",
              "47  46 years   46.0\n",
              "48  32 years   32.0\n",
              "49  24 years   24.0"
            ],
            "text/html": [
              "\n",
              "  <div id=\"df-469251b4-8869-48e9-b8cc-5be9bc53b5b9\">\n",
              "    <div class=\"colab-df-container\">\n",
              "      <div>\n",
              "<style scoped>\n",
              "    .dataframe tbody tr th:only-of-type {\n",
              "        vertical-align: middle;\n",
              "    }\n",
              "\n",
              "    .dataframe tbody tr th {\n",
              "        vertical-align: top;\n",
              "    }\n",
              "\n",
              "    .dataframe thead th {\n",
              "        text-align: right;\n",
              "    }\n",
              "</style>\n",
              "<table border=\"1\" class=\"dataframe\">\n",
              "  <thead>\n",
              "    <tr style=\"text-align: right;\">\n",
              "      <th></th>\n",
              "      <th>AGE_x</th>\n",
              "      <th>AGE_y</th>\n",
              "    </tr>\n",
              "  </thead>\n",
              "  <tbody>\n",
              "    <tr>\n",
              "      <th>0</th>\n",
              "      <td>No info</td>\n",
              "      <td>24.0</td>\n",
              "    </tr>\n",
              "    <tr>\n",
              "      <th>1</th>\n",
              "      <td>26 years</td>\n",
              "      <td>26.0</td>\n",
              "    </tr>\n",
              "    <tr>\n",
              "      <th>2</th>\n",
              "      <td>34 years</td>\n",
              "      <td>34.0</td>\n",
              "    </tr>\n",
              "    <tr>\n",
              "      <th>3</th>\n",
              "      <td>37 years</td>\n",
              "      <td>37.0</td>\n",
              "    </tr>\n",
              "    <tr>\n",
              "      <th>4</th>\n",
              "      <td>57 years</td>\n",
              "      <td>57.0</td>\n",
              "    </tr>\n",
              "    <tr>\n",
              "      <th>5</th>\n",
              "      <td>No info</td>\n",
              "      <td>37.0</td>\n",
              "    </tr>\n",
              "    <tr>\n",
              "      <th>6</th>\n",
              "      <td>29 years</td>\n",
              "      <td>29.0</td>\n",
              "    </tr>\n",
              "    <tr>\n",
              "      <th>7</th>\n",
              "      <td>23 years</td>\n",
              "      <td>23.0</td>\n",
              "    </tr>\n",
              "    <tr>\n",
              "      <th>8</th>\n",
              "      <td>28 years</td>\n",
              "      <td>28.0</td>\n",
              "    </tr>\n",
              "    <tr>\n",
              "      <th>9</th>\n",
              "      <td>35 years</td>\n",
              "      <td>35.0</td>\n",
              "    </tr>\n",
              "    <tr>\n",
              "      <th>10</th>\n",
              "      <td>34 years</td>\n",
              "      <td>0.0</td>\n",
              "    </tr>\n",
              "    <tr>\n",
              "      <th>11</th>\n",
              "      <td>51 years</td>\n",
              "      <td>51.0</td>\n",
              "    </tr>\n",
              "    <tr>\n",
              "      <th>12</th>\n",
              "      <td>41 years</td>\n",
              "      <td>41.0</td>\n",
              "    </tr>\n",
              "    <tr>\n",
              "      <th>13</th>\n",
              "      <td>30 years</td>\n",
              "      <td>30.0</td>\n",
              "    </tr>\n",
              "    <tr>\n",
              "      <th>14</th>\n",
              "      <td>29 years</td>\n",
              "      <td>29.0</td>\n",
              "    </tr>\n",
              "    <tr>\n",
              "      <th>15</th>\n",
              "      <td>No info</td>\n",
              "      <td>23.0</td>\n",
              "    </tr>\n",
              "    <tr>\n",
              "      <th>16</th>\n",
              "      <td>24 years</td>\n",
              "      <td>24.0</td>\n",
              "    </tr>\n",
              "    <tr>\n",
              "      <th>17</th>\n",
              "      <td>49 years</td>\n",
              "      <td>49.0</td>\n",
              "    </tr>\n",
              "    <tr>\n",
              "      <th>18</th>\n",
              "      <td>49 years</td>\n",
              "      <td>49.0</td>\n",
              "    </tr>\n",
              "    <tr>\n",
              "      <th>19</th>\n",
              "      <td>29 years</td>\n",
              "      <td>29.0</td>\n",
              "    </tr>\n",
              "    <tr>\n",
              "      <th>20</th>\n",
              "      <td>No info</td>\n",
              "      <td>39.0</td>\n",
              "    </tr>\n",
              "    <tr>\n",
              "      <th>21</th>\n",
              "      <td>39 years</td>\n",
              "      <td>39.0</td>\n",
              "    </tr>\n",
              "    <tr>\n",
              "      <th>22</th>\n",
              "      <td>26 years</td>\n",
              "      <td>26.0</td>\n",
              "    </tr>\n",
              "    <tr>\n",
              "      <th>23</th>\n",
              "      <td>40 years</td>\n",
              "      <td>40.0</td>\n",
              "    </tr>\n",
              "    <tr>\n",
              "      <th>24</th>\n",
              "      <td>23 years</td>\n",
              "      <td>23.0</td>\n",
              "    </tr>\n",
              "    <tr>\n",
              "      <th>25</th>\n",
              "      <td>23 years</td>\n",
              "      <td>0.0</td>\n",
              "    </tr>\n",
              "    <tr>\n",
              "      <th>26</th>\n",
              "      <td>27 years</td>\n",
              "      <td>27.0</td>\n",
              "    </tr>\n",
              "    <tr>\n",
              "      <th>27</th>\n",
              "      <td>30 years</td>\n",
              "      <td>30.0</td>\n",
              "    </tr>\n",
              "    <tr>\n",
              "      <th>28</th>\n",
              "      <td>47 years</td>\n",
              "      <td>47.0</td>\n",
              "    </tr>\n",
              "    <tr>\n",
              "      <th>29</th>\n",
              "      <td>26 years</td>\n",
              "      <td>26.0</td>\n",
              "    </tr>\n",
              "    <tr>\n",
              "      <th>30</th>\n",
              "      <td>27 years</td>\n",
              "      <td>0.0</td>\n",
              "    </tr>\n",
              "    <tr>\n",
              "      <th>31</th>\n",
              "      <td>33 years</td>\n",
              "      <td>33.0</td>\n",
              "    </tr>\n",
              "    <tr>\n",
              "      <th>32</th>\n",
              "      <td>32 years</td>\n",
              "      <td>32.0</td>\n",
              "    </tr>\n",
              "    <tr>\n",
              "      <th>33</th>\n",
              "      <td>54 years</td>\n",
              "      <td>0.0</td>\n",
              "    </tr>\n",
              "    <tr>\n",
              "      <th>34</th>\n",
              "      <td>58 years</td>\n",
              "      <td>58.0</td>\n",
              "    </tr>\n",
              "    <tr>\n",
              "      <th>35</th>\n",
              "      <td>No info</td>\n",
              "      <td>30.0</td>\n",
              "    </tr>\n",
              "    <tr>\n",
              "      <th>36</th>\n",
              "      <td>40 years</td>\n",
              "      <td>40.0</td>\n",
              "    </tr>\n",
              "    <tr>\n",
              "      <th>37</th>\n",
              "      <td>22 years</td>\n",
              "      <td>22.0</td>\n",
              "    </tr>\n",
              "    <tr>\n",
              "      <th>38</th>\n",
              "      <td>25 years</td>\n",
              "      <td>25.0</td>\n",
              "    </tr>\n",
              "    <tr>\n",
              "      <th>39</th>\n",
              "      <td>31 years</td>\n",
              "      <td>31.0</td>\n",
              "    </tr>\n",
              "    <tr>\n",
              "      <th>40</th>\n",
              "      <td>No info</td>\n",
              "      <td>33.0</td>\n",
              "    </tr>\n",
              "    <tr>\n",
              "      <th>41</th>\n",
              "      <td>25 years</td>\n",
              "      <td>25.0</td>\n",
              "    </tr>\n",
              "    <tr>\n",
              "      <th>42</th>\n",
              "      <td>22 years</td>\n",
              "      <td>0.0</td>\n",
              "    </tr>\n",
              "    <tr>\n",
              "      <th>43</th>\n",
              "      <td>37 years</td>\n",
              "      <td>0.0</td>\n",
              "    </tr>\n",
              "    <tr>\n",
              "      <th>44</th>\n",
              "      <td>30 years</td>\n",
              "      <td>30.0</td>\n",
              "    </tr>\n",
              "    <tr>\n",
              "      <th>45</th>\n",
              "      <td>No info</td>\n",
              "      <td>29.0</td>\n",
              "    </tr>\n",
              "    <tr>\n",
              "      <th>46</th>\n",
              "      <td>22 years</td>\n",
              "      <td>22.0</td>\n",
              "    </tr>\n",
              "    <tr>\n",
              "      <th>47</th>\n",
              "      <td>46 years</td>\n",
              "      <td>46.0</td>\n",
              "    </tr>\n",
              "    <tr>\n",
              "      <th>48</th>\n",
              "      <td>32 years</td>\n",
              "      <td>32.0</td>\n",
              "    </tr>\n",
              "    <tr>\n",
              "      <th>49</th>\n",
              "      <td>24 years</td>\n",
              "      <td>24.0</td>\n",
              "    </tr>\n",
              "  </tbody>\n",
              "</table>\n",
              "</div>\n",
              "      <button class=\"colab-df-convert\" onclick=\"convertToInteractive('df-469251b4-8869-48e9-b8cc-5be9bc53b5b9')\"\n",
              "              title=\"Convert this dataframe to an interactive table.\"\n",
              "              style=\"display:none;\">\n",
              "        \n",
              "  <svg xmlns=\"http://www.w3.org/2000/svg\" height=\"24px\"viewBox=\"0 0 24 24\"\n",
              "       width=\"24px\">\n",
              "    <path d=\"M0 0h24v24H0V0z\" fill=\"none\"/>\n",
              "    <path d=\"M18.56 5.44l.94 2.06.94-2.06 2.06-.94-2.06-.94-.94-2.06-.94 2.06-2.06.94zm-11 1L8.5 8.5l.94-2.06 2.06-.94-2.06-.94L8.5 2.5l-.94 2.06-2.06.94zm10 10l.94 2.06.94-2.06 2.06-.94-2.06-.94-.94-2.06-.94 2.06-2.06.94z\"/><path d=\"M17.41 7.96l-1.37-1.37c-.4-.4-.92-.59-1.43-.59-.52 0-1.04.2-1.43.59L10.3 9.45l-7.72 7.72c-.78.78-.78 2.05 0 2.83L4 21.41c.39.39.9.59 1.41.59.51 0 1.02-.2 1.41-.59l7.78-7.78 2.81-2.81c.8-.78.8-2.07 0-2.86zM5.41 20L4 18.59l7.72-7.72 1.47 1.35L5.41 20z\"/>\n",
              "  </svg>\n",
              "      </button>\n",
              "      \n",
              "  <style>\n",
              "    .colab-df-container {\n",
              "      display:flex;\n",
              "      flex-wrap:wrap;\n",
              "      gap: 12px;\n",
              "    }\n",
              "\n",
              "    .colab-df-convert {\n",
              "      background-color: #E8F0FE;\n",
              "      border: none;\n",
              "      border-radius: 50%;\n",
              "      cursor: pointer;\n",
              "      display: none;\n",
              "      fill: #1967D2;\n",
              "      height: 32px;\n",
              "      padding: 0 0 0 0;\n",
              "      width: 32px;\n",
              "    }\n",
              "\n",
              "    .colab-df-convert:hover {\n",
              "      background-color: #E2EBFA;\n",
              "      box-shadow: 0px 1px 2px rgba(60, 64, 67, 0.3), 0px 1px 3px 1px rgba(60, 64, 67, 0.15);\n",
              "      fill: #174EA6;\n",
              "    }\n",
              "\n",
              "    [theme=dark] .colab-df-convert {\n",
              "      background-color: #3B4455;\n",
              "      fill: #D2E3FC;\n",
              "    }\n",
              "\n",
              "    [theme=dark] .colab-df-convert:hover {\n",
              "      background-color: #434B5C;\n",
              "      box-shadow: 0px 1px 3px 1px rgba(0, 0, 0, 0.15);\n",
              "      filter: drop-shadow(0px 1px 2px rgba(0, 0, 0, 0.3));\n",
              "      fill: #FFFFFF;\n",
              "    }\n",
              "  </style>\n",
              "\n",
              "      <script>\n",
              "        const buttonEl =\n",
              "          document.querySelector('#df-469251b4-8869-48e9-b8cc-5be9bc53b5b9 button.colab-df-convert');\n",
              "        buttonEl.style.display =\n",
              "          google.colab.kernel.accessAllowed ? 'block' : 'none';\n",
              "\n",
              "        async function convertToInteractive(key) {\n",
              "          const element = document.querySelector('#df-469251b4-8869-48e9-b8cc-5be9bc53b5b9');\n",
              "          const dataTable =\n",
              "            await google.colab.kernel.invokeFunction('convertToInteractive',\n",
              "                                                     [key], {});\n",
              "          if (!dataTable) return;\n",
              "\n",
              "          const docLinkHtml = 'Like what you see? Visit the ' +\n",
              "            '<a target=\"_blank\" href=https://colab.research.google.com/notebooks/data_table.ipynb>data table notebook</a>'\n",
              "            + ' to learn more about interactive tables.';\n",
              "          element.innerHTML = '';\n",
              "          dataTable['output_type'] = 'display_data';\n",
              "          await google.colab.output.renderOutput(dataTable, element);\n",
              "          const docLink = document.createElement('div');\n",
              "          docLink.innerHTML = docLinkHtml;\n",
              "          element.appendChild(docLink);\n",
              "        }\n",
              "      </script>\n",
              "    </div>\n",
              "  </div>\n",
              "  "
            ]
          },
          "metadata": {},
          "execution_count": 100
        }
      ]
    },
    {
      "cell_type": "markdown",
      "source": [
        "Con describe, se observa que la columna AGE_x es de tipo objeto, conteniendo cadena de caracteres donde la primera es No Info"
      ],
      "metadata": {
        "id": "E1ytRHNAOWHH"
      }
    },
    {
      "cell_type": "code",
      "source": [
        "df['AGE_x'].describe()"
      ],
      "metadata": {
        "colab": {
          "base_uri": "https://localhost:8080/"
        },
        "id": "i3xVgomQONcs",
        "outputId": "edb055c4-a803-49de-a320-1db21dad96ba"
      },
      "execution_count": 82,
      "outputs": [
        {
          "output_type": "execute_result",
          "data": {
            "text/plain": [
              "count          50\n",
              "unique         26\n",
              "top       No info\n",
              "freq            7\n",
              "Name: AGE_x, dtype: object"
            ]
          },
          "metadata": {},
          "execution_count": 82
        }
      ]
    },
    {
      "cell_type": "markdown",
      "source": [
        "Se confirma que no hay valores Nan ni Null"
      ],
      "metadata": {
        "id": "DrQCygSgO9dO"
      }
    },
    {
      "cell_type": "code",
      "source": [
        "pd.isna(df['AGE_x']).sum()"
      ],
      "metadata": {
        "colab": {
          "base_uri": "https://localhost:8080/"
        },
        "id": "GOPvuM38OsHD",
        "outputId": "9c3bb3ee-e7af-49cf-c50f-f262ca29cfbf"
      },
      "execution_count": 125,
      "outputs": [
        {
          "output_type": "execute_result",
          "data": {
            "text/plain": [
              "0"
            ]
          },
          "metadata": {},
          "execution_count": 125
        }
      ]
    },
    {
      "cell_type": "code",
      "source": [
        "pd.isnull(df['AGE_x']).sum()"
      ],
      "metadata": {
        "colab": {
          "base_uri": "https://localhost:8080/"
        },
        "id": "aAWZ1wyyO1k5",
        "outputId": "de8ed13f-4f8c-4a0a-a680-585d54a548b6"
      },
      "execution_count": 126,
      "outputs": [
        {
          "output_type": "execute_result",
          "data": {
            "text/plain": [
              "0"
            ]
          },
          "metadata": {},
          "execution_count": 126
        }
      ]
    },
    {
      "cell_type": "markdown",
      "source": [
        "Con describe, se observa que la columna AGE_y es de tipo float, con una edad minima de 22 y maxima de 58. Un promedio de 33.27. Con estas estadisticas se entiende que los valores de edad son normales"
      ],
      "metadata": {
        "id": "2KVCRkZwurvS"
      }
    },
    {
      "cell_type": "code",
      "source": [
        "df['AGE_y'].describe()"
      ],
      "metadata": {
        "colab": {
          "base_uri": "https://localhost:8080/"
        },
        "id": "OrTjlOHBPDhC",
        "outputId": "30a9a6fe-8bd4-4b52-be40-75ce6f5ce842"
      },
      "execution_count": 83,
      "outputs": [
        {
          "output_type": "execute_result",
          "data": {
            "text/plain": [
              "count    44.000000\n",
              "mean     33.272727\n",
              "std       9.519536\n",
              "min      22.000000\n",
              "25%      26.000000\n",
              "50%      30.000000\n",
              "75%      39.000000\n",
              "max      58.000000\n",
              "Name: AGE_y, dtype: float64"
            ]
          },
          "metadata": {},
          "execution_count": 83
        }
      ]
    },
    {
      "cell_type": "markdown",
      "source": [
        "Se confirma que hay 7 valores Nan"
      ],
      "metadata": {
        "id": "rXRnluE6vK5v"
      }
    },
    {
      "cell_type": "code",
      "source": [
        "pd.isna(df['AGE_y']).sum()"
      ],
      "metadata": {
        "colab": {
          "base_uri": "https://localhost:8080/"
        },
        "id": "RWWdQ8PJvKFF",
        "outputId": "453a9f44-2eea-4574-b805-8211cedebd36"
      },
      "execution_count": 97,
      "outputs": [
        {
          "output_type": "execute_result",
          "data": {
            "text/plain": [
              "0"
            ]
          },
          "metadata": {},
          "execution_count": 97
        }
      ]
    },
    {
      "cell_type": "code",
      "source": [
        "df['AGE_y'].head()"
      ],
      "metadata": {
        "colab": {
          "base_uri": "https://localhost:8080/"
        },
        "id": "CkgYOVxLv4YV",
        "outputId": "46ecefb3-0a37-487c-81c6-7e6422ae3aff"
      },
      "execution_count": 90,
      "outputs": [
        {
          "output_type": "execute_result",
          "data": {
            "text/plain": [
              "0    24.0\n",
              "1    26.0\n",
              "2    34.0\n",
              "3    37.0\n",
              "4    57.0\n",
              "Name: AGE_y, dtype: float64"
            ]
          },
          "metadata": {},
          "execution_count": 90
        }
      ]
    },
    {
      "cell_type": "code",
      "source": [
        "df['AGE_x'].head()"
      ],
      "metadata": {
        "colab": {
          "base_uri": "https://localhost:8080/"
        },
        "id": "ZOrlBPsZwaFl",
        "outputId": "df0d5456-5f3f-470e-cf01-3ed97db02829"
      },
      "execution_count": 91,
      "outputs": [
        {
          "output_type": "execute_result",
          "data": {
            "text/plain": [
              "0     No info\n",
              "1    26 years\n",
              "2    34 years\n",
              "3    37 years\n",
              "4    57 years\n",
              "Name: AGE_x, dtype: object"
            ]
          },
          "metadata": {},
          "execution_count": 91
        }
      ]
    },
    {
      "cell_type": "markdown",
      "source": [
        "Se plantea la condición para identificar los valores No Info de la columna AGE_x"
      ],
      "metadata": {
        "id": "AbMOt6EJ0M-F"
      }
    },
    {
      "cell_type": "code",
      "source": [
        "df['AGE_x'] == 'No info'"
      ],
      "metadata": {
        "id": "H9bZwTfkw5yJ"
      },
      "execution_count": null,
      "outputs": []
    },
    {
      "cell_type": "markdown",
      "source": [
        "Se reemplaza los Nan de la columna AGE_y por 0 y luego se elimina los dos caracteres de la derecha de cada valor flotante"
      ],
      "metadata": {
        "id": "-NGra6yP0dKv"
      }
    },
    {
      "cell_type": "code",
      "source": [
        "df['AGE_y'] = df['AGE_y'].fillna(0)"
      ],
      "metadata": {
        "id": "7hLFkiDayDYk"
      },
      "execution_count": 96,
      "outputs": []
    },
    {
      "cell_type": "code",
      "source": [
        "df['AGE_y'] = df['AGE_y'].astype(str).str[:-2]"
      ],
      "metadata": {
        "id": "8v-BrlyOxdpG"
      },
      "execution_count": 101,
      "outputs": []
    },
    {
      "cell_type": "markdown",
      "source": [
        "Se plantea la concatenación de la palabra years a la columna AGE_y, de esa forma cuando en la columna AGE_x exista un No info se reemplazará por el valor de la columna AGE_y con el formato deseado"
      ],
      "metadata": {
        "id": "Hy6-7vXk0qCN"
      }
    },
    {
      "cell_type": "code",
      "source": [
        "df['AGE_y']+' years'"
      ],
      "metadata": {
        "id": "LGOHUU9qym_F"
      },
      "execution_count": null,
      "outputs": []
    },
    {
      "cell_type": "code",
      "source": [
        "df['AGE_x'] = np.where(df['AGE_x'] == 'No info', df['AGE_y']+' years', df['AGE_x'])"
      ],
      "metadata": {
        "id": "gGp3hqnFy4C2"
      },
      "execution_count": 105,
      "outputs": []
    },
    {
      "cell_type": "code",
      "source": [
        "df.iloc[:,[10,-3]]"
      ],
      "metadata": {
        "id": "iy7Z3Pu4zgW7"
      },
      "execution_count": null,
      "outputs": []
    },
    {
      "cell_type": "code",
      "source": [
        "df['AGE_x'].nunique()"
      ],
      "metadata": {
        "colab": {
          "base_uri": "https://localhost:8080/"
        },
        "id": "fOLwsZU-zmkZ",
        "outputId": "e4a1327c-0ba9-459a-e31c-11d0a110b30c"
      },
      "execution_count": 107,
      "outputs": [
        {
          "output_type": "execute_result",
          "data": {
            "text/plain": [
              "25"
            ]
          },
          "metadata": {},
          "execution_count": 107
        }
      ]
    },
    {
      "cell_type": "code",
      "source": [
        "df['AGE_x'].describe()"
      ],
      "metadata": {
        "id": "J3QNf-CGzq-t"
      },
      "execution_count": null,
      "outputs": []
    },
    {
      "cell_type": "code",
      "source": [
        "pd.isna(df['AGE_x']).sum()"
      ],
      "metadata": {
        "colab": {
          "base_uri": "https://localhost:8080/"
        },
        "id": "PFnWHl0YzzPC",
        "outputId": "e41db3e6-fce8-45ba-eb6c-20292ceaef4c"
      },
      "execution_count": 109,
      "outputs": [
        {
          "output_type": "execute_result",
          "data": {
            "text/plain": [
              "0"
            ]
          },
          "metadata": {},
          "execution_count": 109
        }
      ]
    },
    {
      "cell_type": "markdown",
      "source": [
        "Se confirma que la columna AGE_x almacena la edad en el formato deseado y todos sus campos contienen valor distinto a Nan o null"
      ],
      "metadata": {
        "id": "NTtMENIHz8X7"
      }
    },
    {
      "cell_type": "code",
      "source": [
        "df = df.drop(labels=[\"AGE_y\"], axis=1)"
      ],
      "metadata": {
        "id": "x-bG45eB6R7R"
      },
      "execution_count": 146,
      "outputs": []
    },
    {
      "cell_type": "markdown",
      "source": [
        "Se elimina la columna AGE_y"
      ],
      "metadata": {
        "id": "kHK7o5Dv6Z77"
      }
    },
    {
      "cell_type": "markdown",
      "source": [
        "# Trabajar sobre columnas **default.payment.next.month**"
      ],
      "metadata": {
        "id": "k8iyc6b11GW-"
      }
    },
    {
      "cell_type": "code",
      "source": [
        "df['default.payment.next.month'].describe()"
      ],
      "metadata": {
        "colab": {
          "base_uri": "https://localhost:8080/"
        },
        "id": "Bnn35xZ91LMd",
        "outputId": "6948155f-a9ea-495e-d91a-28dcbcdc83d2"
      },
      "execution_count": 111,
      "outputs": [
        {
          "output_type": "execute_result",
          "data": {
            "text/plain": [
              "count    50.000000\n",
              "mean      0.260000\n",
              "std       0.443087\n",
              "min       0.000000\n",
              "25%       0.000000\n",
              "50%       0.000000\n",
              "75%       0.750000\n",
              "max       1.000000\n",
              "Name: default.payment.next.month, dtype: float64"
            ]
          },
          "metadata": {},
          "execution_count": 111
        }
      ]
    },
    {
      "cell_type": "markdown",
      "source": [
        "Se detectan valores entre 0 y 1, con un promedio de 0.26."
      ],
      "metadata": {
        "id": "O8qf0Hc41tuj"
      }
    },
    {
      "cell_type": "code",
      "source": [
        "pd.isna(df['default.payment.next.month']).sum()"
      ],
      "metadata": {
        "colab": {
          "base_uri": "https://localhost:8080/"
        },
        "id": "UVnKL0BB1yNr",
        "outputId": "79a9e4bc-d297-4d6c-9e23-e5cd70d7b0ae"
      },
      "execution_count": 113,
      "outputs": [
        {
          "output_type": "execute_result",
          "data": {
            "text/plain": [
              "0"
            ]
          },
          "metadata": {},
          "execution_count": 113
        }
      ]
    },
    {
      "cell_type": "markdown",
      "source": [
        "No se encuentran valores Nan"
      ],
      "metadata": {
        "id": "68r8UOxv18pJ"
      }
    },
    {
      "cell_type": "code",
      "source": [
        "df['default.payment.next.month'].tail()"
      ],
      "metadata": {
        "id": "EIxCUX5c2AOF"
      },
      "execution_count": null,
      "outputs": []
    },
    {
      "cell_type": "code",
      "source": [
        "df_copia = df"
      ],
      "metadata": {
        "id": "neK2FQES2JX9"
      },
      "execution_count": 116,
      "outputs": []
    },
    {
      "cell_type": "code",
      "source": [
        "df.columns"
      ],
      "metadata": {
        "colab": {
          "base_uri": "https://localhost:8080/"
        },
        "id": "GmiCjctT2Lvz",
        "outputId": "c9ad74a6-0a8c-474b-f30f-0696fe353484"
      },
      "execution_count": 117,
      "outputs": [
        {
          "output_type": "execute_result",
          "data": {
            "text/plain": [
              "Index(['ID', 'LIMIT_BAL_x', 'SEX_x', 'BILL_AMT1', 'BILL_AMT2', 'BILL_AMT3',\n",
              "       'BILL_AMT4', 'BILL_AMT5', 'BILL_AMT6', 'LIMIT_BAL_y', 'AGE_x', 'PAY_0',\n",
              "       'PAY_2', 'PAY_3', 'PAY_4', 'PAY_5', 'PAY_6', 'LIMIT_BAL', 'PAY_AMT1',\n",
              "       'PAY_AMT2', 'PAY_AMT3', 'PAY_AMT4', 'PAY_AMT5', 'PAY_AMT6',\n",
              "       'EDUCATION_y', 'AGE_y', 'default.payment.next.month', 'Marriage'],\n",
              "      dtype='object')"
            ]
          },
          "metadata": {},
          "execution_count": 117
        }
      ]
    },
    {
      "cell_type": "code",
      "source": [
        "df.iloc[:,[1,9,17]]"
      ],
      "metadata": {
        "id": "OumzCCcx2QIW"
      },
      "execution_count": null,
      "outputs": []
    },
    {
      "cell_type": "code",
      "source": [
        "pd.isna(df['LIMIT_BAL_x']).sum()"
      ],
      "metadata": {
        "colab": {
          "base_uri": "https://localhost:8080/"
        },
        "id": "n1e0-Wh-2kus",
        "outputId": "b797db2a-acd5-4696-e883-b535986a65d0"
      },
      "execution_count": 121,
      "outputs": [
        {
          "output_type": "execute_result",
          "data": {
            "text/plain": [
              "0"
            ]
          },
          "metadata": {},
          "execution_count": 121
        }
      ]
    },
    {
      "cell_type": "code",
      "source": [
        "pd.isna(df['LIMIT_BAL']).sum()"
      ],
      "metadata": {
        "colab": {
          "base_uri": "https://localhost:8080/"
        },
        "id": "OlHyUZXp2tjO",
        "outputId": "5f8753e9-c477-42e4-ee4c-620a318317d3"
      },
      "execution_count": 122,
      "outputs": [
        {
          "output_type": "execute_result",
          "data": {
            "text/plain": [
              "0"
            ]
          },
          "metadata": {},
          "execution_count": 122
        }
      ]
    },
    {
      "cell_type": "code",
      "source": [
        "pd.isna(df['LIMIT_BAL_y']).sum()"
      ],
      "metadata": {
        "colab": {
          "base_uri": "https://localhost:8080/"
        },
        "id": "Tp4x57P62wl_",
        "outputId": "db333d6d-8f3f-4d1a-e313-43eee2ff8f23"
      },
      "execution_count": 123,
      "outputs": [
        {
          "output_type": "execute_result",
          "data": {
            "text/plain": [
              "0"
            ]
          },
          "metadata": {},
          "execution_count": 123
        }
      ]
    },
    {
      "cell_type": "markdown",
      "source": [
        "Se confirma que no existen valores Nan en ninguna de las tres columnas sobre el limite bal"
      ],
      "metadata": {
        "id": "axs8R9iJ20qG"
      }
    },
    {
      "cell_type": "code",
      "source": [
        "df['LIMIT_BAL_x'].describe()"
      ],
      "metadata": {
        "colab": {
          "base_uri": "https://localhost:8080/"
        },
        "id": "22p-3h-p26Au",
        "outputId": "d714d41b-9d18-45b9-d046-6ce9748f4470"
      },
      "execution_count": 127,
      "outputs": [
        {
          "output_type": "execute_result",
          "data": {
            "text/plain": [
              "count          50\n",
              "unique         27\n",
              "top       50000.0\n",
              "freq           10\n",
              "Name: LIMIT_BAL_x, dtype: object"
            ]
          },
          "metadata": {},
          "execution_count": 127
        }
      ]
    },
    {
      "cell_type": "code",
      "source": [
        "df['LIMIT_BAL_y'].describe()"
      ],
      "metadata": {
        "colab": {
          "base_uri": "https://localhost:8080/"
        },
        "id": "Ay9JuHPX3G0t",
        "outputId": "d02a93ce-1719-4026-ea74-2da65c77030a"
      },
      "execution_count": 126,
      "outputs": [
        {
          "output_type": "execute_result",
          "data": {
            "text/plain": [
              "count          50\n",
              "unique         24\n",
              "top       50000.0\n",
              "freq            9\n",
              "Name: LIMIT_BAL_y, dtype: object"
            ]
          },
          "metadata": {},
          "execution_count": 126
        }
      ]
    },
    {
      "cell_type": "code",
      "source": [
        "df['LIMIT_BAL'].describe()"
      ],
      "metadata": {
        "colab": {
          "base_uri": "https://localhost:8080/"
        },
        "id": "USIWRtLE3Mx_",
        "outputId": "8735b028-9a45-49d7-8dd7-c37150d2b727"
      },
      "execution_count": 128,
      "outputs": [
        {
          "output_type": "execute_result",
          "data": {
            "text/plain": [
              "count          50\n",
              "unique         25\n",
              "top       50000.0\n",
              "freq            8\n",
              "Name: LIMIT_BAL, dtype: object"
            ]
          },
          "metadata": {},
          "execution_count": 128
        }
      ]
    },
    {
      "cell_type": "markdown",
      "source": [
        "Con describe se observa igualdad en el tipo de dato e igual valor superior"
      ],
      "metadata": {
        "id": "FlF9DI-u3pjt"
      }
    },
    {
      "cell_type": "code",
      "source": [
        "(df['LIMIT_BAL_x'] == '-').sum()"
      ],
      "metadata": {
        "colab": {
          "base_uri": "https://localhost:8080/"
        },
        "id": "WvynzcN73ZX5",
        "outputId": "7854f1ac-488b-44a3-df0b-4ff45dd01c5b"
      },
      "execution_count": 131,
      "outputs": [
        {
          "output_type": "execute_result",
          "data": {
            "text/plain": [
              "6"
            ]
          },
          "metadata": {},
          "execution_count": 131
        }
      ]
    },
    {
      "cell_type": "code",
      "source": [
        "(df['LIMIT_BAL_y'] == '-').sum()"
      ],
      "metadata": {
        "colab": {
          "base_uri": "https://localhost:8080/"
        },
        "id": "aXXPVxiR3jxM",
        "outputId": "42e7191b-5e09-4e55-cb9a-1f52f050f880"
      },
      "execution_count": 132,
      "outputs": [
        {
          "output_type": "execute_result",
          "data": {
            "text/plain": [
              "6"
            ]
          },
          "metadata": {},
          "execution_count": 132
        }
      ]
    },
    {
      "cell_type": "code",
      "source": [
        "(df['LIMIT_BAL'] == '-').sum()"
      ],
      "metadata": {
        "colab": {
          "base_uri": "https://localhost:8080/"
        },
        "id": "OvKXnQk93mOr",
        "outputId": "a7b66afc-b9c4-489e-d015-990e2eb28eab"
      },
      "execution_count": 133,
      "outputs": [
        {
          "output_type": "execute_result",
          "data": {
            "text/plain": [
              "6"
            ]
          },
          "metadata": {},
          "execution_count": 133
        }
      ]
    },
    {
      "cell_type": "markdown",
      "source": [
        "Se detecta que cada columna contiene la misma cantidad de registros con guión '-'"
      ],
      "metadata": {
        "id": "VX2rS3Pn318y"
      }
    },
    {
      "cell_type": "code",
      "source": [
        "hola = np.where(df['LIMIT_BAL'] == '-',df['LIMIT_BAL_x'],df['LIMIT_BAL'])"
      ],
      "metadata": {
        "id": "aVgv-Utd4XaY"
      },
      "execution_count": 141,
      "outputs": []
    },
    {
      "cell_type": "code",
      "source": [
        "hola"
      ],
      "metadata": {
        "colab": {
          "base_uri": "https://localhost:8080/"
        },
        "id": "8t4uadku49xl",
        "outputId": "a8e16dee-1f01-40aa-8089-4d7d1c2aa10e"
      },
      "execution_count": 142,
      "outputs": [
        {
          "output_type": "execute_result",
          "data": {
            "text/plain": [
              "array(['20000.0', '120000.0', '90000.0', '50000.0', '50000.0', '50000.0',\n",
              "       '500000.0', '100000.0', '140000.0', '20000.0', '200000.0',\n",
              "       '260000.0', '630000.0', '70000.0', '250000.0', '50000.0',\n",
              "       '20000.0', '320000.0', '360000.0', '180000.0', '130000.0',\n",
              "       '120000.0', '70000.0', '450000.0', '90000.0', '50000.0', '60000.0',\n",
              "       '50000.0', '50000.0', '50000.0', '230000.0', '50000.0', '100000.0',\n",
              "       '500000.0', '500000.0', '160000.0', '280000.0', '60000.0',\n",
              "       '50000.0', '280000.0', '360000.0', '70000.0', '10000.0',\n",
              "       '140000.0', '40000.0', '210000.0', '20000.0', '150000.0',\n",
              "       '380000.0', '20000.0'], dtype=object)"
            ]
          },
          "metadata": {},
          "execution_count": 142
        }
      ]
    },
    {
      "cell_type": "markdown",
      "source": [
        "Como la variable temporal hola me guardo la información sin guiones, significa que con aplicar condicion de existencia entre LIMIT_BAL, y LIMIT_BAL_x, es suficiente."
      ],
      "metadata": {
        "id": "ZAS28F5p5r38"
      }
    },
    {
      "cell_type": "code",
      "source": [
        "df['LIMIT_BAL'] = np.where(df['LIMIT_BAL'] == '-',df['LIMIT_BAL_x'],df['LIMIT_BAL'])"
      ],
      "metadata": {
        "id": "HXYujyst6Aom"
      },
      "execution_count": 143,
      "outputs": []
    },
    {
      "cell_type": "code",
      "source": [
        "df.iloc[:,[1,9,17]]"
      ],
      "metadata": {
        "id": "H0Q6u1vG39Br"
      },
      "execution_count": null,
      "outputs": []
    },
    {
      "cell_type": "code",
      "source": [
        "df.columns"
      ],
      "metadata": {
        "colab": {
          "base_uri": "https://localhost:8080/"
        },
        "id": "M23M_8Iq6K9p",
        "outputId": "916dfd1e-e2c5-4914-a617-d9ac9d4b25f5"
      },
      "execution_count": 147,
      "outputs": [
        {
          "output_type": "execute_result",
          "data": {
            "text/plain": [
              "Index(['ID', 'LIMIT_BAL_x', 'SEX_x', 'BILL_AMT1', 'BILL_AMT2', 'BILL_AMT3',\n",
              "       'BILL_AMT4', 'BILL_AMT5', 'BILL_AMT6', 'LIMIT_BAL_y', 'AGE_x', 'PAY_0',\n",
              "       'PAY_2', 'PAY_3', 'PAY_4', 'PAY_5', 'PAY_6', 'LIMIT_BAL', 'PAY_AMT1',\n",
              "       'PAY_AMT2', 'PAY_AMT3', 'PAY_AMT4', 'PAY_AMT5', 'PAY_AMT6',\n",
              "       'EDUCATION_y', 'default.payment.next.month', 'Marriage'],\n",
              "      dtype='object')"
            ]
          },
          "metadata": {},
          "execution_count": 147
        }
      ]
    },
    {
      "cell_type": "code",
      "source": [
        "df = df.drop(labels=[\"LIMIT_BAL_x\",\"LIMIT_BAL_y\"], axis=1)"
      ],
      "metadata": {
        "id": "49hdrDtg6eEl"
      },
      "execution_count": 149,
      "outputs": []
    },
    {
      "cell_type": "markdown",
      "source": [
        "Comienzo de renombre de columnas y ordenamiento de las columnas"
      ],
      "metadata": {
        "id": "DJ3SfUzsAZGV"
      }
    },
    {
      "cell_type": "code",
      "source": [
        "df.columns"
      ],
      "metadata": {
        "colab": {
          "base_uri": "https://localhost:8080/"
        },
        "id": "uDXuM3Un63HX",
        "outputId": "45796855-1f59-4700-9d4a-80911db4c09e"
      },
      "execution_count": 150,
      "outputs": [
        {
          "output_type": "execute_result",
          "data": {
            "text/plain": [
              "Index(['ID', 'SEX_x', 'BILL_AMT1', 'BILL_AMT2', 'BILL_AMT3', 'BILL_AMT4',\n",
              "       'BILL_AMT5', 'BILL_AMT6', 'AGE_x', 'PAY_0', 'PAY_2', 'PAY_3', 'PAY_4',\n",
              "       'PAY_5', 'PAY_6', 'LIMIT_BAL', 'PAY_AMT1', 'PAY_AMT2', 'PAY_AMT3',\n",
              "       'PAY_AMT4', 'PAY_AMT5', 'PAY_AMT6', 'EDUCATION_y',\n",
              "       'default.payment.next.month', 'Marriage'],\n",
              "      dtype='object')"
            ]
          },
          "metadata": {},
          "execution_count": 150
        }
      ]
    },
    {
      "cell_type": "code",
      "source": [
        "df_copia =df"
      ],
      "metadata": {
        "id": "lmKXJHEY7Bht"
      },
      "execution_count": 151,
      "outputs": []
    },
    {
      "cell_type": "code",
      "source": [
        "dfcopia2 =df #= df_copia"
      ],
      "metadata": {
        "id": "KwUvhz5L7OwQ"
      },
      "execution_count": 163,
      "outputs": []
    },
    {
      "cell_type": "code",
      "source": [
        "dfcopia2.head()"
      ],
      "metadata": {
        "id": "PZ9tZuQ47b6r"
      },
      "execution_count": null,
      "outputs": []
    },
    {
      "cell_type": "code",
      "source": [
        "df.columns"
      ],
      "metadata": {
        "colab": {
          "base_uri": "https://localhost:8080/"
        },
        "id": "vPNlh7im8uaK",
        "outputId": "4c3f46a8-f9e9-4c02-e597-912918039edc"
      },
      "execution_count": 156,
      "outputs": [
        {
          "output_type": "execute_result",
          "data": {
            "text/plain": [
              "Index(['ID', 'SEX_x', 'BILL_AMT1', 'BILL_AMT2', 'BILL_AMT3', 'BILL_AMT4',\n",
              "       'BILL_AMT5', 'BILL_AMT6', 'AGE_x', 'PAY_0', 'PAY_2', 'PAY_3', 'PAY_4',\n",
              "       'PAY_5', 'PAY_6', 'LIMIT_BAL', 'PAY_AMT1', 'PAY_AMT2', 'PAY_AMT3',\n",
              "       'PAY_AMT4', 'PAY_AMT5', 'PAY_AMT6', 'EDUCATION_y',\n",
              "       'default.payment.next.month', 'Marriage'],\n",
              "      dtype='object')"
            ]
          },
          "metadata": {},
          "execution_count": 156
        }
      ]
    },
    {
      "cell_type": "code",
      "source": [
        "dfcopia2.columns = ['ID', 'Sex', 'BILL AMT1', 'BILL AMT2', 'BILL AMT3', 'BILL AMT4',\n",
        "       'BILL AMT5', 'BILL AMT6', 'Age', 'PAY 0', 'PAY 2', 'PAY 3', 'PAY 4',\n",
        "       'PAY 5', 'PAY 6', 'Limit Balance', 'PAY AMT1', 'PAY AMT2', 'PAY AMT3',\n",
        "       'PAY AMT4', 'PAY AMT5', 'PAY AMT6', 'Education',\n",
        "       'default payment next month', 'Marriage']"
      ],
      "metadata": {
        "id": "7ndCaJ_Y7RRN"
      },
      "execution_count": 157,
      "outputs": []
    },
    {
      "cell_type": "code",
      "source": [
        "df.columns = ['ID', 'Sex', 'BILL AMT1', 'BILL AMT2', 'BILL AMT3', 'BILL AMT4',\n",
        "       'BILL AMT5', 'BILL AMT6', 'Age', 'PAY 0', 'PAY 2', 'PAY 3', 'PAY 4',\n",
        "       'PAY 5', 'PAY 6', 'Limit Balance', 'PAY AMT1', 'PAY AMT2', 'PAY AMT3',\n",
        "       'PAY AMT4', 'PAY AMT5', 'PAY AMT6', 'Education',\n",
        "       'default payment next month', 'Marriage']"
      ],
      "metadata": {
        "id": "Kn1qCyrY9YGC"
      },
      "execution_count": 159,
      "outputs": []
    },
    {
      "cell_type": "code",
      "source": [
        "df.columns"
      ],
      "metadata": {
        "colab": {
          "base_uri": "https://localhost:8080/"
        },
        "id": "HgLrXUuy9aYR",
        "outputId": "f8b2ff08-bb04-4de1-e65e-9715623798c3"
      },
      "execution_count": 166,
      "outputs": [
        {
          "output_type": "execute_result",
          "data": {
            "text/plain": [
              "Index(['ID', 'Limit Balance', 'Sex', 'Education', 'Marriage', 'Age', 'PAY 0',\n",
              "       'PAY 2', 'PAY 3', 'PAY 4', 'PAY 5', 'PAY 6', 'BILL AMT1', 'BILL AMT2',\n",
              "       'BILL AMT3', 'BILL AMT4', 'BILL AMT5', 'BILL AMT6', 'PAY AMT1',\n",
              "       'PAY AMT2', 'PAY AMT3', 'PAY AMT4', 'PAY AMT5', 'PAY AMT6',\n",
              "       'default payment next month'],\n",
              "      dtype='object')"
            ]
          },
          "metadata": {},
          "execution_count": 166
        }
      ]
    },
    {
      "cell_type": "code",
      "source": [
        "dfcopia2.columns = ['ID', 'Limit Balance', 'Sex', 'Education', 'Marriage', 'Age',\n",
        "                    'PAY 0', 'PAY 2', 'PAY 3', 'PAY 4','PAY 5', 'PAY 6',\n",
        "                    'BILL AMT1', 'BILL AMT2', 'BILL AMT3', 'BILL AMT4','BILL AMT5', 'BILL AMT6', \n",
        "                    'PAY AMT1', 'PAY AMT2', 'PAY AMT3','PAY AMT4', 'PAY AMT5', 'PAY AMT6',           \n",
        "                   'default payment next month']"
      ],
      "metadata": {
        "id": "_5DP0am59dtb"
      },
      "execution_count": 161,
      "outputs": []
    },
    {
      "cell_type": "code",
      "source": [
        "df.columns = ['ID', 'SEX_x', 'BILL_AMT1', 'BILL_AMT2', 'BILL_AMT3', 'BILL_AMT4',\n",
        "       'BILL_AMT5', 'BILL_AMT6', 'AGE_x', 'PAY_0', 'PAY_2', 'PAY_3', 'PAY_4',\n",
        "       'PAY_5', 'PAY_6', 'LIMIT_BAL', 'PAY_AMT1', 'PAY_AMT2', 'PAY_AMT3',\n",
        "       'PAY_AMT4', 'PAY_AMT5', 'PAY_AMT6', 'EDUCATION_y',\n",
        "       'default.payment.next.month', 'Marriage']"
      ],
      "metadata": {
        "id": "wiKfp-6k96o6"
      },
      "execution_count": 168,
      "outputs": []
    },
    {
      "cell_type": "code",
      "source": [
        "df.head()"
      ],
      "metadata": {
        "id": "BXW-7Vxq-zGd"
      },
      "execution_count": null,
      "outputs": []
    },
    {
      "cell_type": "code",
      "source": [
        "df_copia = df"
      ],
      "metadata": {
        "id": "cPhEBO5z-6CL"
      },
      "execution_count": 170,
      "outputs": []
    },
    {
      "cell_type": "code",
      "source": [
        "df_copia = df_copia[['ID', 'LIMIT_BAL', 'SEX_x', 'EDUCATION_y', 'Marriage', 'AGE_x',\n",
        "                    'PAY_0', 'PAY_2', 'PAY_3', 'PAY_4','PAY_5', 'PAY_6',\n",
        "                    'BILL_AMT1', 'BILL_AMT2', 'BILL_AMT3', 'BILL_AMT4','BILL_AMT5', 'BILL_AMT6', \n",
        "                    'PAY_AMT1', 'PAY_AMT2', 'PAY_AMT3','PAY_AMT4', 'PAY_AMT5', 'PAY_AMT6',           \n",
        "                    'default.payment.next.month']]"
      ],
      "metadata": {
        "id": "tGEZksY8-9HG"
      },
      "execution_count": 173,
      "outputs": []
    },
    {
      "cell_type": "code",
      "source": [
        "df.head()"
      ],
      "metadata": {
        "id": "x_rOdnjY_kfV"
      },
      "execution_count": null,
      "outputs": []
    },
    {
      "cell_type": "markdown",
      "source": [
        "Con la función reindex, reposicione las columnas con sus valores incluso"
      ],
      "metadata": {
        "id": "P5aqp_fAARoe"
      }
    },
    {
      "cell_type": "code",
      "source": [
        "df = df.reindex(columns=['ID', 'LIMIT_BAL', 'SEX_x', 'EDUCATION_y', 'Marriage', 'AGE_x',\n",
        "                    'PAY_0', 'PAY_2', 'PAY_3', 'PAY_4','PAY_5', 'PAY_6',\n",
        "                    'BILL_AMT1', 'BILL_AMT2', 'BILL_AMT3', 'BILL_AMT4','BILL_AMT5', 'BILL_AMT6', \n",
        "                    'PAY_AMT1', 'PAY_AMT2', 'PAY_AMT3','PAY_AMT4', 'PAY_AMT5', 'PAY_AMT6',           \n",
        "                    'default.payment.next.month'])"
      ],
      "metadata": {
        "id": "4RtPcnMv_xaV"
      },
      "execution_count": 176,
      "outputs": []
    },
    {
      "cell_type": "code",
      "source": [
        "df_copia =df"
      ],
      "metadata": {
        "id": "NvsIp24h_-KJ"
      },
      "execution_count": 178,
      "outputs": []
    },
    {
      "cell_type": "markdown",
      "source": [
        "Solo les cambie el nombre "
      ],
      "metadata": {
        "id": "eq3WYJ7KAS8j"
      }
    },
    {
      "cell_type": "code",
      "source": [
        "df.columns = ['ID', 'Limit Balance', 'Sex', 'Education', 'Marriage', 'Age',\n",
        "                    'PAY 0', 'PAY 2', 'PAY 3', 'PAY 4','PAY 5', 'PAY 6',\n",
        "                    'BILL AMT1', 'BILL AMT2', 'BILL AMT3', 'BILL AMT4','BILL AMT5', 'BILL AMT6', \n",
        "                    'PAY AMT1', 'PAY AMT2', 'PAY AMT3','PAY AMT4', 'PAY AMT5', 'PAY AMT6',           \n",
        "                   'default payment next month']"
      ],
      "metadata": {
        "id": "XIwQIY6C_5SO"
      },
      "execution_count": 179,
      "outputs": []
    },
    {
      "cell_type": "code",
      "source": [
        "df.head()"
      ],
      "metadata": {
        "id": "02Q3mGn0AEhI"
      },
      "execution_count": null,
      "outputs": []
    },
    {
      "cell_type": "markdown",
      "source": [
        "# **Crear nuevo dataframe y guardar en archivo**"
      ],
      "metadata": {
        "id": "JPpSlNV8Ahwu"
      }
    },
    {
      "cell_type": "markdown",
      "source": [
        ""
      ],
      "metadata": {
        "id": "E-TzpHrrCAdu"
      }
    },
    {
      "cell_type": "code",
      "source": [
        "df.to_csv('MiniProyecto1_FabiolaEscobar.csv', sep=',')"
      ],
      "metadata": {
        "id": "YLflAH0OAjyF"
      },
      "execution_count": 185,
      "outputs": []
    },
    {
      "cell_type": "code",
      "source": [
        "df_sub2 = pd.read_csv('MiniProyecto1_FabiolaEscobar.csv', sep=',')\n",
        "df_sub2.head()\n"
      ],
      "metadata": {
        "id": "eDKCAV-RBGsg"
      },
      "execution_count": null,
      "outputs": []
    }
  ]
}